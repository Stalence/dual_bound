{
 "cells": [
  {
   "cell_type": "code",
   "execution_count": 5,
   "id": "6be73e4c-8246-44a4-ad2f-45baf9f3f7ec",
   "metadata": {},
   "outputs": [
    {
     "name": "stdout",
     "output_type": "stream",
     "text": [
      "PROTEINS length: 1113.0\n",
      "PROTEINS SDP: 24.638019062866526\n",
      "PROTEINS rounded: 23.172506738544474\n",
      "PROTEINS gurobi: 23.260557053009883\n",
      "ENZYMES length: 600.0\n",
      "ENZYMES SDP: 20.660313673814137\n",
      "ENZYMES rounded: 19.56\n",
      "ENZYMES gurobi: 19.573333333333334\n",
      "COLLAB length: 5000.0\n",
      "COLLAB SDP: 70.9906649263382\n",
      "COLLAB rounded: 67.7261\n",
      "COLLAB gurobi: 68.0949\n",
      "IMDB-BINARY length: 1000.0\n",
      "IMDB-BINARY SDP: 8.02489567041397\n",
      "IMDB-BINARY rounded: 7.6635\n",
      "IMDB-BINARY gurobi: 7.6645\n",
      "MUTAG length: 188.0\n",
      "MUTAG SDP: 10.710323310912923\n",
      "MUTAG rounded: 10.534574468085106\n",
      "MUTAG gurobi: 10.534574468085106\n"
     ]
    }
   ],
   "source": [
    "import json\n",
    "import os\n",
    "from pathlib import Path\n",
    "\n",
    "runs_folder = Path('../baseline_runs/230821_TU')\n",
    "for dataset in ['PROTEINS', 'ENZYMES', 'COLLAB', 'IMDB-BINARY', 'MUTAG']:\n",
    "    results = []\n",
    "    total_sdp_score = 0.\n",
    "    total_hyperplane_score = 0.\n",
    "    total_gurobi_score = 0.\n",
    "    with open(runs_folder / dataset / 'results.jsonl', 'r') as f:\n",
    "        for line in f:\n",
    "            res = json.loads(line)\n",
    "            if res['method'] == 'sdp':\n",
    "                total_sdp_score += res['score']\n",
    "            elif res['method'] == 'sdp|random_hyperplane':\n",
    "                total_hyperplane_score += res['score']\n",
    "            elif res['method'] == 'gurobi':\n",
    "                total_gurobi_score += res['score']\n",
    "            results.append(res)\n",
    "    length = len(results) / 4\n",
    "    print(f\"{dataset} length: {length}\")\n",
    "    print(f\"{dataset} SDP: {total_sdp_score / length}\")\n",
    "    print(f\"{dataset} rounded: {total_hyperplane_score / length}\")\n",
    "    print(f\"{dataset} gurobi: {total_gurobi_score / length}\")"
   ]
  }
 ],
 "metadata": {
  "kernelspec": {
   "display_name": "Python 3 (ipykernel)",
   "language": "python",
   "name": "python3"
  },
  "language_info": {
   "codemirror_mode": {
    "name": "ipython",
    "version": 3
   },
   "file_extension": ".py",
   "mimetype": "text/x-python",
   "name": "python",
   "nbconvert_exporter": "python",
   "pygments_lexer": "ipython3",
   "version": "3.11.3"
  }
 },
 "nbformat": 4,
 "nbformat_minor": 5
}
