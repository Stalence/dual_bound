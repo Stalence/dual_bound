{
 "cells": [
  {
   "cell_type": "code",
   "execution_count": 7,
   "id": "6be73e4c-8246-44a4-ad2f-45baf9f3f7ec",
   "metadata": {},
   "outputs": [
    {
     "name": "stdout",
     "output_type": "stream",
     "text": [
      "PROTEINS length: 4000\n",
      "PROTEINS SDP: 154.70478749084472\n",
      "PROTEINS rounded: 130.2275\n",
      "PROTEINS gurobi: 132.2695\n",
      "ENZYMES length: 4000\n",
      "ENZYMES SDP: 154.70478749084472\n",
      "ENZYMES rounded: 130.2745\n",
      "ENZYMES gurobi: 132.2695\n",
      "COLLAB length: 4000\n",
      "COLLAB SDP: 154.70478749084472\n",
      "COLLAB rounded: 130.2345\n",
      "COLLAB gurobi: 132.2695\n",
      "IMDB-BINARY length: 4000\n",
      "IMDB-BINARY SDP: 154.70478749084472\n",
      "IMDB-BINARY rounded: 130.2475\n",
      "IMDB-BINARY gurobi: 132.2695\n",
      "MUTAG length: 4000\n",
      "MUTAG SDP: 154.70478749084472\n",
      "MUTAG rounded: 130.2525\n",
      "MUTAG gurobi: 132.2705\n"
     ]
    }
   ],
   "source": [
    "import json\n",
    "import os\n",
    "from pathlib import Path\n",
    "\n",
    "runs_folder = Path('baseline_runs/230819_TU')\n",
    "for dataset in ['PROTEINS', 'ENZYMES', 'COLLAB', 'IMDB-BINARY', 'MUTAG']:\n",
    "    results = []\n",
    "    total_sdp_score = 0.\n",
    "    total_hyperplane_score = 0.\n",
    "    total_gurobi_score = 0.\n",
    "    with open(runs_folder / dataset / 'results.jsonl', 'r') as f:\n",
    "        for line in f:\n",
    "            res = json.loads(line)\n",
    "            if res['method'] == 'sdp':\n",
    "                total_sdp_score += res['score']\n",
    "            elif res['method'] == 'sdp|random_hyperplane':\n",
    "                total_hyperplane_score += res['score']\n",
    "            elif res['method'] == 'gurobi':\n",
    "                total_gurobi_score += res['score']\n",
    "            results.append(res)\n",
    "    print(f\"{dataset} length: {len(results)}\")\n",
    "    print(f\"{dataset} SDP: {total_sdp_score / (len(results) / 4)}\")\n",
    "    print(f\"{dataset} rounded: {total_hyperplane_score / (len(results) / 4)}\")\n",
    "    print(f\"{dataset} gurobi: {total_gurobi_score / (len(results) / 4)}\")"
   ]
  }
 ],
 "metadata": {
  "kernelspec": {
   "display_name": "Python 3 (ipykernel)",
   "language": "python",
   "name": "python3"
  },
  "language_info": {
   "codemirror_mode": {
    "name": "ipython",
    "version": 3
   },
   "file_extension": ".py",
   "mimetype": "text/x-python",
   "name": "python",
   "nbconvert_exporter": "python",
   "pygments_lexer": "ipython3",
   "version": "3.11.3"
  }
 },
 "nbformat": 4,
 "nbformat_minor": 5
}
