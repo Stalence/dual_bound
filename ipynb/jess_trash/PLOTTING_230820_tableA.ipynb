{
 "cells": [
  {
   "cell_type": "code",
   "execution_count": 21,
   "metadata": {},
   "outputs": [],
   "source": [
    "models = ['GIN', 'GAT', 'GCNN', 'GatedGCNN']\n",
    "# note, no twitter.\n",
    "TUdataset_names = [\"RANDOM\",'ENZYMES', 'PROTEINS', 'IMDB-BINARY', 'MUTAG', 'COLLAB']\n",
    "prefix = \"230824_finetuning_short\""
   ]
  },
  {
   "cell_type": "code",
   "execution_count": 22,
   "metadata": {},
   "outputs": [],
   "source": [
    "import os\n",
    "import json\n",
    "import pandas as pd\n",
    "import numpy as np\n",
    "\n",
    "folder_path = '/home/bcjexu/maxcut-80/bespoke-gnn4do/training_runs'\n",
    "model_list = [os.path.join(folder_path,x) for x in os.listdir(folder_path) if x.startswith(prefix)]\n",
    "\n",
    "df = pd.DataFrame(columns=TUdataset_names)\n",
    "\n",
    "# load in params\n",
    "for model_folder in model_list:\n",
    "    try:\n",
    "        with open(os.path.join(model_folder, 'params.txt'), 'r') as f:\n",
    "            model_args = json.load(f)\n",
    "        losses = np.load(os.path.join(model_folder, 'valid_scores.npy'))\n",
    "        df.at[model_args['model_type'], model_args['TUdataset_name']] = losses[-1]\n",
    "    except:\n",
    "        print(f'something is wrong w/ {model_folder}')\n",
    "        "
   ]
  },
  {
   "cell_type": "code",
   "execution_count": 23,
   "metadata": {},
   "outputs": [
    {
     "data": {
      "text/html": [
       "<div>\n",
       "<style scoped>\n",
       "    .dataframe tbody tr th:only-of-type {\n",
       "        vertical-align: middle;\n",
       "    }\n",
       "\n",
       "    .dataframe tbody tr th {\n",
       "        vertical-align: top;\n",
       "    }\n",
       "\n",
       "    .dataframe thead th {\n",
       "        text-align: right;\n",
       "    }\n",
       "</style>\n",
       "<table border=\"1\" class=\"dataframe\">\n",
       "  <thead>\n",
       "    <tr style=\"text-align: right;\">\n",
       "      <th></th>\n",
       "      <th>RANDOM</th>\n",
       "      <th>ENZYMES</th>\n",
       "      <th>PROTEINS</th>\n",
       "      <th>IMDB-BINARY</th>\n",
       "      <th>MUTAG</th>\n",
       "      <th>COLLAB</th>\n",
       "    </tr>\n",
       "  </thead>\n",
       "  <tbody>\n",
       "    <tr>\n",
       "      <th>GAT</th>\n",
       "      <td>864.1725</td>\n",
       "      <td>77.25</td>\n",
       "      <td>98.426009</td>\n",
       "      <td>77.93</td>\n",
       "      <td>29.473684</td>\n",
       "      <td>2525.8735</td>\n",
       "    </tr>\n",
       "    <tr>\n",
       "      <th>GCNN</th>\n",
       "      <td>821.4825</td>\n",
       "      <td>58.7</td>\n",
       "      <td>76.06278</td>\n",
       "      <td>62.085</td>\n",
       "      <td>20.052632</td>\n",
       "      <td>2022.733</td>\n",
       "    </tr>\n",
       "    <tr>\n",
       "      <th>GIN</th>\n",
       "      <td>816.5625</td>\n",
       "      <td>66.633333</td>\n",
       "      <td>86.103139</td>\n",
       "      <td>68.185</td>\n",
       "      <td>26.026316</td>\n",
       "      <td>2097.222</td>\n",
       "    </tr>\n",
       "    <tr>\n",
       "      <th>GatedGCNN</th>\n",
       "      <td>869.8975</td>\n",
       "      <td>78.366667</td>\n",
       "      <td>100.408072</td>\n",
       "      <td>89.24</td>\n",
       "      <td>29.657895</td>\n",
       "      <td>2010.601</td>\n",
       "    </tr>\n",
       "  </tbody>\n",
       "</table>\n",
       "</div>"
      ],
      "text/plain": [
       "             RANDOM    ENZYMES    PROTEINS IMDB-BINARY      MUTAG     COLLAB\n",
       "GAT        864.1725      77.25   98.426009       77.93  29.473684  2525.8735\n",
       "GCNN       821.4825       58.7    76.06278      62.085  20.052632   2022.733\n",
       "GIN        816.5625  66.633333   86.103139      68.185  26.026316   2097.222\n",
       "GatedGCNN  869.8975  78.366667  100.408072       89.24  29.657895   2010.601"
      ]
     },
     "execution_count": 23,
     "metadata": {},
     "output_type": "execute_result"
    }
   ],
   "source": [
    "df"
   ]
  },
  {
   "cell_type": "code",
   "execution_count": 20,
   "metadata": {},
   "outputs": [
    {
     "name": "stdout",
     "output_type": "stream",
     "text": [
      "something is wrong w/ /home/bcjexu/maxcut-80/bespoke-gnn4do/training_runs/230824_finetuning_short_paramhash:16331f861d266bb999d89e9cb9210078f1e6f374263775add85bc17ab6f6c27e\n",
      "something is wrong w/ /home/bcjexu/maxcut-80/bespoke-gnn4do/training_runs/230824_finetuning_short_paramhash:d7ca8716fff3f6775825d0d3c168664cd0e82e9277c7e79026e829e291b6c6f4\n",
      "'/home/bcjexu/maxcut-80/bespoke-gnn4do/training_runs/230824_finetuning_short_paramhash:0fdcb2a6cba004bef9d607938f4d01962d123caef6408be674f6abd7e9618451/model_step100000.pt',\n",
      "'/home/bcjexu/maxcut-80/bespoke-gnn4do/training_runs/230824_finetuning_short_paramhash:f0be7b21f862a57a441e2f25f9562cce65ceac2fea5c4103f7075c4633b8720f/model_step100000.pt',\n",
      "'/home/bcjexu/maxcut-80/bespoke-gnn4do/training_runs/230824_finetuning_short_paramhash:d869f01eba57728ca1ecc0698f5ac5409876df6e75b3fa3adcce11434562fcbd/model_step100000.pt',\n",
      "something is wrong w/ /home/bcjexu/maxcut-80/bespoke-gnn4do/training_runs/230824_finetuning_short_paramhash:2d134cbf031eadf941942847cc4be2a0173a6c3865bf3faa8d3d11d30f40e8f6\n",
      "'/home/bcjexu/maxcut-80/bespoke-gnn4do/training_runs/230824_finetuning_short_paramhash:a71e157a397d31272211afe89dcfc78c77089c29eddea228c823a601ee449164/model_step100000.pt',\n",
      "something is wrong w/ /home/bcjexu/maxcut-80/bespoke-gnn4do/training_runs/230824_finetuning_short_paramhash:624ca3bda40cf15f44f2c5cb14f23a8cadf0bd82a2c0b977801fce679deb2052\n"
     ]
    }
   ],
   "source": [
    "for model_folder in model_list:\n",
    "    try:\n",
    "        with open(os.path.join(model_folder, 'params.txt'), 'r') as f:\n",
    "            model_args = json.load(f)\n",
    "        losses = np.load(os.path.join(model_folder, 'valid_losses.npy'))\n",
    "        #print(model_args.keys())\n",
    "        if model_args['TUdataset_name'] == \"ENZYMES\":\n",
    "            print(f\"'{model_folder}/model_step100000.pt',\")\n",
    "    except:\n",
    "        print(f'something is wrong w/ {model_folder}')"
   ]
  },
  {
   "cell_type": "code",
   "execution_count": null,
   "metadata": {},
   "outputs": [],
   "source": []
  }
 ],
 "metadata": {
  "kernelspec": {
   "display_name": "maxcut-80",
   "language": "python",
   "name": "python3"
  },
  "language_info": {
   "codemirror_mode": {
    "name": "ipython",
    "version": 3
   },
   "file_extension": ".py",
   "mimetype": "text/x-python",
   "name": "python",
   "nbconvert_exporter": "python",
   "pygments_lexer": "ipython3",
   "version": "3.11.3"
  },
  "orig_nbformat": 4
 },
 "nbformat": 4,
 "nbformat_minor": 2
}
