{
 "cells": [
  {
   "cell_type": "code",
   "execution_count": 6,
   "metadata": {},
   "outputs": [],
   "source": [
    "models = ['GIN', 'GAT', 'GCNN', 'GatedGCNN']\n",
    "# note, no twitter.\n",
    "TUdataset_names = ['ENZYMES', 'PROTEINS', 'IMDB-BINARY', 'MUTAG', 'COLLAB']\n",
    "prefix = \"230824_finetuning_short\""
   ]
  },
  {
   "cell_type": "code",
   "execution_count": 7,
   "metadata": {},
   "outputs": [
    {
     "name": "stdout",
     "output_type": "stream",
     "text": [
      "python train.py --epochs=1 --prefix=230824_finetuning_short --model_type=GIN --TUdataset_name=ENZYMES --dataset=TU\n",
      "python train.py --epochs=1 --prefix=230824_finetuning_short --model_type=GIN --TUdataset_name=PROTEINS --dataset=TU\n",
      "python train.py --epochs=1 --prefix=230824_finetuning_short --model_type=GIN --TUdataset_name=IMDB-BINARY --dataset=TU\n",
      "python train.py --epochs=1 --prefix=230824_finetuning_short --model_type=GIN --TUdataset_name=MUTAG --dataset=TU\n",
      "python train.py --epochs=1 --prefix=230824_finetuning_short --model_type=GIN --TUdataset_name=COLLAB --dataset=TU\n",
      "python train.py --epochs=1 --prefix=230824_finetuning_short --model_type=GAT --TUdataset_name=ENZYMES --dataset=TU\n",
      "python train.py --epochs=1 --prefix=230824_finetuning_short --model_type=GAT --TUdataset_name=PROTEINS --dataset=TU\n",
      "python train.py --epochs=1 --prefix=230824_finetuning_short --model_type=GAT --TUdataset_name=IMDB-BINARY --dataset=TU\n",
      "python train.py --epochs=1 --prefix=230824_finetuning_short --model_type=GAT --TUdataset_name=MUTAG --dataset=TU\n",
      "python train.py --epochs=1 --prefix=230824_finetuning_short --model_type=GAT --TUdataset_name=COLLAB --dataset=TU\n",
      "python train.py --epochs=1 --prefix=230824_finetuning_short --model_type=GCNN --TUdataset_name=ENZYMES --dataset=TU\n",
      "python train.py --epochs=1 --prefix=230824_finetuning_short --model_type=GCNN --TUdataset_name=PROTEINS --dataset=TU\n",
      "python train.py --epochs=1 --prefix=230824_finetuning_short --model_type=GCNN --TUdataset_name=IMDB-BINARY --dataset=TU\n",
      "python train.py --epochs=1 --prefix=230824_finetuning_short --model_type=GCNN --TUdataset_name=MUTAG --dataset=TU\n",
      "python train.py --epochs=1 --prefix=230824_finetuning_short --model_type=GCNN --TUdataset_name=COLLAB --dataset=TU\n",
      "python train.py --epochs=1 --prefix=230824_finetuning_short --model_type=GatedGCNN --TUdataset_name=ENZYMES --dataset=TU\n",
      "python train.py --epochs=1 --prefix=230824_finetuning_short --model_type=GatedGCNN --TUdataset_name=PROTEINS --dataset=TU\n",
      "python train.py --epochs=1 --prefix=230824_finetuning_short --model_type=GatedGCNN --TUdataset_name=IMDB-BINARY --dataset=TU\n",
      "python train.py --epochs=1 --prefix=230824_finetuning_short --model_type=GatedGCNN --TUdataset_name=MUTAG --dataset=TU\n",
      "python train.py --epochs=1 --prefix=230824_finetuning_short --model_type=GatedGCNN --TUdataset_name=COLLAB --dataset=TU\n"
     ]
    }
   ],
   "source": [
    "for model in models:\n",
    "    for TUdataset_name in TUdataset_names:\n",
    "        print(f\"python train.py --epochs=1 --prefix={prefix} --model_type={model} --TUdataset_name={TUdataset_name} --dataset=TU\")"
   ]
  },
  {
   "cell_type": "code",
   "execution_count": null,
   "metadata": {},
   "outputs": [],
   "source": [
    "# testing finetuning\n",
    "python train.py --epochs=1 --prefix=230824_finetune_test --TUdataset_name=ENZYMES --finetune_from=/home/bcjexu/maxcut-80/bespoke-gnn4do/training_runs/230822_test3_paramhash:dea4b1fe5c3a1a23f8f062c25d2b677d6b8bf979de4787480f7af2125241ded9/model_step100000.pt"
   ]
  },
  {
   "cell_type": "code",
   "execution_count": null,
   "metadata": {},
   "outputs": [],
   "source": [
    "# testing project nw\n",
    "\n",
    "python train.py --steps=100 --epochs=1 --prefix=230830_project_test --TUdataset_name=ENZYMES --model_type=ProjectMP --lift_file=/home/bcjexu/maxcut-80/bespoke-gnn4do/training_runs/230824_finetuning_short_paramhash:d7ca8716fff3f6775825d0d3c168664cd0e82e9277c7e79026e829e291b6c6f4/model_step5000.pt"
   ]
  },
  {
   "cell_type": "code",
   "execution_count": null,
   "metadata": {},
   "outputs": [],
   "source": [
    "# testing vc\n",
    "python train.py  --steps=100 --epochs=1 --model_type=GAT --problem_type=vertex_cover --prefix=Testing\n"
   ]
  },
  {
   "cell_type": "code",
   "execution_count": null,
   "metadata": {},
   "outputs": [],
   "source": [
    "# testing pretraining 2\n",
    "\n"
   ]
  }
 ],
 "metadata": {
  "kernelspec": {
   "display_name": "maxcut-80",
   "language": "python",
   "name": "python3"
  },
  "language_info": {
   "codemirror_mode": {
    "name": "ipython",
    "version": 3
   },
   "file_extension": ".py",
   "mimetype": "text/x-python",
   "name": "python",
   "nbconvert_exporter": "python",
   "pygments_lexer": "ipython3",
   "version": "3.11.3"
  },
  "orig_nbformat": 4
 },
 "nbformat": 4,
 "nbformat_minor": 2
}
