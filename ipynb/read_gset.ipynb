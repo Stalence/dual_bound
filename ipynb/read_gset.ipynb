{
 "cells": [
  {
   "cell_type": "code",
   "execution_count": 10,
   "metadata": {},
   "outputs": [],
   "source": [
    "import os\n",
    "from os import listdir\n",
    "from os.path import isfile, join\n",
    "import networkx as nx\n",
    "import numpy as np\n",
    "import torch_geometric\n",
    "from torch_geometric.utils import from_networkx\n",
    "import torch\n",
    "import re\n"
   ]
  },
  {
   "cell_type": "markdown",
   "metadata": {},
   "source": [
    "##  Set the gset folder path as you prefer"
   ]
  },
  {
   "cell_type": "code",
   "execution_count": 11,
   "metadata": {},
   "outputs": [],
   "source": [
    "#Directory stuff\n",
    "current_directory = os.getcwd()\n",
    "gset_directory = \"GSET\"\n",
    "gset_path = current_directory+\"/\"+gset_directory"
   ]
  },
  {
   "cell_type": "code",
   "execution_count": 12,
   "metadata": {},
   "outputs": [
    {
     "data": {
      "text/plain": [
       "'/home/stalence/repositories/GSET'"
      ]
     },
     "execution_count": 12,
     "metadata": {},
     "output_type": "execute_result"
    }
   ],
   "source": [
    "gset_path"
   ]
  },
  {
   "cell_type": "code",
   "execution_count": 13,
   "metadata": {},
   "outputs": [],
   "source": [
    "#function for reading the gset files\n",
    "def load_mtx(path):\n",
    "    with open(path, 'r') as f:\n",
    "        g = nx.Graph()\n",
    "        weights = []\n",
    "        first_line = True\n",
    "        for line in f:\n",
    "            if not line[0] == '%':\n",
    "                s = line.split()\n",
    "                if first_line:\n",
    "                    g.add_nodes_from(range(int(s[0])))\n",
    "                    first_line = False\n",
    "                else:\n",
    "                    g.add_edge(int(s[0]) - 1, int(s[1]) - 1)\n",
    "                    if len(s) > 2:\n",
    "                        weights.append(int(s[2]))\n",
    "    if len(weights) < g.number_of_edges():\n",
    "        weights = None\n",
    "    else:\n",
    "        weights = np.int64(weights)\n",
    "    return g, weights\n"
   ]
  },
  {
   "cell_type": "code",
   "execution_count": 14,
   "metadata": {},
   "outputs": [],
   "source": [
    "#Prepping the dataset\n",
    "graphs_and_weights = {}\n",
    "optimal_values = []\n",
    "counter = 0\n",
    "notgs = 0\n",
    "gs = []\n",
    "for file in listdir(gset_path):\n",
    "    tokens = file.split('.')    \n",
    "    if len(tokens)==2 and 'mtx' in tokens[1]:\n",
    "        counter+=1\n",
    "        g, weights = load_mtx(gset_path+ '/'+file)\n",
    "        graphs_and_weights[tokens[0]]=[g,weights]\n",
    "    for token in tokens:\n",
    "        if 'txt' in token:\n",
    "            with open(gset_path+ '/'+file, mode='r',  encoding='utf-8-sig') as f:\n",
    "                lines = f.readlines()\n",
    "                for chunk in lines:\n",
    "                    splitline = chunk.split('\\t')\n",
    "                    if not 'G' in chunk:\n",
    "                        notgs+=1\n",
    "                        optimal = splitline[1].split('(')[0]\n",
    "                        optimal = optimal.replace(\".\",\"\")\n",
    "                        optimal = optimal.replace(\",\",\"\")\n",
    "                        optimal_values+=[optimal]\n",
    "                    else:\n",
    "                        notgs+=1\n",
    "                        currg = splitline[0]\n",
    "                        gs+=[currg]\n",
    "                    parts = re.split('\\n | \\t', chunk)\n",
    "                    \n"
   ]
  },
  {
   "cell_type": "code",
   "execution_count": 15,
   "metadata": {},
   "outputs": [],
   "source": [
    "best_known_gs = {}\n",
    "for g,opt in zip(gs,optimal_values):\n",
    "    best_known_gs[g]=opt"
   ]
  },
  {
   "cell_type": "code",
   "execution_count": 16,
   "metadata": {},
   "outputs": [],
   "source": [
    "for g in graphs_and_weights.keys():\n",
    "    graphs_and_weights[g]+=[best_known_gs[g]]"
   ]
  },
  {
   "cell_type": "code",
   "execution_count": 17,
   "metadata": {},
   "outputs": [
    {
     "name": "stdout",
     "output_type": "stream",
     "text": [
      "9541\n"
     ]
    }
   ],
   "source": [
    "pyg_dataset = []\n",
    "for graph in graphs_and_weights.keys():\n",
    "    pyg_graph = from_networkx(graphs_and_weights[graph][0])\n",
    "    if graphs_and_weights[graph][1] is None:\n",
    "        pyg_graph.weights = torch.ones(graphs_and_weights[graph][0].number_of_nodes(),graphs_and_weights[graph][0].number_of_nodes())\n",
    "    else:\n",
    "        pyg_graph.weights = torch.FloatTensor(graphs_and_weights[graph][1])\n",
    "        print(graphs_and_weights[graph][2])\n",
    "    pyg_graph.optimal = torch.FloatTensor(int(graphs_and_weights[graph][2]))\n",
    "    pyg_graph.name = graph\n",
    "    pyg_dataset+=[pyg_graph]\n",
    "    \n",
    "        "
   ]
  },
  {
   "cell_type": "code",
   "execution_count": 18,
   "metadata": {},
   "outputs": [
    {
     "data": {
      "text/plain": [
       "[Data(edge_index=[2, 11832], num_nodes=1000, weights=[1000, 1000], optimal=[3852], name='G54'),\n",
       " Data(edge_index=[2, 9322], num_nodes=800, weights=[800, 800], optimal=[3050], name='G15'),\n",
       " Data(edge_index=[2, 39980], num_nodes=2000, weights=[2000, 2000], optimal=[13337], name='G24'),\n",
       " Data(edge_index=[2, 19980], num_nodes=1000, weights=[1000, 1000], optimal=[6654], name='G45'),\n",
       " Data(edge_index=[2, 23558], num_nodes=2000, weights=[2000, 2000], optimal=[7687], name='G38'),\n",
       " Data(edge_index=[2, 23570], num_nodes=2000, weights=[2000, 2000], optimal=[7689], name='G37'),\n",
       " Data(edge_index=[2, 82918], num_nodes=7000, weights=[7000, 7000], optimal=[26997], name='G63'),\n",
       " Data(edge_index=[2, 38352], num_nodes=800, weights=[800, 800], optimal=[11620], name='G2'),\n",
       " Data(edge_index=[2, 19980], num_nodes=1000, weights=[1000, 1000], optimal=[6657], name='G47'),\n",
       " Data(edge_index=[2, 11828], num_nodes=1000, weights=[1000, 1000], optimal=[3850], name='G53'),\n",
       " Data(edge_index=[2, 12000], num_nodes=3000, weights=[3000, 3000], optimal=[5880], name='G50'),\n",
       " Data(edge_index=[2, 38352], num_nodes=800, weights=[800, 800], optimal=[11631], name='G5'),\n",
       " Data(edge_index=[2, 24996], num_nodes=5000, weights=[5000, 5000], optimal=[10294], name='G55'),\n",
       " Data(edge_index=[2, 38352], num_nodes=800, weights=[800, 800], optimal=[11622], name='G3'),\n",
       " Data(edge_index=[2, 23532], num_nodes=2000, weights=[2000, 2000], optimal=[7678], name='G36'),\n",
       " Data(edge_index=[2, 23556], num_nodes=2000, weights=[2000, 2000], optimal=[7684], name='G35'),\n",
       " Data(edge_index=[2, 38352], num_nodes=800, weights=[800, 800], optimal=[11646], name='G4'),\n",
       " Data(edge_index=[2, 12000], num_nodes=3000, weights=[3000, 3000], optimal=[6000], name='G48'),\n",
       " Data(edge_index=[2, 9334], num_nodes=800, weights=[800, 800], optimal=[3047], name='G17'),\n",
       " Data(edge_index=[2, 39980], num_nodes=2000, weights=[2000, 2000], optimal=[13359], name='G22'),\n",
       " Data(edge_index=[2, 19980], num_nodes=1000, weights=[1000, 1000], optimal=[6649], name='G46'),\n",
       " Data(edge_index=[2, 39980], num_nodes=2000, weights=[2000, 2000], optimal=[13340], name='G25'),\n",
       " Data(edge_index=[2, 38352], num_nodes=800, weights=[800, 800], optimal=[11624], name='G1'),\n",
       " Data(edge_index=[2, 11832], num_nodes=1000, weights=[1000, 1000], optimal=[3851], name='G52'),\n",
       " Data(edge_index=[2, 9344], num_nodes=800, weights=[800, 800], optimal=[3052], name='G16'),\n",
       " Data(edge_index=[2, 39980], num_nodes=2000, weights=[2000, 2000], optimal=[13328], name='G26'),\n",
       " Data(edge_index=[2, 34296], num_nodes=7000, weights=[7000, 7000], optimal=[14176], name='G60'),\n",
       " Data(edge_index=[2, 11818], num_nodes=1000, weights=[1000, 1000], optimal=[3848], name='G51'),\n",
       " Data(edge_index=[2, 19980], num_nodes=1000, weights=[1000, 1000], optimal=[6660], name='G43'),\n",
       " Data(edge_index=[2, 39980], num_nodes=2000, weights=[2000, 2000], optimal=[13344], name='G23'),\n",
       " Data(edge_index=[2, 19998], num_nodes=10000, weights=[9999], optimal=[9541], name='G70'),\n",
       " Data(edge_index=[2, 9388], num_nodes=800, weights=[800, 800], optimal=[3064], name='G14'),\n",
       " Data(edge_index=[2, 12000], num_nodes=3000, weights=[3000, 3000], optimal=[6000], name='G49'),\n",
       " Data(edge_index=[2, 59140], num_nodes=5000, weights=[5000, 5000], optimal=[19263], name='G58'),\n",
       " Data(edge_index=[2, 19980], num_nodes=1000, weights=[1000, 1000], optimal=[6650], name='G44')]"
      ]
     },
     "execution_count": 18,
     "metadata": {},
     "output_type": "execute_result"
    }
   ],
   "source": [
    "pyg_dataset"
   ]
  },
  {
   "cell_type": "code",
   "execution_count": null,
   "metadata": {},
   "outputs": [],
   "source": []
  }
 ],
 "metadata": {
  "kernelspec": {
   "display_name": "Python 3 (ipykernel)",
   "language": "python",
   "name": "python3"
  },
  "language_info": {
   "codemirror_mode": {
    "name": "ipython",
    "version": 3
   },
   "file_extension": ".py",
   "mimetype": "text/x-python",
   "name": "python",
   "nbconvert_exporter": "python",
   "pygments_lexer": "ipython3",
   "version": "3.11.3"
  }
 },
 "nbformat": 4,
 "nbformat_minor": 4
}
