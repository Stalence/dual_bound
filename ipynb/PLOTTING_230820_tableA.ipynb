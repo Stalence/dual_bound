{
 "cells": [
  {
   "cell_type": "code",
   "execution_count": 1,
   "metadata": {},
   "outputs": [],
   "source": [
    "models = ['GIN', 'GAT', 'GCNN', 'GatedGCNN']\n",
    "# note, no twitter.\n",
    "TUdataset_names = ['ENZYMES', 'PROTEINS', 'IMDB-BINARY', 'MUTAG', 'COLLAB']\n",
    "prefix = \"230820_test2\""
   ]
  },
  {
   "cell_type": "code",
   "execution_count": 3,
   "metadata": {},
   "outputs": [],
   "source": [
    "import os\n",
    "import json\n",
    "import pandas as pd\n",
    "import numpy as np\n",
    "\n",
    "folder_path = '/home/penlu/code/bespoke-gnn4do/training_runs'\n",
    "model_list = [os.path.join(folder_path,x) for x in os.listdir(folder_path) if x.startswith(prefix)]\n",
    "\n",
    "df = pd.DataFrame(columns=TUdataset_names)\n",
    "\n",
    "# load in params\n",
    "for model_folder in model_list:\n",
    "    try:\n",
    "        with open(os.path.join(model_folder, 'params.txt'), 'r') as f:\n",
    "            model_args = json.load(f)\n",
    "        losses = np.load(os.path.join(model_folder, 'losses.npy'))\n",
    "        df.at[model_args['model_type'], model_args['TUdataset_name']] = losses[-1]\n",
    "    except:\n",
    "        print(f'something is wrong w/ {model_folder}')\n",
    "        "
   ]
  },
  {
   "cell_type": "code",
   "execution_count": 4,
   "metadata": {},
   "outputs": [
    {
     "data": {
      "text/html": [
       "<div>\n",
       "<style scoped>\n",
       "    .dataframe tbody tr th:only-of-type {\n",
       "        vertical-align: middle;\n",
       "    }\n",
       "\n",
       "    .dataframe tbody tr th {\n",
       "        vertical-align: top;\n",
       "    }\n",
       "\n",
       "    .dataframe thead th {\n",
       "        text-align: right;\n",
       "    }\n",
       "</style>\n",
       "<table border=\"1\" class=\"dataframe\">\n",
       "  <thead>\n",
       "    <tr style=\"text-align: right;\">\n",
       "      <th></th>\n",
       "      <th>ENZYMES</th>\n",
       "      <th>PROTEINS</th>\n",
       "      <th>IMDB-BINARY</th>\n",
       "      <th>MUTAG</th>\n",
       "      <th>COLLAB</th>\n",
       "    </tr>\n",
       "  </thead>\n",
       "  <tbody>\n",
       "    <tr>\n",
       "      <th>GCNN</th>\n",
       "      <td>3181.824631</td>\n",
       "      <td>3733.874811</td>\n",
       "      <td>37041.56134</td>\n",
       "      <td>7.075259</td>\n",
       "      <td>3725483.14502</td>\n",
       "    </tr>\n",
       "    <tr>\n",
       "      <th>GAT</th>\n",
       "      <td>-14371.183533</td>\n",
       "      <td>-32165.913513</td>\n",
       "      <td>-4699.307541</td>\n",
       "      <td>-1356.819946</td>\n",
       "      <td>-407940.139954</td>\n",
       "    </tr>\n",
       "    <tr>\n",
       "      <th>GIN</th>\n",
       "      <td>-6623.810577</td>\n",
       "      <td>-13129.591034</td>\n",
       "      <td>34920.449707</td>\n",
       "      <td>-1306.177155</td>\n",
       "      <td>3412673.52124</td>\n",
       "    </tr>\n",
       "    <tr>\n",
       "      <th>GatedGCNN</th>\n",
       "      <td>-18645.928589</td>\n",
       "      <td>-40293.291687</td>\n",
       "      <td>-6026.650932</td>\n",
       "      <td>-2875.71637</td>\n",
       "      <td>9132687.035156</td>\n",
       "    </tr>\n",
       "  </tbody>\n",
       "</table>\n",
       "</div>"
      ],
      "text/plain": [
       "                ENZYMES      PROTEINS   IMDB-BINARY        MUTAG  \\\n",
       "GCNN        3181.824631   3733.874811   37041.56134     7.075259   \n",
       "GAT       -14371.183533 -32165.913513  -4699.307541 -1356.819946   \n",
       "GIN        -6623.810577 -13129.591034  34920.449707 -1306.177155   \n",
       "GatedGCNN -18645.928589 -40293.291687  -6026.650932  -2875.71637   \n",
       "\n",
       "                   COLLAB  \n",
       "GCNN        3725483.14502  \n",
       "GAT        -407940.139954  \n",
       "GIN         3412673.52124  \n",
       "GatedGCNN  9132687.035156  "
      ]
     },
     "execution_count": 4,
     "metadata": {},
     "output_type": "execute_result"
    }
   ],
   "source": [
    "df"
   ]
  },
  {
   "cell_type": "code",
   "execution_count": null,
   "metadata": {},
   "outputs": [],
   "source": []
  }
 ],
 "metadata": {
  "kernelspec": {
   "display_name": "Python 3 (ipykernel)",
   "language": "python",
   "name": "python3"
  },
  "language_info": {
   "codemirror_mode": {
    "name": "ipython",
    "version": 3
   },
   "file_extension": ".py",
   "mimetype": "text/x-python",
   "name": "python",
   "nbconvert_exporter": "python",
   "pygments_lexer": "ipython3",
   "version": "3.11.3"
  }
 },
 "nbformat": 4,
 "nbformat_minor": 4
}
