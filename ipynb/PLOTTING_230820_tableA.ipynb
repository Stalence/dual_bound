{
 "cells": [
  {
   "cell_type": "code",
   "execution_count": 21,
   "metadata": {},
   "outputs": [],
   "source": [
    "models = ['GIN', 'GAT', 'GCNN', 'GatedGCNN']\n",
    "# note, no twitter.\n",
    "TUdataset_names = ['ENZYMES', 'PROTEINS', 'IMDB-BINARY', 'MUTAG', 'COLLAB']\n",
    "prefix = \"230822_test2\""
   ]
  },
  {
   "cell_type": "code",
   "execution_count": 24,
   "metadata": {},
   "outputs": [],
   "source": [
    "import os\n",
    "import json\n",
    "import pandas as pd\n",
    "import numpy as np\n",
    "import sys\n",
    "\n",
    "folder_path = '/home/penlu/code/bespoke-gnn4do/training_runs'\n",
    "model_list = [os.path.join(folder_path,x) for x in os.listdir(folder_path) if x.startswith(prefix)]\n",
    "\n",
    "train_df = pd.DataFrame(columns=TUdataset_names)\n",
    "valid_df = pd.DataFrame(columns=TUdataset_names)\n",
    "\n",
    "# load in params\n",
    "for model_folder in model_list:\n",
    "    try:\n",
    "        if not os.path.isfile(os.path.join(model_folder, 'done.txt')):\n",
    "            continue\n",
    "        with open(os.path.join(model_folder, 'params.txt'), 'r') as f:\n",
    "            model_args = json.load(f)\n",
    "        train_losses = np.load(os.path.join(model_folder, 'train_losses.npy'))\n",
    "        valid_losses = np.load(os.path.join(model_folder, 'valid_losses.npy'))\n",
    "        train_df.at[model_args['model_type'], model_args['TUdataset_name']] = train_losses[-1]\n",
    "        valid_df.at[model_args['model_type'], model_args['TUdataset_name']] = valid_losses[-1]\n",
    "    except:\n",
    "        print(f'something is wrong w/ {model_folder}')\n",
    "        print(sys.exc_info())"
   ]
  },
  {
   "cell_type": "code",
   "execution_count": 25,
   "metadata": {},
   "outputs": [
    {
     "data": {
      "text/html": [
       "<div>\n",
       "<style scoped>\n",
       "    .dataframe tbody tr th:only-of-type {\n",
       "        vertical-align: middle;\n",
       "    }\n",
       "\n",
       "    .dataframe tbody tr th {\n",
       "        vertical-align: top;\n",
       "    }\n",
       "\n",
       "    .dataframe thead th {\n",
       "        text-align: right;\n",
       "    }\n",
       "</style>\n",
       "<table border=\"1\" class=\"dataframe\">\n",
       "  <thead>\n",
       "    <tr style=\"text-align: right;\">\n",
       "      <th></th>\n",
       "      <th>ENZYMES</th>\n",
       "      <th>PROTEINS</th>\n",
       "      <th>IMDB-BINARY</th>\n",
       "      <th>MUTAG</th>\n",
       "      <th>COLLAB</th>\n",
       "    </tr>\n",
       "  </thead>\n",
       "  <tbody>\n",
       "    <tr>\n",
       "      <th>GAT</th>\n",
       "      <td>-16.418591</td>\n",
       "      <td>-23.253971</td>\n",
       "      <td>52.145981</td>\n",
       "      <td>-15.523937</td>\n",
       "      <td>472.773193</td>\n",
       "    </tr>\n",
       "    <tr>\n",
       "      <th>GCNN</th>\n",
       "      <td>-32.406258</td>\n",
       "      <td>-25.491299</td>\n",
       "      <td>35.058765</td>\n",
       "      <td>-16.316756</td>\n",
       "      <td>727.903076</td>\n",
       "    </tr>\n",
       "    <tr>\n",
       "      <th>GIN</th>\n",
       "      <td>-18.746132</td>\n",
       "      <td>-31.218266</td>\n",
       "      <td>34.392647</td>\n",
       "      <td>-15.207139</td>\n",
       "      <td>906.588623</td>\n",
       "    </tr>\n",
       "    <tr>\n",
       "      <th>GatedGCNN</th>\n",
       "      <td>-32.198624</td>\n",
       "      <td>-38.22924</td>\n",
       "      <td>-12.27002</td>\n",
       "      <td>-18.917203</td>\n",
       "      <td>2557.345703</td>\n",
       "    </tr>\n",
       "  </tbody>\n",
       "</table>\n",
       "</div>"
      ],
      "text/plain": [
       "             ENZYMES   PROTEINS IMDB-BINARY      MUTAG       COLLAB\n",
       "GAT       -16.418591 -23.253971   52.145981 -15.523937   472.773193\n",
       "GCNN      -32.406258 -25.491299   35.058765 -16.316756   727.903076\n",
       "GIN       -18.746132 -31.218266   34.392647 -15.207139   906.588623\n",
       "GatedGCNN -32.198624  -38.22924   -12.27002 -18.917203  2557.345703"
      ]
     },
     "execution_count": 25,
     "metadata": {},
     "output_type": "execute_result"
    }
   ],
   "source": [
    "train_df"
   ]
  },
  {
   "cell_type": "code",
   "execution_count": 26,
   "metadata": {},
   "outputs": [
    {
     "data": {
      "text/html": [
       "<div>\n",
       "<style scoped>\n",
       "    .dataframe tbody tr th:only-of-type {\n",
       "        vertical-align: middle;\n",
       "    }\n",
       "\n",
       "    .dataframe tbody tr th {\n",
       "        vertical-align: top;\n",
       "    }\n",
       "\n",
       "    .dataframe thead th {\n",
       "        text-align: right;\n",
       "    }\n",
       "</style>\n",
       "<table border=\"1\" class=\"dataframe\">\n",
       "  <thead>\n",
       "    <tr style=\"text-align: right;\">\n",
       "      <th></th>\n",
       "      <th>ENZYMES</th>\n",
       "      <th>PROTEINS</th>\n",
       "      <th>IMDB-BINARY</th>\n",
       "      <th>MUTAG</th>\n",
       "      <th>COLLAB</th>\n",
       "    </tr>\n",
       "  </thead>\n",
       "  <tbody>\n",
       "    <tr>\n",
       "      <th>GAT</th>\n",
       "      <td>-16.408313</td>\n",
       "      <td>-24.488489</td>\n",
       "      <td>44.975361</td>\n",
       "      <td>-15.917727</td>\n",
       "      <td>862.00049</td>\n",
       "    </tr>\n",
       "    <tr>\n",
       "      <th>GCNN</th>\n",
       "      <td>-25.614797</td>\n",
       "      <td>-33.119023</td>\n",
       "      <td>41.120373</td>\n",
       "      <td>-12.234971</td>\n",
       "      <td>931.675852</td>\n",
       "    </tr>\n",
       "    <tr>\n",
       "      <th>GIN</th>\n",
       "      <td>-15.963618</td>\n",
       "      <td>-29.361864</td>\n",
       "      <td>36.684213</td>\n",
       "      <td>-15.325576</td>\n",
       "      <td>1433.227889</td>\n",
       "    </tr>\n",
       "    <tr>\n",
       "      <th>GatedGCNN</th>\n",
       "      <td>-37.820978</td>\n",
       "      <td>-48.889887</td>\n",
       "      <td>-10.455469</td>\n",
       "      <td>-19.532964</td>\n",
       "      <td>2310.004601</td>\n",
       "    </tr>\n",
       "  </tbody>\n",
       "</table>\n",
       "</div>"
      ],
      "text/plain": [
       "             ENZYMES   PROTEINS IMDB-BINARY      MUTAG       COLLAB\n",
       "GAT       -16.408313 -24.488489   44.975361 -15.917727    862.00049\n",
       "GCNN      -25.614797 -33.119023   41.120373 -12.234971   931.675852\n",
       "GIN       -15.963618 -29.361864   36.684213 -15.325576  1433.227889\n",
       "GatedGCNN -37.820978 -48.889887  -10.455469 -19.532964  2310.004601"
      ]
     },
     "execution_count": 26,
     "metadata": {},
     "output_type": "execute_result"
    }
   ],
   "source": [
    "valid_df"
   ]
  }
 ],
 "metadata": {
  "kernelspec": {
   "display_name": "Python 3 (ipykernel)",
   "language": "python",
   "name": "python3"
  },
  "language_info": {
   "codemirror_mode": {
    "name": "ipython",
    "version": 3
   },
   "file_extension": ".py",
   "mimetype": "text/x-python",
   "name": "python",
   "nbconvert_exporter": "python",
   "pygments_lexer": "ipython3",
   "version": "3.11.3"
  }
 },
 "nbformat": 4,
 "nbformat_minor": 4
}
