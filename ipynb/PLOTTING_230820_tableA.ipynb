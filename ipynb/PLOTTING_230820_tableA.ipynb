{
 "cells": [
  {
   "cell_type": "code",
   "execution_count": 1,
   "metadata": {},
   "outputs": [],
   "source": [
    "models = ['GIN', 'GAT', 'GCNN', 'GatedGCNN']\n",
    "# note, no twitter.\n",
    "TUdataset_names = ['ENZYMES', 'PROTEINS', 'IMDB-BINARY', 'MUTAG', 'COLLAB']\n",
    "prefix = \"230822_test\""
   ]
  },
  {
   "cell_type": "code",
   "execution_count": 15,
   "metadata": {},
   "outputs": [],
   "source": [
    "import os\n",
    "import json\n",
    "import pandas as pd\n",
    "import numpy as np\n",
    "import sys\n",
    "\n",
    "#folder_path = '/home/penlu/code/bespoke-gnn4do/training_runs'\n",
    "folder_path = '/tmp/moe'\n",
    "model_list = [os.path.join(folder_path,x) for x in os.listdir(folder_path) if x.startswith(prefix)]\n",
    "\n",
    "train_df = pd.DataFrame(columns=TUdataset_names)\n",
    "valid_df = pd.DataFrame(columns=TUdataset_names)\n",
    "\n",
    "# load in params\n",
    "for model_folder in model_list:\n",
    "    try:\n",
    "        if not os.path.isfile(os.path.join(model_folder, 'done.txt')):\n",
    "            continue\n",
    "        with open(os.path.join(model_folder, 'params.txt'), 'r') as f:\n",
    "            model_args = json.load(f)\n",
    "        train_losses = np.load(os.path.join(model_folder, 'train_losses.npy'))\n",
    "        valid_losses = np.load(os.path.join(model_folder, 'valid_losses.npy'))\n",
    "        train_df.at[model_args['model_type'], model_args['TUdataset_name']] = train_losses[-1]\n",
    "        valid_df.at[model_args['model_type'], model_args['TUdataset_name']] = valid_losses[-1]\n",
    "    except:\n",
    "        print(f'something is wrong w/ {model_folder}')\n",
    "        print(sys.exc_info())"
   ]
  },
  {
   "cell_type": "code",
   "execution_count": 16,
   "metadata": {},
   "outputs": [
    {
     "data": {
      "text/html": [
       "<div>\n",
       "<style scoped>\n",
       "    .dataframe tbody tr th:only-of-type {\n",
       "        vertical-align: middle;\n",
       "    }\n",
       "\n",
       "    .dataframe tbody tr th {\n",
       "        vertical-align: top;\n",
       "    }\n",
       "\n",
       "    .dataframe thead th {\n",
       "        text-align: right;\n",
       "    }\n",
       "</style>\n",
       "<table border=\"1\" class=\"dataframe\">\n",
       "  <thead>\n",
       "    <tr style=\"text-align: right;\">\n",
       "      <th></th>\n",
       "      <th>ENZYMES</th>\n",
       "      <th>PROTEINS</th>\n",
       "      <th>IMDB-BINARY</th>\n",
       "      <th>MUTAG</th>\n",
       "      <th>COLLAB</th>\n",
       "    </tr>\n",
       "  </thead>\n",
       "  <tbody>\n",
       "    <tr>\n",
       "      <th>GAT</th>\n",
       "      <td>-28.155575</td>\n",
       "      <td>-23.474838</td>\n",
       "      <td>43.61396</td>\n",
       "      <td>-18.617297</td>\n",
       "      <td>463.399872</td>\n",
       "    </tr>\n",
       "    <tr>\n",
       "      <th>GIN</th>\n",
       "      <td>-22.454281</td>\n",
       "      <td>-19.567075</td>\n",
       "      <td>47.651493</td>\n",
       "      <td>-6.626957</td>\n",
       "      <td>1056.714111</td>\n",
       "    </tr>\n",
       "    <tr>\n",
       "      <th>GCNN</th>\n",
       "      <td>-33.55035</td>\n",
       "      <td>-25.809959</td>\n",
       "      <td>35.301662</td>\n",
       "      <td>-14.694799</td>\n",
       "      <td>707.244507</td>\n",
       "    </tr>\n",
       "    <tr>\n",
       "      <th>GatedGCNN</th>\n",
       "      <td>-31.875875</td>\n",
       "      <td>-38.457634</td>\n",
       "      <td>47.579941</td>\n",
       "      <td>-18.919807</td>\n",
       "      <td>2626.276855</td>\n",
       "    </tr>\n",
       "  </tbody>\n",
       "</table>\n",
       "</div>"
      ],
      "text/plain": [
       "             ENZYMES   PROTEINS IMDB-BINARY      MUTAG       COLLAB\n",
       "GAT       -28.155575 -23.474838    43.61396 -18.617297   463.399872\n",
       "GIN       -22.454281 -19.567075   47.651493  -6.626957  1056.714111\n",
       "GCNN       -33.55035 -25.809959   35.301662 -14.694799   707.244507\n",
       "GatedGCNN -31.875875 -38.457634   47.579941 -18.919807  2626.276855"
      ]
     },
     "execution_count": 16,
     "metadata": {},
     "output_type": "execute_result"
    }
   ],
   "source": [
    "train_df"
   ]
  },
  {
   "cell_type": "code",
   "execution_count": 17,
   "metadata": {},
   "outputs": [
    {
     "data": {
      "text/html": [
       "<div>\n",
       "<style scoped>\n",
       "    .dataframe tbody tr th:only-of-type {\n",
       "        vertical-align: middle;\n",
       "    }\n",
       "\n",
       "    .dataframe tbody tr th {\n",
       "        vertical-align: top;\n",
       "    }\n",
       "\n",
       "    .dataframe thead th {\n",
       "        text-align: right;\n",
       "    }\n",
       "</style>\n",
       "<table border=\"1\" class=\"dataframe\">\n",
       "  <thead>\n",
       "    <tr style=\"text-align: right;\">\n",
       "      <th></th>\n",
       "      <th>ENZYMES</th>\n",
       "      <th>PROTEINS</th>\n",
       "      <th>IMDB-BINARY</th>\n",
       "      <th>MUTAG</th>\n",
       "      <th>COLLAB</th>\n",
       "    </tr>\n",
       "  </thead>\n",
       "  <tbody>\n",
       "    <tr>\n",
       "      <th>GAT</th>\n",
       "      <td>-24.575718</td>\n",
       "      <td>-22.283009</td>\n",
       "      <td>38.221577</td>\n",
       "      <td>-18.582478</td>\n",
       "      <td>852.019763</td>\n",
       "    </tr>\n",
       "    <tr>\n",
       "      <th>GIN</th>\n",
       "      <td>-17.355221</td>\n",
       "      <td>-26.595658</td>\n",
       "      <td>56.535475</td>\n",
       "      <td>-6.833764</td>\n",
       "      <td>1210.916617</td>\n",
       "    </tr>\n",
       "    <tr>\n",
       "      <th>GCNN</th>\n",
       "      <td>-26.124578</td>\n",
       "      <td>-31.853964</td>\n",
       "      <td>37.968296</td>\n",
       "      <td>-12.909787</td>\n",
       "      <td>911.879622</td>\n",
       "    </tr>\n",
       "    <tr>\n",
       "      <th>GatedGCNN</th>\n",
       "      <td>-37.445372</td>\n",
       "      <td>-49.121689</td>\n",
       "      <td>36.59476</td>\n",
       "      <td>-19.572719</td>\n",
       "      <td>2298.44822</td>\n",
       "    </tr>\n",
       "  </tbody>\n",
       "</table>\n",
       "</div>"
      ],
      "text/plain": [
       "             ENZYMES   PROTEINS IMDB-BINARY      MUTAG       COLLAB\n",
       "GAT       -24.575718 -22.283009   38.221577 -18.582478   852.019763\n",
       "GIN       -17.355221 -26.595658   56.535475  -6.833764  1210.916617\n",
       "GCNN      -26.124578 -31.853964   37.968296 -12.909787   911.879622\n",
       "GatedGCNN -37.445372 -49.121689    36.59476 -19.572719   2298.44822"
      ]
     },
     "execution_count": 17,
     "metadata": {},
     "output_type": "execute_result"
    }
   ],
   "source": [
    "valid_df"
   ]
  }
 ],
 "metadata": {
  "kernelspec": {
   "display_name": "Python 3 (ipykernel)",
   "language": "python",
   "name": "python3"
  },
  "language_info": {
   "codemirror_mode": {
    "name": "ipython",
    "version": 3
   },
   "file_extension": ".py",
   "mimetype": "text/x-python",
   "name": "python",
   "nbconvert_exporter": "python",
   "pygments_lexer": "ipython3",
   "version": "3.11.3"
  }
 },
 "nbformat": 4,
 "nbformat_minor": 4
}
