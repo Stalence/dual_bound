{
 "cells": [
  {
   "cell_type": "code",
   "execution_count": 1,
   "metadata": {},
   "outputs": [],
   "source": [
    "models = ['GIN', 'GAT', 'GCNN', 'GatedGCNN']\n",
    "models = ['GatedGCNN']\n",
    "# note, no twitter.\n",
    "TUdataset_names = ['ENZYMES', 'PROTEINS', 'IMDB-BINARY', 'MUTAG', 'COLLAB']\n",
    "prefix = \"230820_test\""
   ]
  },
  {
   "cell_type": "code",
   "execution_count": 2,
   "metadata": {},
   "outputs": [
    {
     "name": "stdout",
     "output_type": "stream",
     "text": [
      "device False\n",
      "dataset size: 600\n",
      "/home/bcjexu/miniconda3/envs/maxcut-80/lib/python3.11/site-packages/torch_geometric/utils/sparse.py:176: UserWarning: Sparse CSR tensor support is in beta state. If you miss a functionality in the sparse tensor support, please submit a feature request to https://github.com/pytorch/pytorch/issues. (Triggered internally at /opt/conda/conda-bld/pytorch_1682343904035/work/aten/src/ATen/SparseCsrTensorImpl.cpp:54.)\n",
      "  return adj.to_sparse_csr()\n",
      "epoch 0 t=0.323089599609375 total_obj=3877.86\n",
      "device False\n",
      "dataset size: 1113\n",
      "/home/bcjexu/miniconda3/envs/maxcut-80/lib/python3.11/site-packages/torch_geometric/utils/sparse.py:176: UserWarning: Sparse CSR tensor support is in beta state. If you miss a functionality in the sparse tensor support, please submit a feature request to https://github.com/pytorch/pytorch/issues. (Triggered internally at /opt/conda/conda-bld/pytorch_1682343904035/work/aten/src/ATen/SparseCsrTensorImpl.cpp:54.)\n",
      "  return adj.to_sparse_csr()\n",
      "epoch 0 t=0.6994447708129883 total_obj=8459.86\n",
      "device False\n",
      "dataset size: 1000\n",
      "/home/bcjexu/miniconda3/envs/maxcut-80/lib/python3.11/site-packages/torch_geometric/utils/sparse.py:176: UserWarning: Sparse CSR tensor support is in beta state. If you miss a functionality in the sparse tensor support, please submit a feature request to https://github.com/pytorch/pytorch/issues. (Triggered internally at /opt/conda/conda-bld/pytorch_1682343904035/work/aten/src/ATen/SparseCsrTensorImpl.cpp:54.)\n",
      "  return adj.to_sparse_csr()\n",
      "epoch 0 t=0.4489285945892334 total_obj=946951.45\n",
      "^C\n",
      "Traceback (most recent call last):\n",
      "  File \"/home/bcjexu/maxcut-80/bespoke-gnn4do/train.py\", line 1, in <module>\n",
      "    import torch\n",
      "  File \"/home/bcjexu/miniconda3/envs/maxcut-80/lib/python3.11/site-packages/torch/__init__.py\", line 1187, in <module>\n",
      "    from .functional import *  # noqa: F403\n",
      "    ^^^^^^^^^^^^^^^^^^^^^^^^^\n",
      "  File \"/home/bcjexu/miniconda3/envs/maxcut-80/lib/python3.11/site-packages/torch/functional.py\", line 8, in <module>\n",
      "    import torch.nn.functional as F\n",
      "  File \"/home/bcjexu/miniconda3/envs/maxcut-80/lib/python3.11/site-packages/torch/nn/__init__.py\", line 1, in <module>\n",
      "    from .modules import *  # noqa: F403\n",
      "    ^^^^^^^^^^^^^^^^^^^^^^\n",
      "  File \"/home/bcjexu/miniconda3/envs/maxcut-80/lib/python3.11/site-packages/torch/nn/modules/__init__.py\", line 2, in <module>\n",
      "    from .linear import Identity, Linear, Bilinear, LazyLinear\n",
      "  File \"/home/bcjexu/miniconda3/envs/maxcut-80/lib/python3.11/site-packages/torch/nn/modules/linear.py\", line 7, in <module>\n",
      "    from .. import functional as F\n",
      "  File \"/home/bcjexu/miniconda3/envs/maxcut-80/lib/python3.11/site-packages/torch/nn/functional.py\", line 10, in <module>\n",
      "    from torch._torch_docs import reproducibility_notes, tf32_notes, sparse_support_notes\n",
      "  File \"/home/bcjexu/miniconda3/envs/maxcut-80/lib/python3.11/site-packages/torch/_torch_docs.py\", line 9317, in <module>\n",
      "    + r\"\"\"\n",
      "      ^^^^\n",
      "KeyboardInterrupt\n",
      "device False\n",
      "dataset size: 5000\n",
      "/home/bcjexu/miniconda3/envs/maxcut-80/lib/python3.11/site-packages/torch_geometric/utils/sparse.py:176: UserWarning: Sparse CSR tensor support is in beta state. If you miss a functionality in the sparse tensor support, please submit a feature request to https://github.com/pytorch/pytorch/issues. (Triggered internally at /opt/conda/conda-bld/pytorch_1682343904035/work/aten/src/ATen/SparseCsrTensorImpl.cpp:54.)\n",
      "  return adj.to_sparse_csr()\n"
     ]
    }
   ],
   "source": [
    "for model in models:\n",
    "    for TUdataset_name in TUdataset_names:\n",
    "        !python train.py --epochs=1 --prefix={prefix} --model_type={model} --TUdataset_name={TUdataset_name} --dataset=TU"
   ]
  },
  {
   "cell_type": "code",
   "execution_count": null,
   "metadata": {},
   "outputs": [],
   "source": []
  }
 ],
 "metadata": {
  "kernelspec": {
   "display_name": "maxcut-80",
   "language": "python",
   "name": "python3"
  },
  "language_info": {
   "codemirror_mode": {
    "name": "ipython",
    "version": 3
   },
   "file_extension": ".py",
   "mimetype": "text/x-python",
   "name": "python",
   "nbconvert_exporter": "python",
   "pygments_lexer": "ipython3",
   "version": "3.11.3"
  },
  "orig_nbformat": 4
 },
 "nbformat": 4,
 "nbformat_minor": 2
}
