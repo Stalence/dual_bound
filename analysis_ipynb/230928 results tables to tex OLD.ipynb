{
 "cells": [
  {
   "cell_type": "code",
   "execution_count": 2,
   "metadata": {},
   "outputs": [],
   "source": [
    "import pandas as pd\n",
    "import numpy as np\n",
    "\n",
    "def wraptable(thing, caption):\n",
    "    # replace ascii bs\n",
    "    thing = thing.replace(\"\\\\textasciicircum \\\\{a\\\\}\", \"\\\\textsuperscript{a}\").replace(\"\\\\textasciicircum \\\\{b\\\\}\", \"\\\\textsuperscript{b}\" )\n",
    "    for substr in ['MUTAG', 'ER\\\\textsuperscript{a}', 'BA\\\\textsuperscript{a}', 'PC\\\\textsuperscript{a}', 'WC\\\\textsuperscript{a}', 'ForcedRB &']:\n",
    "        thing = thing.replace(substr, f'\\midrule \\n{substr}', 1)\n",
    "    thing = thing.replace(\"@@@\", \"\")\n",
    "    thing = thing.replace(\"Nmin\", \"$N_\\\\text{min}$\")\n",
    "    thing = thing.replace(\"Nmax\", \"$N_\\\\text{max}$\")\n",
    "    thing = thing.replace(\"gurobi\", 'Gurobi')\n",
    "    thing = thing.replace(\"LiftMP\", 'OptGNN')\n",
    "    replace = {'REDDIT-BINARY': '\\midrule \\nREDDIT-BIN\\\\textsuperscript{c}',\n",
    "           'REDDIT-MULTI-12K': 'REDDIT-M-12K\\\\textsuperscript{c}',\n",
    "            'REDDIT-MULTI-5K': 'REDDIT-MU-5K\\\\textsuperscript{c}',\n",
    "            'gen\\\\_n': \"$N_\\\\text{min}$\",\n",
    "            'greedy': 'Greedy',\n",
    "            'Type': 'Dataset',\n",
    "            'dataset': 'Dataset'} \n",
    "    for k, v in replace.items():\n",
    "        thing = thing.replace(k, v)\n",
    "    return thing\n",
    "    #return \"\\\\begin{table} \\n\" + thing + f\"\\n\\\\caption{{ {caption}}} \\n\" + \"\\\\end{table}\\n\"\n",
    "    "
   ]
  },
  {
   "cell_type": "code",
   "execution_count": 3,
   "metadata": {},
   "outputs": [],
   "source": [
    "fname = 'Table1_maxcut.csv'\n",
    "#fname = 'Table1_VC.csv'\n",
    "df = pd.read_csv(fname)\n",
    "df = df[~df.dataset.isin(['RANDOM', 'ForcedRB'])]\n",
    "dataset_conversion = dict(zip(['BarabasiAlbert', 'ErdosRenyi', 'PowerlawCluster', 'WattsStrogatz', 'MUTAG', 'ENZYMES', 'PROTEINS',   'IMDB-BINARY', 'COLLAB',], \n",
    "                              ['BA^{a}', 'ER^{a}', 'PC^{a}', 'WC^{a}', 'MUTAG^{b}', 'ENZYMES^{b}', 'PROTEINS^{b}',   'IMDB-BIN^{b}', 'COLLAB^{b}',]))\n",
    "\n",
    "df.dataset = df.dataset.map(lambda x: dataset_conversion.get(x, x))\n",
    "#df = pd.read_csv('Table1_VC.csv')"
   ]
  },
  {
   "cell_type": "code",
   "execution_count": 8,
   "metadata": {},
   "outputs": [
    {
     "ename": "AttributeError",
     "evalue": "'Series' object has no attribute 'gen_n_max'",
     "output_type": "error",
     "traceback": [
      "\u001b[0;31m---------------------------------------------------------------------------\u001b[0m",
      "\u001b[0;31mAttributeError\u001b[0m                            Traceback (most recent call last)",
      "\u001b[0;32m/tmp/ipykernel_1526674/4233813746.py\u001b[0m in \u001b[0;36m?\u001b[0;34m()\u001b[0m\n\u001b[1;32m      1\u001b[0m \u001b[0mnudf\u001b[0m \u001b[0;34m=\u001b[0m \u001b[0mdf\u001b[0m\u001b[0;34m.\u001b[0m\u001b[0mround\u001b[0m\u001b[0;34m(\u001b[0m\u001b[0;36m2\u001b[0m\u001b[0;34m)\u001b[0m\u001b[0;34m.\u001b[0m\u001b[0mfillna\u001b[0m\u001b[0;34m(\u001b[0m\u001b[0;34m\"\"\u001b[0m\u001b[0;34m)\u001b[0m\u001b[0;34m\u001b[0m\u001b[0;34m\u001b[0m\u001b[0m\n\u001b[1;32m      2\u001b[0m \u001b[0mnudf\u001b[0m\u001b[0;34m.\u001b[0m\u001b[0mgen_n\u001b[0m \u001b[0;34m=\u001b[0m \u001b[0mnudf\u001b[0m\u001b[0;34m.\u001b[0m\u001b[0mgen_n\u001b[0m\u001b[0;34m.\u001b[0m\u001b[0mapply\u001b[0m\u001b[0;34m(\u001b[0m\u001b[0;32mlambda\u001b[0m \u001b[0mx\u001b[0m\u001b[0;34m:\u001b[0m \u001b[0mint\u001b[0m\u001b[0;34m(\u001b[0m\u001b[0mx\u001b[0m\u001b[0;34m)\u001b[0m \u001b[0;32mif\u001b[0m \u001b[0mx\u001b[0m \u001b[0;34m!=\u001b[0m \u001b[0;34m\"\"\u001b[0m \u001b[0;32melse\u001b[0m \u001b[0mx\u001b[0m\u001b[0;34m)\u001b[0m\u001b[0;34m\u001b[0m\u001b[0;34m\u001b[0m\u001b[0m\n\u001b[0;32m----> 3\u001b[0;31m \u001b[0mnudf\u001b[0m\u001b[0;34m.\u001b[0m\u001b[0mdataset\u001b[0m \u001b[0;34m=\u001b[0m \u001b[0mnudf\u001b[0m\u001b[0;34m.\u001b[0m\u001b[0mapply\u001b[0m\u001b[0;34m(\u001b[0m\u001b[0;32mlambda\u001b[0m \u001b[0mrow\u001b[0m\u001b[0;34m:\u001b[0m \u001b[0;34mf'{row.dataset} ({row.gen_n}, {row.gen_n_max})'\u001b[0m\u001b[0;34m,\u001b[0m \u001b[0maxis\u001b[0m\u001b[0;34m=\u001b[0m\u001b[0;36m1\u001b[0m\u001b[0;34m)\u001b[0m\u001b[0;34m\u001b[0m\u001b[0;34m\u001b[0m\u001b[0m\n\u001b[0m\u001b[1;32m      4\u001b[0m \u001b[0mmain_body\u001b[0m \u001b[0;34m=\u001b[0m \u001b[0;34m(\u001b[0m\u001b[0mnudf\u001b[0m\u001b[0;34m.\u001b[0m\u001b[0mto_latex\u001b[0m\u001b[0;34m(\u001b[0m\u001b[0mindex\u001b[0m\u001b[0;34m=\u001b[0m\u001b[0;32mFalse\u001b[0m\u001b[0;34m)\u001b[0m\u001b[0;34m)\u001b[0m\u001b[0;34m\u001b[0m\u001b[0;34m\u001b[0m\u001b[0m\n\u001b[1;32m      5\u001b[0m \u001b[0mprint\u001b[0m\u001b[0;34m(\u001b[0m\u001b[0mwraptable\u001b[0m\u001b[0;34m(\u001b[0m\u001b[0mmain_body\u001b[0m\u001b[0;34m,\u001b[0m\u001b[0mfname\u001b[0m\u001b[0;34m)\u001b[0m\u001b[0;34m)\u001b[0m\u001b[0;34m\u001b[0m\u001b[0;34m\u001b[0m\u001b[0m\n",
      "\u001b[0;32m~/miniconda3/envs/maxcut-802/lib/python3.11/site-packages/pandas/core/frame.py\u001b[0m in \u001b[0;36m?\u001b[0;34m(self, func, axis, raw, result_type, args, **kwargs)\u001b[0m\n\u001b[1;32m   9564\u001b[0m             \u001b[0mresult_type\u001b[0m\u001b[0;34m=\u001b[0m\u001b[0mresult_type\u001b[0m\u001b[0;34m,\u001b[0m\u001b[0;34m\u001b[0m\u001b[0;34m\u001b[0m\u001b[0m\n\u001b[1;32m   9565\u001b[0m             \u001b[0margs\u001b[0m\u001b[0;34m=\u001b[0m\u001b[0margs\u001b[0m\u001b[0;34m,\u001b[0m\u001b[0;34m\u001b[0m\u001b[0;34m\u001b[0m\u001b[0m\n\u001b[1;32m   9566\u001b[0m             \u001b[0mkwargs\u001b[0m\u001b[0;34m=\u001b[0m\u001b[0mkwargs\u001b[0m\u001b[0;34m,\u001b[0m\u001b[0;34m\u001b[0m\u001b[0;34m\u001b[0m\u001b[0m\n\u001b[1;32m   9567\u001b[0m         )\n\u001b[0;32m-> 9568\u001b[0;31m         \u001b[0;32mreturn\u001b[0m \u001b[0mop\u001b[0m\u001b[0;34m.\u001b[0m\u001b[0mapply\u001b[0m\u001b[0;34m(\u001b[0m\u001b[0;34m)\u001b[0m\u001b[0;34m.\u001b[0m\u001b[0m__finalize__\u001b[0m\u001b[0;34m(\u001b[0m\u001b[0mself\u001b[0m\u001b[0;34m,\u001b[0m \u001b[0mmethod\u001b[0m\u001b[0;34m=\u001b[0m\u001b[0;34m\"apply\"\u001b[0m\u001b[0;34m)\u001b[0m\u001b[0;34m\u001b[0m\u001b[0;34m\u001b[0m\u001b[0m\n\u001b[0m",
      "\u001b[0;32m~/miniconda3/envs/maxcut-802/lib/python3.11/site-packages/pandas/core/apply.py\u001b[0m in \u001b[0;36m?\u001b[0;34m(self)\u001b[0m\n\u001b[1;32m    760\u001b[0m         \u001b[0;31m# raw\u001b[0m\u001b[0;34m\u001b[0m\u001b[0;34m\u001b[0m\u001b[0m\n\u001b[1;32m    761\u001b[0m         \u001b[0;32melif\u001b[0m \u001b[0mself\u001b[0m\u001b[0;34m.\u001b[0m\u001b[0mraw\u001b[0m\u001b[0;34m:\u001b[0m\u001b[0;34m\u001b[0m\u001b[0;34m\u001b[0m\u001b[0m\n\u001b[1;32m    762\u001b[0m             \u001b[0;32mreturn\u001b[0m \u001b[0mself\u001b[0m\u001b[0;34m.\u001b[0m\u001b[0mapply_raw\u001b[0m\u001b[0;34m(\u001b[0m\u001b[0;34m)\u001b[0m\u001b[0;34m\u001b[0m\u001b[0;34m\u001b[0m\u001b[0m\n\u001b[1;32m    763\u001b[0m \u001b[0;34m\u001b[0m\u001b[0m\n\u001b[0;32m--> 764\u001b[0;31m         \u001b[0;32mreturn\u001b[0m \u001b[0mself\u001b[0m\u001b[0;34m.\u001b[0m\u001b[0mapply_standard\u001b[0m\u001b[0;34m(\u001b[0m\u001b[0;34m)\u001b[0m\u001b[0;34m\u001b[0m\u001b[0;34m\u001b[0m\u001b[0m\n\u001b[0m",
      "\u001b[0;32m~/miniconda3/envs/maxcut-802/lib/python3.11/site-packages/pandas/core/apply.py\u001b[0m in \u001b[0;36m?\u001b[0;34m(self)\u001b[0m\n\u001b[1;32m    890\u001b[0m     \u001b[0;32mdef\u001b[0m \u001b[0mapply_standard\u001b[0m\u001b[0;34m(\u001b[0m\u001b[0mself\u001b[0m\u001b[0;34m)\u001b[0m\u001b[0;34m:\u001b[0m\u001b[0;34m\u001b[0m\u001b[0;34m\u001b[0m\u001b[0m\n\u001b[0;32m--> 891\u001b[0;31m         \u001b[0mresults\u001b[0m\u001b[0;34m,\u001b[0m \u001b[0mres_index\u001b[0m \u001b[0;34m=\u001b[0m \u001b[0mself\u001b[0m\u001b[0;34m.\u001b[0m\u001b[0mapply_series_generator\u001b[0m\u001b[0;34m(\u001b[0m\u001b[0;34m)\u001b[0m\u001b[0;34m\u001b[0m\u001b[0;34m\u001b[0m\u001b[0m\n\u001b[0m\u001b[1;32m    892\u001b[0m \u001b[0;34m\u001b[0m\u001b[0m\n\u001b[1;32m    893\u001b[0m         \u001b[0;31m# wrap results\u001b[0m\u001b[0;34m\u001b[0m\u001b[0;34m\u001b[0m\u001b[0m\n\u001b[1;32m    894\u001b[0m         \u001b[0;32mreturn\u001b[0m \u001b[0mself\u001b[0m\u001b[0;34m.\u001b[0m\u001b[0mwrap_results\u001b[0m\u001b[0;34m(\u001b[0m\u001b[0mresults\u001b[0m\u001b[0;34m,\u001b[0m \u001b[0mres_index\u001b[0m\u001b[0;34m)\u001b[0m\u001b[0;34m\u001b[0m\u001b[0;34m\u001b[0m\u001b[0m\n",
      "\u001b[0;32m~/miniconda3/envs/maxcut-802/lib/python3.11/site-packages/pandas/core/apply.py\u001b[0m in \u001b[0;36m?\u001b[0;34m(self)\u001b[0m\n\u001b[1;32m    903\u001b[0m \u001b[0;34m\u001b[0m\u001b[0m\n\u001b[1;32m    904\u001b[0m         \u001b[0;32mwith\u001b[0m \u001b[0moption_context\u001b[0m\u001b[0;34m(\u001b[0m\u001b[0;34m\"mode.chained_assignment\"\u001b[0m\u001b[0;34m,\u001b[0m \u001b[0;32mNone\u001b[0m\u001b[0;34m)\u001b[0m\u001b[0;34m:\u001b[0m\u001b[0;34m\u001b[0m\u001b[0;34m\u001b[0m\u001b[0m\n\u001b[1;32m    905\u001b[0m             \u001b[0;32mfor\u001b[0m \u001b[0mi\u001b[0m\u001b[0;34m,\u001b[0m \u001b[0mv\u001b[0m \u001b[0;32min\u001b[0m \u001b[0menumerate\u001b[0m\u001b[0;34m(\u001b[0m\u001b[0mseries_gen\u001b[0m\u001b[0;34m)\u001b[0m\u001b[0;34m:\u001b[0m\u001b[0;34m\u001b[0m\u001b[0;34m\u001b[0m\u001b[0m\n\u001b[1;32m    906\u001b[0m                 \u001b[0;31m# ignore SettingWithCopy here in case the user mutates\u001b[0m\u001b[0;34m\u001b[0m\u001b[0;34m\u001b[0m\u001b[0m\n\u001b[0;32m--> 907\u001b[0;31m                 \u001b[0mresults\u001b[0m\u001b[0;34m[\u001b[0m\u001b[0mi\u001b[0m\u001b[0;34m]\u001b[0m \u001b[0;34m=\u001b[0m \u001b[0mself\u001b[0m\u001b[0;34m.\u001b[0m\u001b[0mf\u001b[0m\u001b[0;34m(\u001b[0m\u001b[0mv\u001b[0m\u001b[0;34m)\u001b[0m\u001b[0;34m\u001b[0m\u001b[0;34m\u001b[0m\u001b[0m\n\u001b[0m\u001b[1;32m    908\u001b[0m                 \u001b[0;32mif\u001b[0m \u001b[0misinstance\u001b[0m\u001b[0;34m(\u001b[0m\u001b[0mresults\u001b[0m\u001b[0;34m[\u001b[0m\u001b[0mi\u001b[0m\u001b[0;34m]\u001b[0m\u001b[0;34m,\u001b[0m \u001b[0mABCSeries\u001b[0m\u001b[0;34m)\u001b[0m\u001b[0;34m:\u001b[0m\u001b[0;34m\u001b[0m\u001b[0;34m\u001b[0m\u001b[0m\n\u001b[1;32m    909\u001b[0m                     \u001b[0;31m# If we have a view on v, we need to make a copy because\u001b[0m\u001b[0;34m\u001b[0m\u001b[0;34m\u001b[0m\u001b[0m\n\u001b[1;32m    910\u001b[0m                     \u001b[0;31m#  series_generator will swap out the underlying data\u001b[0m\u001b[0;34m\u001b[0m\u001b[0;34m\u001b[0m\u001b[0m\n",
      "\u001b[0;32m/tmp/ipykernel_1526674/4233813746.py\u001b[0m in \u001b[0;36m?\u001b[0;34m(row)\u001b[0m\n\u001b[0;32m----> 3\u001b[0;31m \u001b[0mnudf\u001b[0m\u001b[0;34m.\u001b[0m\u001b[0mdataset\u001b[0m \u001b[0;34m=\u001b[0m \u001b[0mnudf\u001b[0m\u001b[0;34m.\u001b[0m\u001b[0mapply\u001b[0m\u001b[0;34m(\u001b[0m\u001b[0;32mlambda\u001b[0m \u001b[0mrow\u001b[0m\u001b[0;34m:\u001b[0m \u001b[0;34mf'{row.dataset} ({row.gen_n}, {row.gen_n_max})'\u001b[0m\u001b[0;34m,\u001b[0m \u001b[0maxis\u001b[0m\u001b[0;34m=\u001b[0m\u001b[0;36m1\u001b[0m\u001b[0;34m)\u001b[0m\u001b[0;34m\u001b[0m\u001b[0;34m\u001b[0m\u001b[0m\n\u001b[0m",
      "\u001b[0;32m~/miniconda3/envs/maxcut-802/lib/python3.11/site-packages/pandas/core/generic.py\u001b[0m in \u001b[0;36m?\u001b[0;34m(self, name)\u001b[0m\n\u001b[1;32m   5898\u001b[0m             \u001b[0;32mand\u001b[0m \u001b[0mname\u001b[0m \u001b[0;32mnot\u001b[0m \u001b[0;32min\u001b[0m \u001b[0mself\u001b[0m\u001b[0;34m.\u001b[0m\u001b[0m_accessors\u001b[0m\u001b[0;34m\u001b[0m\u001b[0;34m\u001b[0m\u001b[0m\n\u001b[1;32m   5899\u001b[0m             \u001b[0;32mand\u001b[0m \u001b[0mself\u001b[0m\u001b[0;34m.\u001b[0m\u001b[0m_info_axis\u001b[0m\u001b[0;34m.\u001b[0m\u001b[0m_can_hold_identifiers_and_holds_name\u001b[0m\u001b[0;34m(\u001b[0m\u001b[0mname\u001b[0m\u001b[0;34m)\u001b[0m\u001b[0;34m\u001b[0m\u001b[0;34m\u001b[0m\u001b[0m\n\u001b[1;32m   5900\u001b[0m         ):\n\u001b[1;32m   5901\u001b[0m             \u001b[0;32mreturn\u001b[0m \u001b[0mself\u001b[0m\u001b[0;34m[\u001b[0m\u001b[0mname\u001b[0m\u001b[0;34m]\u001b[0m\u001b[0;34m\u001b[0m\u001b[0;34m\u001b[0m\u001b[0m\n\u001b[0;32m-> 5902\u001b[0;31m         \u001b[0;32mreturn\u001b[0m \u001b[0mobject\u001b[0m\u001b[0;34m.\u001b[0m\u001b[0m__getattribute__\u001b[0m\u001b[0;34m(\u001b[0m\u001b[0mself\u001b[0m\u001b[0;34m,\u001b[0m \u001b[0mname\u001b[0m\u001b[0;34m)\u001b[0m\u001b[0;34m\u001b[0m\u001b[0;34m\u001b[0m\u001b[0m\n\u001b[0m",
      "\u001b[0;31mAttributeError\u001b[0m: 'Series' object has no attribute 'gen_n_max'"
     ]
    }
   ],
   "source": [
    "#gennmaxdict = []\n",
    "\n",
    "nudf = df.round(2).fillna(\"\")\n",
    "nudf.gen_n = nudf.gen_n.apply(lambda x: int(x) if x != \"\" else x)\n",
    "#nudf.dataset = nudf.apply(lambda row: f'{row.dataset} ({row.gen_n}, {row.gen_n_max})', axis=1)\n",
    "main_body = (nudf.to_latex(index=False))\n",
    "print(wraptable(main_body,fname))"
   ]
  },
  {
   "cell_type": "markdown",
   "metadata": {},
   "source": [
    "# Table 2"
   ]
  },
  {
   "cell_type": "code",
   "execution_count": null,
   "metadata": {},
   "outputs": [],
   "source": []
  },
  {
   "cell_type": "code",
   "execution_count": 6,
   "metadata": {},
   "outputs": [],
   "source": [
    "fname = 'Table2_maxcut.csv'\n",
    "#fname = 'Table2_VC.csv'\n",
    "\n",
    "df = pd.read_csv(fname)\n",
    "df = df[~df.Type.isin(['RANDOM', 'ForcedRB'])]\n",
    "\n",
    "#dataset_conversion = dict(zip(['BarabasiAlbert', 'ErdosRenyi', 'PowerlawCluster', 'WattsStrogatz', 'MUTAG', 'ENZYMES', 'PROTEINS',   'IMDB-BINARY', 'COLLAB',], \n",
    "#                              ['BA^{b}', 'ER^{b}', 'PC^{b}', 'WC^{b}', 'MUTAG^{a}', 'ENZYMES^{a}', 'PROTEINS^{a}',   'IMDB-BINARY^{a}', 'COLLAB^{a}',]))\n",
    "\n",
    "df.Type = df.Type.map(lambda x: dataset_conversion.get(x, x))#df = pd.read_csv('Table2_VC.csv')\n"
   ]
  },
  {
   "cell_type": "code",
   "execution_count": 7,
   "metadata": {},
   "outputs": [
    {
     "name": "stdout",
     "output_type": "stream",
     "text": [
      "\\begin{tabular}{llllrrrrrrr}\n",
      "\\toprule\n",
      "            Dataset & $N_\\text{min}$ & $N_\\text{max}$ &          OptGNN & Greedy & \\multicolumn{6}{l}{Gurobi} \\\\\n",
      "              &   &   &              &     &    0.1s &    0.5s &    1.0s &    2.0s &    4.0s &    8.0s \\\\\n",
      "\\midrule\n",
      "          \\midrule \n",
      "BA\\textsuperscript{a} &   50 &  100 &   351.49 (0.02) &  200.1 &   351.9 &   352.1 &   352.1 &   352.1 &   352.1 &   352.1 \\\\\n",
      "          BA\\textsuperscript{a} &  100 &  200 &   717.19 (0.02) &  408.0 &   719.4 &   719.5 &   719.7 &   719.8 &   719.9 &   720.2 \\\\\n",
      "          BA\\textsuperscript{a} &  400 &  500 &  2198.11 (0.02) & 1255.2 &  2208.1 &  2208.1 &  2208.1 &  2208.6 &  2212.4 &  2212.5 \\\\\n",
      "          \\midrule \n",
      "ER\\textsuperscript{a} &   50 &  100 &   529.00 (0.02) &  298.5 &   529.9 &   530.0 &   530.0 &   530.1 &   530.1 &   530.2 \\\\\n",
      "          ER\\textsuperscript{a} &  100 &  200 &  1995.05 (0.02) & 1097.3 &  2002.9 &  2002.9 &  2002.9 &  2002.9 &  2002.9 &  2002.9 \\\\\n",
      "          ER\\textsuperscript{a} &  400 &  500 & 16387.46 (0.02) & 8496.8 & 16476.7 & 16481.6 & 16491.6 & 16494.4 & 16495.1 & 16495.3 \\\\\n",
      "          \\midrule \n",
      "PC\\textsuperscript{a} &   50 &  100 &   345.74 (0.02) &  196.2 &   346.2 &   346.4 &   346.4 &   346.4 &   346.4 &   346.4 \\\\\n",
      "          PC\\textsuperscript{a} &  100 &  200 &   709.39 (0.02) &  402.5 &   711.7 &   711.9 &   712.3 &   712.5 &   712.6 &   712.9 \\\\\n",
      "          PC\\textsuperscript{a} &  400 &  500 &  2159.90 (0.02) & 1231.0 &  2169.5 &  2169.5 &  2169.5 &  2169.9 &  2173.8 &  2173.9 \\\\\n",
      "          \\midrule \n",
      "WC\\textsuperscript{a} &   50 &  100 &   198.29 (0.02) &  116.6 &   198.7 &   198.7 &   198.7 &   198.7 &   198.7 &   198.7 \\\\\n",
      "          WC\\textsuperscript{a} &  100 &  200 &   389.83 (0.02) &  229.4 &   391.0 &   392.1 &   392.1 &   392.1 &   392.1 &   392.1 \\\\\n",
      "          WC\\textsuperscript{a} &  400 &  500 &  1166.47 (0.02) &  690.2 &  1173.4 &  1173.5 &  1176.0 &  1177.9 &  1178.5 &  1179.9 \\\\\n",
      "       \\midrule \n",
      "MUTAG\\textsuperscript{b} &      &      &    27.95 (0.02) &   16.9 &    27.9 &    27.9 &    27.9 &    27.9 &    27.9 &    27.9 \\\\\n",
      "     ENZYMES\\textsuperscript{b} &      &      &    81.42 (0.02) &   48.5 &    81.4 &    81.4 &    81.4 &    81.4 &    81.4 &    81.4 \\\\\n",
      "    PROTEINS\\textsuperscript{b} &      &      &   102.24 (0.02) &   60.7 &   102.3 &   102.4 &   102.4 &   102.4 &   102.4 &   102.4 \\\\\n",
      "    IMDB-BIN\\textsuperscript{b} &      &      &    97.48 (0.02) &   51.8 &    97.5 &    97.5 &    97.5 &    97.5 &    97.5 &    97.5 \\\\\n",
      "      COLLAB\\textsuperscript{b} &      &      &  2622.51 (0.02) & 1345.7 &  2624.3 &  2624.5 &  2624.6 &  2624.6 &  2624.6 &  2624.6 \\\\\n",
      "   \\midrule \n",
      "REDDIT-BIN\\textsuperscript{c} &      &      &                 &  400.8 &   632.7 &   633.7 &   633.8 &   633.8 &   633.8 &   633.8 \\\\\n",
      "REDDIT-M-12K\\textsuperscript{c} &      &      &                 &  408.7 &   647.6 &   648.8 &   648.9 &   649.0 &   649.0 &   649.0 \\\\\n",
      " REDDIT-MU-5K\\textsuperscript{c} &      &      &                 &  532.4 &   844.7 &   846.8 &   847.2 &   847.6 &   847.8 &   847.8 \\\\\n",
      "\\bottomrule\n",
      "\\end{tabular}\n",
      "\n"
     ]
    },
    {
     "name": "stderr",
     "output_type": "stream",
     "text": [
      "/tmp/ipykernel_1525840/2251684291.py:21: FutureWarning: In future versions `DataFrame.to_latex` is expected to utilise the base implementation of `Styler.to_latex` for formatting and rendering. The arguments signature may therefore change. It is recommended instead to use `DataFrame.style.to_latex` which also contains additional functionality.\n",
      "  main_body = nudf.to_latex(index=False)\n"
     ]
    }
   ],
   "source": [
    "nudf = df.iloc[:,1:].round(2).fillna(\"\")\n",
    "\n",
    "nudf.Nmin = nudf.Nmin.apply(lambda x: int(x) if x!=\"\" else x)\n",
    "nudf.Nmax = nudf.Nmax.apply(lambda x: int(x) if x!=\"\" else x)\n",
    "\n",
    "\n",
    "cols = nudf.columns\n",
    "hrow1 = []\n",
    "hrow2 = []\n",
    "for x in cols:\n",
    "    if x.startswith('gurobi'):\n",
    "        hrow1.append(\"gurobi\")\n",
    "        hrow2.append(x.split(\"_\")[1] + \"s\")\n",
    "    else:\n",
    "        hrow1.append(x)\n",
    "        hrow2.append(\"@@@\")\n",
    "\n",
    "header = pd.MultiIndex.from_arrays([hrow1, hrow2])\n",
    "nudf.columns = header\n",
    "\n",
    "main_body = nudf.to_latex(index=False)\n",
    "\n",
    "print(wraptable(main_body,fname))\n",
    "\n"
   ]
  },
  {
   "cell_type": "markdown",
   "metadata": {},
   "source": [
    "# instructions: \n",
    "2. add midrules"
   ]
  },
  {
   "cell_type": "code",
   "execution_count": null,
   "metadata": {},
   "outputs": [],
   "source": []
  }
 ],
 "metadata": {
  "kernelspec": {
   "display_name": "maxcut-802",
   "language": "python",
   "name": "python3"
  },
  "language_info": {
   "codemirror_mode": {
    "name": "ipython",
    "version": 3
   },
   "file_extension": ".py",
   "mimetype": "text/x-python",
   "name": "python",
   "nbconvert_exporter": "python",
   "pygments_lexer": "ipython3",
   "version": "3.11.3"
  },
  "orig_nbformat": 4
 },
 "nbformat": 4,
 "nbformat_minor": 2
}
