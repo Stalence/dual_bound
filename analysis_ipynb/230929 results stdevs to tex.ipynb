{
 "cells": [
  {
   "cell_type": "code",
   "execution_count": 1,
   "metadata": {},
   "outputs": [],
   "source": [
    "import pandas as pd\n",
    "import numpy as np\n",
    "\n",
    "def wraptable(thing, caption):\n",
    "    # replace ascii bs\n",
    "    thing = thing.replace(\"\\\\textasciicircum \\\\{a\\\\}\", \"\\\\textsuperscript{a}\").replace(\"\\\\textasciicircum \\\\{b\\\\}\", \"\\\\textsuperscript{b}\" )\n",
    "    for substr in ['MUTAG', 'ER\\\\textsuperscript{a}', 'BA\\\\textsuperscript{a}', 'HK\\\\textsuperscript{a}', 'WC\\\\textsuperscript{a}', 'ForcedRB &']:\n",
    "        thing = thing.replace(substr, f'\\midrule \\n{substr}', 1)\n",
    "    thing = thing.replace(\"@@@\", \"\")\n",
    "    thing = thing.replace(\"Nmin\", \"$N_\\\\text{min}$\")\n",
    "    thing = thing.replace(\"Nmax\", \"$N_\\\\text{max}$\")\n",
    "    thing = thing.replace(\"gurobi\", 'Gurobi')\n",
    "    thing = thing.replace(\"LiftMP\", 'OptGNN')\n",
    "    replace = {'REDDIT-BINARY': '\\midrule \\nREDDIT-BIN\\\\textsuperscript{c}',\n",
    "           'REDDIT-MULTI-12K': 'REDDIT-M-12K\\\\textsuperscript{c}',\n",
    "            'REDDIT-MULTI-5K': 'REDDIT-M-5K\\\\textsuperscript{c}',\n",
    "            'gen\\\\_n': \"$N_\\\\text{min}$\",\n",
    "            'greedy': 'Greedy',\n",
    "            'Type': 'Dataset',\n",
    "            'dataset': 'Dataset'} \n",
    "    for k, v in replace.items():\n",
    "        thing = thing.replace(k, v)\n",
    "    return thing\n",
    "    #return \"\\\\begin{table} \\n\" + thing + f\"\\n\\\\caption{{ {caption}}} \\n\" + \"\\\\end{table}\\n\"\n",
    "\n",
    "\n",
    "def do_bolding(latex_string, list_of_things):\n",
    "    dict_of_things = {str(x): f'\\\\textbf{{{str(x)}}}' for x in list_of_things}\n",
    "    for k, v in dict_of_things.items():\n",
    "        latex_string = latex_string.replace(k, v)\n",
    "    return latex_string\n",
    "    \n",
    "    \n",
    "    "
   ]
  },
  {
   "cell_type": "code",
   "execution_count": 2,
   "metadata": {},
   "outputs": [],
   "source": [
    "fname = 'Table1_maxcut.csv'\n",
    "fname = 'Table1_VC_std.csv'\n",
    "df = pd.read_csv(fname)\n",
    "df = df[~df.dataset.isin(['RANDOM', 'ForcedRB'])]\n",
    "dataset_conversion = dict(zip(['BarabasiAlbert', 'ErdosRenyi', 'PowerlawCluster', 'WattsStrogatz', 'MUTAG', 'ENZYMES', 'PROTEINS',   'IMDB-BINARY', 'COLLAB',], \n",
    "                              ['BA^{a}', 'ER^{a}', 'HK^{a}', 'WC^{a}', 'MUTAG^{b}', 'ENZYMES^{b}', 'PROTEINS^{b}',   'IMDB-BIN^{b}', 'COLLAB^{b}',]))\n",
    "\n",
    "df.dataset = df.dataset.map(lambda x: dataset_conversion.get(x, x))\n",
    "#df = pd.read_csv('Table1_VC.csv')"
   ]
  },
  {
   "cell_type": "code",
   "execution_count": 3,
   "metadata": {},
   "outputs": [
    {
     "name": "stdout",
     "output_type": "stream",
     "text": [
      "\\begin{tabular}{llllll}\n",
      "\\toprule\n",
      "         Dataset &          GAT &         GCNN &          GIN &    GatedGCNN &        OptGNN \\\\\n",
      "\\midrule\n",
      " \\midrule \n",
      "ER\\textsuperscript{a} (50,100) &  \\textbf{1.40} +/- 70 &  \\textbf{1.40} +/- 70 &  \\textbf{1.40} +/- 70 &  \\textbf{1.40} +/- 70 &   \\textbf{1.40} +/- 70 \\\\\n",
      "ER\\textsuperscript{a} (100,200) &  \\textbf{1.24} +/- 40 &  \\textbf{1.24} +/- 40 &  \\textbf{1.24} +/- 40 &  \\textbf{1.24} +/- 40 &   \\textbf{1.24} +/- 40 \\\\\n",
      "ER\\textsuperscript{a} (400,500) &   \\textbf{1.08} +/- 7 &   \\textbf{1.08} +/- 7 &   \\textbf{1.08} +/- 7 &   \\textbf{1.08} +/- 7 &    \\textbf{1.08} +/- 7 \\\\\n",
      "       \\midrule \n",
      "MUTAG\\textsuperscript{b} & \\textbf{2.25} +/- 153 & \\textbf{2.25} +/- 153 & \\textbf{2.25} +/- 153 & \\textbf{2.25} +/- 153 &  \\textbf{2.25} +/- 153 \\\\\n",
      "     ENZYMES\\textsuperscript{b} & \\textbf{1.64} +/- 174 & \\textbf{1.64} +/- 174 & \\textbf{1.64} +/- 174 & \\textbf{1.64} +/- 174 &  \\textbf{1.64} +/- 174 \\\\\n",
      "    PROTEINS\\textsuperscript{b} & \\textbf{1.59} +/- 159 & \\textbf{1.59} +/- 159 & \\textbf{1.59} +/- 159 & \\textbf{1.59} +/- 159 &  \\textbf{1.59} +/- 159 \\\\\n",
      "    IMDB-BIN\\textsuperscript{b} &  \\textbf{1.20} +/- 82 &  \\textbf{1.20} +/- 82 &  \\textbf{1.20} +/- 82 &  \\textbf{1.20} +/- 82 &   \\textbf{1.20} +/- 82 \\\\\n",
      "      COLLAB\\textsuperscript{b} & \\textbf{1.21} +/- 221 & \\textbf{1.21} +/- 221 & \\textbf{1.21} +/- 221 & \\textbf{1.21} +/- 221 &  \\textbf{1.21} +/- 221 \\\\\n",
      "   \\midrule \n",
      "REDDIT-BIN\\textsuperscript{c} &              &              &              &              & \\textbf{4.70} +/- 2499 \\\\\n",
      "REDDIT-M-12K\\textsuperscript{c} &              &              &              &              & \\textbf{4.13} +/- 1142 \\\\\n",
      " REDDIT-M-5K\\textsuperscript{c} &              &              &              &              & \\textbf{4.58} +/- 1116 \\\\\n",
      "\\bottomrule\n",
      "\\end{tabular}\n",
      "\n"
     ]
    },
    {
     "name": "stderr",
     "output_type": "stream",
     "text": [
      "/tmp/ipykernel_1793879/2663717676.py:20: FutureWarning: In future versions `DataFrame.to_latex` is expected to utilise the base implementation of `Styler.to_latex` for formatting and rendering. The arguments signature may therefore change. It is recommended instead to use `DataFrame.style.to_latex` which also contains additional functionality.\n",
      "  main_body = (nudf.to_latex(index=False))\n"
     ]
    }
   ],
   "source": [
    "gen_n_dict = dict(zip([50, 100, 400, \"\", np.nan], [100, 200, 500, \"\", \"\"]))\n",
    "nudf = df.round(2).fillna(\"\")\n",
    "nudf.gen_n = nudf.gen_n.apply(lambda x: int(x) if x != \"\" else x)\n",
    "nudf['Nmax'] = nudf.gen_n.apply(lambda x: gen_n_dict[x])\n",
    "nudf['Nmin'] = nudf.gen_n\n",
    "nudf.dataset = nudf.apply(lambda row: f'{row.dataset} ({row.Nmin},{row.Nmax})', axis=1)\n",
    "nudf.dataset = nudf.dataset.apply(lambda dataset: dataset[:-4] if dataset.endswith(\"(,)\") else dataset)\n",
    "\n",
    "nudf = nudf[['dataset', 'GAT', 'GCNN', 'GIN', 'GatedGCNN', 'LiftMP']]\n",
    "\n",
    "# get things to bold\n",
    "list_of_things = []\n",
    "for i, row in nudf.iterrows():\n",
    "    possibilities = [float(x.split(\" \")[0]) for x in row.values[2:] if x!=\"\"]\n",
    "    if fname == 'Table1_maxcut.csv':\n",
    "        list_of_things.append(f'{max(possibilities):0.2f}')\n",
    "    else:\n",
    "        list_of_things.append(f'{min(possibilities):0.2f}')\n",
    "\n",
    "main_body = (nudf.to_latex(index=False))\n",
    "print(wraptable(do_bolding(main_body,list_of_things),fname))"
   ]
  },
  {
   "cell_type": "code",
   "execution_count": 4,
   "metadata": {},
   "outputs": [
    {
     "data": {
      "text/plain": [
       "Index(['dataset', 'GAT', 'GCNN', 'GIN', 'GatedGCNN', 'LiftMP'], dtype='object')"
      ]
     },
     "execution_count": 4,
     "metadata": {},
     "output_type": "execute_result"
    }
   ],
   "source": [
    "nudf.keys()"
   ]
  },
  {
   "cell_type": "markdown",
   "metadata": {},
   "source": [
    "# Table 2"
   ]
  },
  {
   "cell_type": "code",
   "execution_count": null,
   "metadata": {},
   "outputs": [],
   "source": []
  },
  {
   "cell_type": "code",
   "execution_count": 5,
   "metadata": {},
   "outputs": [],
   "source": [
    "fname = 'Table2_maxcut.csv'\n",
    "fname = 'Table2_VC_std.csv'\n",
    "\n",
    "df = pd.read_csv(fname)\n",
    "df = df[~df.Type.isin(['RANDOM', 'ForcedRB'])]\n",
    "\n",
    "#dataset_conversion = dict(zip(['BarabasiAlbert', 'ErdosRenyi', 'PowerlawCluster', 'WattsStrogatz', 'MUTAG', 'ENZYMES', 'PROTEINS',   'IMDB-BINARY', 'COLLAB',], \n",
    "#                              ['BA^{b}', 'ER^{b}', 'PC^{b}', 'WC^{b}', 'MUTAG^{a}', 'ENZYMES^{a}', 'PROTEINS^{a}',   'IMDB-BINARY^{a}', 'COLLAB^{a}',]))\n",
    "\n",
    "df.Type = df.Type.map(lambda x: dataset_conversion.get(x, x))#df = pd.read_csv('Table2_VC.csv')\n"
   ]
  },
  {
   "cell_type": "markdown",
   "metadata": {},
   "source": [
    "df"
   ]
  },
  {
   "cell_type": "markdown",
   "metadata": {},
   "source": [
    "# load in nikos baselines\n",
    "if fname == 'Table2_VC.csv':\n",
    "    x = pd.read_csv('kamis_lwd_baselines.csv')\n",
    "    problems = {'er': 'ErdosRenyi_400.0',\n",
    "            'ba': 'BarabasiAlbert_400.0',\n",
    "            'hk': 'PowerlawCluster_400.0',\n",
    "            'ws': 'WattsStrogatz_400.0',}\n",
    "\n",
    "    for i, row in x.iterrows():\n",
    "        problem = problems[row['problem']]\n",
    "        df.loc[df['Unnamed: 0'] == problem, 'kamis'] = f'{row[\"k_solution_sizes_average\"]:0.2f} ({row[\"k_times_average\"]:0.2f})'\n",
    "        df.loc[df['Unnamed: 0'] == problem, 'lwd'] = f'{row[\"l_solution_sizes_average\"]:0.2f} ({row[\"l_times_average\"]:0.2f})'\n",
    "        \n",
    "    "
   ]
  },
  {
   "cell_type": "code",
   "execution_count": null,
   "metadata": {},
   "outputs": [],
   "source": []
  },
  {
   "cell_type": "code",
   "execution_count": 6,
   "metadata": {},
   "outputs": [
    {
     "name": "stdout",
     "output_type": "stream",
     "text": [
      "\\begin{tabular}{llrrrr}\n",
      "\\toprule\n",
      "            Dataset &        OptGNN & Greedy & \\multicolumn{3}{l}{Gurobi} \\\\\n",
      "              &            &     &   0.1s &   1.0s &   8.0s \\\\\n",
      "\\midrule\n",
      " \\midrule \n",
      "BA\\textsuperscript{a} (50,100) &   1.75 +/- 65 &  51.92 &  42.82 &  42.82 &  42.82 \\\\\n",
      "BA\\textsuperscript{a} (100,200) &   1.79 +/- 50 & 101.42 &  83.19 &  83.19 &  83.19 \\\\\n",
      "BA\\textsuperscript{a} (400,500) &   1.83 +/- 28 & 302.53 & 256.33 & 246.49 & 246.46 \\\\\n",
      " \\midrule \n",
      "ER\\textsuperscript{a} (50,100) &   1.40 +/- 70 &  68.85 &  55.06 &  54.67 &  54.67 \\\\\n",
      "ER\\textsuperscript{a} (100,200) &   1.24 +/- 40 & 143.51 & 127.83 & 123.47 & 122.76 \\\\\n",
      "ER\\textsuperscript{a} (400,500) &    1.08 +/- 7 & 442.84 & 423.07 & 423.07 & 415.52 \\\\\n",
      " \\midrule \n",
      "HK\\textsuperscript{a} (50,100) &   1.75 +/- 69 &  51.38 &  42.98 &  42.98 &  42.98 \\\\\n",
      "HK\\textsuperscript{a} (100,200) &   1.78 +/- 50 & 100.87 &  84.07 &  84.07 &  84.07 \\\\\n",
      "HK\\textsuperscript{a} (400,500) &   1.81 +/- 29 & 298.98 & 247.90 & 247.57 & 247.57 \\\\\n",
      " \\midrule \n",
      "WC\\textsuperscript{a} (50,100) &   1.66 +/- 36 &  72.55 &  45.74 &  45.74 &  45.74 \\\\\n",
      "WC\\textsuperscript{a} (100,200) &   1.66 +/- 25 & 143.70 &  89.80 &  89.80 &  89.80 \\\\\n",
      "WC\\textsuperscript{a} (400,500) &   1.66 +/- 14 & 434.52 & 269.58 & 269.39 & 269.39 \\\\\n",
      "       \\midrule \n",
      "MUTAG\\textsuperscript{b} &  2.25 +/- 153 &  12.84 &   7.74 &   7.74 &   7.74 \\\\\n",
      "     ENZYMES\\textsuperscript{b} &  1.64 +/- 174 &  27.35 &  20.00 &  20.00 &  20.00 \\\\\n",
      "    PROTEINS\\textsuperscript{b} &  1.59 +/- 159 &  33.93 &  24.96 &  24.96 &  24.96 \\\\\n",
      "    IMDB-BIN\\textsuperscript{b} &   1.20 +/- 82 &  17.24 &  16.76 &  16.76 &  16.76 \\\\\n",
      "      COLLAB\\textsuperscript{b} &  1.21 +/- 221 &  71.74 &  67.47 &  67.46 &  67.46 \\\\\n",
      "   \\midrule \n",
      "REDDIT-BIN\\textsuperscript{c} & 4.70 +/- 2499 & 117.16 &  82.81 &  82.81 &  82.81 \\\\\n",
      "REDDIT-M-12K\\textsuperscript{c} & 4.13 +/- 1142 & 115.72 &  81.57 &  81.52 &  81.52 \\\\\n",
      " REDDIT-M-5K\\textsuperscript{c} & 4.58 +/- 1116 & 153.24 & 108.73 & 107.32 & 107.32 \\\\\n",
      "\\bottomrule\n",
      "\\end{tabular}\n",
      "\n"
     ]
    },
    {
     "name": "stderr",
     "output_type": "stream",
     "text": [
      "/tmp/ipykernel_1793879/1725993717.py:45: FutureWarning: In future versions `DataFrame.to_latex` is expected to utilise the base implementation of `Styler.to_latex` for formatting and rendering. The arguments signature may therefore change. It is recommended instead to use `DataFrame.style.to_latex` which also contains additional functionality.\n",
      "  main_body = nudf.to_latex(index=False)\n"
     ]
    }
   ],
   "source": [
    "nudf = df.iloc[:,1:].round(2).fillna(\"\")\n",
    "#\n",
    "#print(nudf.keys())\n",
    "\n",
    "\n",
    "\n",
    "nudf.Nmin = nudf.Nmin.apply(lambda x: int(x) if x!=\"\" else x)\n",
    "nudf.Nmax = nudf.Nmax.apply(lambda x: int(x) if x!=\"\" else x)\n",
    "nudf.Type = nudf.apply(lambda row: f'{row.Type} ({row.Nmin},{row.Nmax})', axis=1)\n",
    "nudf.Type = nudf.Type.apply(lambda dataset: dataset[:-4] if dataset.endswith(\"(,)\") else dataset)\n",
    "#nudf['dataset'] = nudf.Type\n",
    "nudf = nudf[[x for x in nudf.keys() if x not in ['Nmin', 'Nmax', 'SDP proj'\n",
    "]]]\n",
    "\n",
    "# TODO: get things to bold\n",
    "# get things to bold\n",
    "\n",
    "list_of_things = []\n",
    "for i, row in nudf.iterrows():\n",
    "    #print(row)\n",
    "    possibilities = [float(x.split(\" \")[0]) if isinstance(x, str) else x for x in row.values[2:]]\n",
    "    if fname == 'Table1_maxcut.csv':\n",
    "        list_of_things.append(f'{max(possibilities):0.2f}')\n",
    "    else:\n",
    "        list_of_things.append(f'{min(possibilities):0.2f}')\n",
    "list_of_things = []\n",
    "\n",
    "nudf = nudf[['Type', 'LiftMP', 'greedy', 'gurobi_0.1', 'gurobi_1.0', 'gurobi_8.0']]\n",
    "\n",
    "\n",
    "cols = nudf.columns\n",
    "hrow1 = []\n",
    "hrow2 = []\n",
    "for x in cols:\n",
    "    if x.startswith('gurobi'):\n",
    "        hrow1.append(\"gurobi\")\n",
    "        hrow2.append(x.split(\"_\")[1] + \"s\")\n",
    "    else:\n",
    "        hrow1.append(x)\n",
    "        hrow2.append(\"@@@\")\n",
    "\n",
    "header = pd.MultiIndex.from_arrays([hrow1, hrow2])\n",
    "nudf.columns = header\n",
    "\n",
    "main_body = nudf.to_latex(index=False)\n",
    "\n",
    "print(wraptable(do_bolding(main_body,list_of_things),fname))\n",
    "\n"
   ]
  },
  {
   "cell_type": "markdown",
   "metadata": {},
   "source": [
    "# instructions: \n",
    "2. add midrules"
   ]
  },
  {
   "cell_type": "code",
   "execution_count": null,
   "metadata": {},
   "outputs": [],
   "source": []
  }
 ],
 "metadata": {
  "kernelspec": {
   "display_name": "maxcut-802",
   "language": "python",
   "name": "python3"
  },
  "language_info": {
   "codemirror_mode": {
    "name": "ipython",
    "version": 3
   },
   "file_extension": ".py",
   "mimetype": "text/x-python",
   "name": "python",
   "nbconvert_exporter": "python",
   "pygments_lexer": "ipython3",
   "version": "3.11.3"
  },
  "orig_nbformat": 4
 },
 "nbformat": 4,
 "nbformat_minor": 2
}
