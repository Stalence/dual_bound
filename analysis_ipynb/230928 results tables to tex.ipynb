{
 "cells": [
  {
   "cell_type": "code",
   "execution_count": 26,
   "metadata": {},
   "outputs": [],
   "source": [
    "import pandas as pd\n",
    "def wraptable(thing):\n",
    "    return \"\\\\begin{table} \\n\" + thing + \"\\n\\\\caption{whatever} \\n\" + \"\\\\end{table}\\n\"\n",
    "    \n"
   ]
  },
  {
   "cell_type": "code",
   "execution_count": 27,
   "metadata": {},
   "outputs": [],
   "source": [
    "df = pd.read_csv('Table1_maxcut.csv')"
   ]
  },
  {
   "cell_type": "code",
   "execution_count": 28,
   "metadata": {},
   "outputs": [
    {
     "name": "stdout",
     "output_type": "stream",
     "text": [
      "\\begin{table} \n",
      "\\begin{tabular}{lrrrrrr}\n",
      "\\toprule\n",
      "   dataset &  gen\\_n &      GAT &     GCNN &      GIN &  GatedGCNN &   LiftMP \\\\\n",
      "\\midrule\n",
      "ErdosRenyi &   50.0 &   525.92 &   500.94 &   498.82 &     526.78 &   529.00 \\\\\n",
      "ErdosRenyi &  100.0 &  1979.45 &  1890.10 &  1889.96 &    1978.78 &  1995.05 \\\\\n",
      "ErdosRenyi &  400.0 & 16317.69 & 15692.12 & 15818.42 &   16188.85 & 16379.34 \\\\\n",
      "\\bottomrule\n",
      "\\end{tabular}\n",
      "\n",
      "\\caption{whatever} \n",
      "\\end{table}\n",
      "\n"
     ]
    },
    {
     "name": "stderr",
     "output_type": "stream",
     "text": [
      "/tmp/ipykernel_1435529/1701652534.py:1: FutureWarning: In future versions `DataFrame.to_latex` is expected to utilise the base implementation of `Styler.to_latex` for formatting and rendering. The arguments signature may therefore change. It is recommended instead to use `DataFrame.style.to_latex` which also contains additional functionality.\n",
      "  main_body = (df.round(2).to_latex(index=False))\n"
     ]
    }
   ],
   "source": [
    "main_body = (df.round(2).to_latex(index=False))\n",
    "print(wraptable(main_body))"
   ]
  },
  {
   "cell_type": "markdown",
   "metadata": {},
   "source": [
    "# Table 2"
   ]
  },
  {
   "cell_type": "code",
   "execution_count": null,
   "metadata": {},
   "outputs": [],
   "source": [
    "df = pd.read_csv('Table2_maxcut.csv')"
   ]
  },
  {
   "cell_type": "code",
   "execution_count": 29,
   "metadata": {},
   "outputs": [
    {
     "name": "stdout",
     "output_type": "stream",
     "text": [
      "\\begin{table} \n",
      "\\begin{tabular}{rrrrrr}\n",
      "\\toprule\n",
      " gen\\_n &      GAT &     GCNN &      GIN &  GatedGCNN &   LiftMP \\\\\n",
      "\\midrule\n",
      "  50.0 &   525.92 &   500.94 &   498.82 &     526.78 &   529.00 \\\\\n",
      " 100.0 &  1979.45 &  1890.10 &  1889.96 &    1978.78 &  1995.05 \\\\\n",
      " 400.0 & 16317.69 & 15692.12 & 15818.42 &   16188.85 & 16379.34 \\\\\n",
      "\\bottomrule\n",
      "\\end{tabular}\n",
      "\n",
      "\\caption{whatever} \n",
      "\\end{table}\n",
      "\n"
     ]
    },
    {
     "name": "stderr",
     "output_type": "stream",
     "text": [
      "/tmp/ipykernel_1435529/916021661.py:1: FutureWarning: In future versions `DataFrame.to_latex` is expected to utilise the base implementation of `Styler.to_latex` for formatting and rendering. The arguments signature may therefore change. It is recommended instead to use `DataFrame.style.to_latex` which also contains additional functionality.\n",
      "  main_body = df.iloc[:,1:].round(2).to_latex(index=False)\n"
     ]
    }
   ],
   "source": [
    "main_body = df.iloc[:,1:].round(2).to_latex(index=False)\n",
    "\n",
    "print(wraptable(main_body))\n",
    "\n"
   ]
  },
  {
   "cell_type": "code",
   "execution_count": null,
   "metadata": {},
   "outputs": [],
   "source": [
    "# instructions: \n",
    "2. add midrules"
   ]
  },
  {
   "cell_type": "code",
   "execution_count": null,
   "metadata": {},
   "outputs": [],
   "source": [
    "\\begin{tabular}{lrrrrrr}\n",
    "\\toprule\n",
    "           Type &  Nmin &  Nmax &   LiftMP &  gurobi\\_2.0 &  gurobi\\_4.0 &  gurobi\\_8.0 \\\\\n",
    "\\midrule\n",
    " BarabasiAlbert &  50.0 &  50.0 &   351.49 &      352.12 &      352.12 &      352.12 \\\\\n",
    " BarabasiAlbert & 100.0 & 100.0 &   717.05 &      719.93 &      720.00 &      720.22 \\\\\n",
    " BarabasiAlbert & 400.0 & 400.0 &  2198.11 &     2208.79 &     2213.00 &     2213.08 \\\\\n",
    "\\midrule\n",
    "     ErdosRenyi &  50.0 &  50.0 &   529.00 &      530.12 &      530.17 &      530.19 \\\\\n",
    "     ErdosRenyi & 100.0 & 100.0 &  1995.05 &     2002.89 &     2002.92 &     2002.98 \\\\\n",
    "     ErdosRenyi & 400.0 & 400.0 & 16379.34 &    16493.98 &    16495.24 &    16495.50 \\\\\n",
    "\\midrule\n",
    "PowerlawCluster &  50.0 &  50.0 &   345.74 &      346.42 &      346.42 &      346.42 \\\\\n",
    "PowerlawCluster & 100.0 & 100.0 &   709.39 &      712.63 &      712.72 &      712.95 \\\\\n",
    "PowerlawCluster & 400.0 & 400.0 &  2159.90 &     2169.78 &     2173.82 &     2173.95 \\\\\n",
    "\\midrule\n",
    "  WattsStrogatz &  50.0 &  50.0 &   198.28 &      198.74 &      198.74 &      198.74 \\\\\n",
    "  WattsStrogatz & 100.0 & 100.0 &   389.77 &      392.07 &      392.07 &      392.07 \\\\\n",
    "  WattsStrogatz & 400.0 & 400.0 &  1165.90 &     1178.01 &     1178.46 &     1179.81 \\\\\n",
    "\\bottomrule\n",
    "\\end{tabular}"
   ]
  }
 ],
 "metadata": {
  "kernelspec": {
   "display_name": "maxcut-802",
   "language": "python",
   "name": "python3"
  },
  "language_info": {
   "codemirror_mode": {
    "name": "ipython",
    "version": 3
   },
   "file_extension": ".py",
   "mimetype": "text/x-python",
   "name": "python",
   "nbconvert_exporter": "python",
   "pygments_lexer": "ipython3",
   "version": "3.11.3"
  },
  "orig_nbformat": 4
 },
 "nbformat": 4,
 "nbformat_minor": 2
}
