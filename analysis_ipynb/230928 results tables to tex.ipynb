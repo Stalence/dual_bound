{
 "cells": [
  {
   "cell_type": "code",
   "execution_count": 1,
   "metadata": {},
   "outputs": [],
   "source": [
    "import pandas as pd\n",
    "import numpy as np\n",
    "\n",
    "def wraptable(thing, caption):\n",
    "    # replace ascii bs\n",
    "    thing = thing.replace(\"\\\\textasciicircum \\\\{a\\\\}\", \"\\\\textsuperscript{a}\").replace(\"\\\\textasciicircum \\\\{b\\\\}\", \"\\\\textsuperscript{b}\" )\n",
    "    for substr in ['MUTAG', 'ER\\\\textsuperscript{a}', 'BA\\\\textsuperscript{a}', 'HK\\\\textsuperscript{a}', 'WC\\\\textsuperscript{a}', 'ForcedRB &']:\n",
    "        thing = thing.replace(substr, f'\\midrule \\n{substr}', 1)\n",
    "    thing = thing.replace(\"@@@\", \"\")\n",
    "    thing = thing.replace(\"Nmin\", \"$N_\\\\text{min}$\")\n",
    "    thing = thing.replace(\"Nmax\", \"$N_\\\\text{max}$\")\n",
    "    thing = thing.replace(\"gurobi\", 'Gurobi')\n",
    "    thing = thing.replace(\"LiftMP\", 'OptGNN')\n",
    "    replace = {'REDDIT-BINARY': '\\midrule \\nREDDIT-BIN\\\\textsuperscript{c}',\n",
    "           'REDDIT-MULTI-12K': 'REDDIT-M-12K\\\\textsuperscript{c}',\n",
    "            'REDDIT-MULTI-5K': 'REDDIT-M-5K\\\\textsuperscript{c}',\n",
    "            'gen\\\\_n': \"$N_\\\\text{min}$\",\n",
    "            'greedy': 'Greedy',\n",
    "            'Type': 'Dataset',\n",
    "            'dataset': 'Dataset'} \n",
    "    for k, v in replace.items():\n",
    "        thing = thing.replace(k, v)\n",
    "    return thing\n",
    "    #return \"\\\\begin{table} \\n\" + thing + f\"\\n\\\\caption{{ {caption}}} \\n\" + \"\\\\end{table}\\n\"\n",
    "\n",
    "\n",
    "def do_bolding(latex_string, list_of_things):\n",
    "    dict_of_things = {str(x): f'\\\\textbf{{{str(x)}}}' for x in list_of_things}\n",
    "    for k, v in dict_of_things.items():\n",
    "        latex_string = latex_string.replace(k, v)\n",
    "    return latex_string\n",
    "    \n",
    "    \n",
    "    "
   ]
  },
  {
   "cell_type": "code",
   "execution_count": 2,
   "metadata": {},
   "outputs": [],
   "source": [
    "fname = 'Table1_maxcut.csv'\n",
    "#fname = 'Table1_VC.csv'\n",
    "df = pd.read_csv(fname)\n",
    "df = df[~df.dataset.isin(['RANDOM', 'ForcedRB'])]\n",
    "dataset_conversion = dict(zip(['BarabasiAlbert', 'ErdosRenyi', 'PowerlawCluster', 'WattsStrogatz', 'MUTAG', 'ENZYMES', 'PROTEINS',   'IMDB-BINARY', 'COLLAB',], \n",
    "                              ['BA^{a}', 'ER^{a}', 'HK^{a}', 'WC^{a}', 'MUTAG^{b}', 'ENZYMES^{b}', 'PROTEINS^{b}',   'IMDB-BIN^{b}', 'COLLAB^{b}',]))\n",
    "\n",
    "df.dataset = df.dataset.map(lambda x: dataset_conversion.get(x, x))\n",
    "#df = pd.read_csv('Table1_VC.csv')"
   ]
  },
  {
   "cell_type": "code",
   "execution_count": 3,
   "metadata": {},
   "outputs": [
    {
     "name": "stdout",
     "output_type": "stream",
     "text": [
      "\\begin{tabular}{llllll}\n",
      "\\toprule\n",
      "         Dataset &           GAT &          GCNN &           GIN &     GatedGCNN &        OptGNN \\\\\n",
      "\\midrule\n",
      " \\midrule \n",
      "ER\\textsuperscript{a} (50,100) &    525.9 (25) &    500.9 (17) &    498.8 (15) &    526.8 (14) &    529.0 (18) \\\\\n",
      "ER\\textsuperscript{a} (100,200) &   1979.4 (20) &   1890.1 (23) &   1890.0 (23) &   1978.8 (22) &   1995.1 (24) \\\\\n",
      "ER\\textsuperscript{a} (400,500) & 16317.7 (208) & 15692.1 (230) & 15818.4 (212) & 16188.8 (211) & 16387.5 (226) \\\\\n",
      "       \\midrule \n",
      "MUTAG\\textsuperscript{b} &     27.9 (18) &      9.4 (20) &      9.4 (13) &      9.4 (10) &     27.9 (10) \\\\\n",
      "     ENZYMES\\textsuperscript{b} &     80.7 (14) &     31.2 (16) &     74.6 (14) &     31.2 (11) &     81.4 (13) \\\\\n",
      "    PROTEINS\\textsuperscript{b} &    100.9 (14) &     39.1 (13) &     93.0 (12) &     39.1 (17) &    102.2 (16) \\\\\n",
      "    IMDB-BIN\\textsuperscript{b} &     82.3 (19) &     45.6 (19) &     45.6 (11) &     45.6 (13) &     97.5 (16) \\\\\n",
      "      COLLAB\\textsuperscript{b} &   2611.8 (22) &   1277.1 (28) &   1277.1 (20) &   1277.1 (22) &   2622.5 (27) \\\\\n",
      "   \\midrule \n",
      "REDDIT-BIN\\textsuperscript{c} &               &               &               &               &   238.5 (185) \\\\\n",
      "REDDIT-M-12K\\textsuperscript{c} &               &               &               &               &    196.1 (87) \\\\\n",
      " REDDIT-M-5K\\textsuperscript{c} &               &               &               &               &   271.5 (134) \\\\\n",
      "\\bottomrule\n",
      "\\end{tabular}\n",
      "\n"
     ]
    },
    {
     "name": "stderr",
     "output_type": "stream",
     "text": [
      "/tmp/ipykernel_1782492/2663717676.py:20: FutureWarning: In future versions `DataFrame.to_latex` is expected to utilise the base implementation of `Styler.to_latex` for formatting and rendering. The arguments signature may therefore change. It is recommended instead to use `DataFrame.style.to_latex` which also contains additional functionality.\n",
      "  main_body = (nudf.to_latex(index=False))\n"
     ]
    }
   ],
   "source": [
    "gen_n_dict = dict(zip([50, 100, 400, \"\", np.nan], [100, 200, 500, \"\", \"\"]))\n",
    "nudf = df.round(2).fillna(\"\")\n",
    "nudf.gen_n = nudf.gen_n.apply(lambda x: int(x) if x != \"\" else x)\n",
    "nudf['Nmax'] = nudf.gen_n.apply(lambda x: gen_n_dict[x])\n",
    "nudf['Nmin'] = nudf.gen_n\n",
    "nudf.dataset = nudf.apply(lambda row: f'{row.dataset} ({row.Nmin},{row.Nmax})', axis=1)\n",
    "nudf.dataset = nudf.dataset.apply(lambda dataset: dataset[:-4] if dataset.endswith(\"(,)\") else dataset)\n",
    "\n",
    "nudf = nudf[['dataset', 'GAT', 'GCNN', 'GIN', 'GatedGCNN', 'LiftMP']]\n",
    "\n",
    "# get things to bold\n",
    "list_of_things = []\n",
    "for i, row in nudf.iterrows():\n",
    "    possibilities = [float(x.split(\" \")[0]) for x in row.values[2:] if x!=\"\"]\n",
    "    if fname == 'Table1_maxcut.csv':\n",
    "        list_of_things.append(f'{max(possibilities):0.2f}')\n",
    "    else:\n",
    "        list_of_things.append(f'{min(possibilities):0.2f}')\n",
    "\n",
    "main_body = (nudf.to_latex(index=False))\n",
    "print(wraptable(do_bolding(main_body,list_of_things),fname))"
   ]
  },
  {
   "cell_type": "code",
   "execution_count": 4,
   "metadata": {},
   "outputs": [
    {
     "data": {
      "text/plain": [
       "Index(['dataset', 'GAT', 'GCNN', 'GIN', 'GatedGCNN', 'LiftMP'], dtype='object')"
      ]
     },
     "execution_count": 4,
     "metadata": {},
     "output_type": "execute_result"
    }
   ],
   "source": [
    "nudf.keys()"
   ]
  },
  {
   "cell_type": "markdown",
   "metadata": {},
   "source": [
    "# Table 2"
   ]
  },
  {
   "cell_type": "code",
   "execution_count": null,
   "metadata": {},
   "outputs": [],
   "source": []
  },
  {
   "cell_type": "code",
   "execution_count": 5,
   "metadata": {},
   "outputs": [],
   "source": [
    "fname = 'Table2_maxcut.csv'\n",
    "#fname = 'Table2_VC.csv'\n",
    "\n",
    "df = pd.read_csv(fname)\n",
    "df = df[~df.Type.isin(['RANDOM', 'ForcedRB'])]\n",
    "\n",
    "#dataset_conversion = dict(zip(['BarabasiAlbert', 'ErdosRenyi', 'PowerlawCluster', 'WattsStrogatz', 'MUTAG', 'ENZYMES', 'PROTEINS',   'IMDB-BINARY', 'COLLAB',], \n",
    "#                              ['BA^{b}', 'ER^{b}', 'PC^{b}', 'WC^{b}', 'MUTAG^{a}', 'ENZYMES^{a}', 'PROTEINS^{a}',   'IMDB-BINARY^{a}', 'COLLAB^{a}',]))\n",
    "\n",
    "df.Type = df.Type.map(lambda x: dataset_conversion.get(x, x))#df = pd.read_csv('Table2_VC.csv')\n"
   ]
  },
  {
   "cell_type": "markdown",
   "metadata": {},
   "source": [
    "df"
   ]
  },
  {
   "cell_type": "markdown",
   "metadata": {},
   "source": [
    "# load in nikos baselines\n",
    "if fname == 'Table2_VC.csv':\n",
    "    x = pd.read_csv('kamis_lwd_baselines.csv')\n",
    "    problems = {'er': 'ErdosRenyi_400.0',\n",
    "            'ba': 'BarabasiAlbert_400.0',\n",
    "            'hk': 'PowerlawCluster_400.0',\n",
    "            'ws': 'WattsStrogatz_400.0',}\n",
    "\n",
    "    for i, row in x.iterrows():\n",
    "        problem = problems[row['problem']]\n",
    "        df.loc[df['Unnamed: 0'] == problem, 'kamis'] = f'{row[\"k_solution_sizes_average\"]:0.2f} ({row[\"k_times_average\"]:0.2f})'\n",
    "        df.loc[df['Unnamed: 0'] == problem, 'lwd'] = f'{row[\"l_solution_sizes_average\"]:0.2f} ({row[\"l_times_average\"]:0.2f})'\n",
    "        \n",
    "    "
   ]
  },
  {
   "cell_type": "code",
   "execution_count": null,
   "metadata": {},
   "outputs": [],
   "source": []
  },
  {
   "cell_type": "code",
   "execution_count": 6,
   "metadata": {},
   "outputs": [
    {
     "name": "stdout",
     "output_type": "stream",
     "text": [
      "\\begin{tabular}{llrrrr}\n",
      "\\toprule\n",
      "            Dataset &        OptGNN & Greedy & \\multicolumn{3}{l}{Gurobi} \\\\\n",
      "              &            &     &    0.1s &    1.0s &    8.0s \\\\\n",
      "\\midrule\n",
      " \\midrule \n",
      "BA\\textsuperscript{a} (50,100) &    351.5 (22) &  200.1 &   351.9 &   352.1 &   352.1 \\\\\n",
      "BA\\textsuperscript{a} (100,200) &    717.2 (20) &  408.0 &   719.4 &   719.7 &   720.2 \\\\\n",
      "BA\\textsuperscript{a} (400,500) &   2198.1 (60) & 1255.2 &  2208.1 &  2208.1 &  2212.5 \\\\\n",
      " \\midrule \n",
      "ER\\textsuperscript{a} (50,100) &    529.0 (18) &  298.5 &   529.9 &   530.0 &   530.2 \\\\\n",
      "ER\\textsuperscript{a} (100,200) &   1995.1 (24) & 1097.3 &  2002.9 &  2002.9 &  2002.9 \\\\\n",
      "ER\\textsuperscript{a} (400,500) & 16387.5 (226) & 8622.3 & 16476.7 & 16491.6 & 16495.3 \\\\\n",
      " \\midrule \n",
      "HK\\textsuperscript{a} (50,100) &    345.7 (18) &  196.2 &   346.2 &   346.4 &   346.4 \\\\\n",
      "HK\\textsuperscript{a} (100,200) &    709.4 (20) &  402.5 &   711.7 &   712.3 &   712.9 \\\\\n",
      "HK\\textsuperscript{a} (400,500) &   2159.9 (60) & 1231.0 &  2169.5 &  2169.5 &  2173.9 \\\\\n",
      " \\midrule \n",
      "WC\\textsuperscript{a} (50,100) &    198.3 (22) &  116.6 &   198.7 &   198.7 &   198.7 \\\\\n",
      "WC\\textsuperscript{a} (100,200) &    389.8 (21) &  229.4 &   391.0 &   392.1 &   392.1 \\\\\n",
      "WC\\textsuperscript{a} (400,500) &   1166.5 (78) &  690.2 &  1173.4 &  1176.0 &  1179.9 \\\\\n",
      "       \\midrule \n",
      "MUTAG\\textsuperscript{b} &     27.9 (10) &   16.9 &    27.9 &    27.9 &    27.9 \\\\\n",
      "     ENZYMES\\textsuperscript{b} &     81.4 (13) &   48.5 &    81.4 &    81.4 &    81.4 \\\\\n",
      "    PROTEINS\\textsuperscript{b} &    102.2 (16) &   60.7 &   102.3 &   102.4 &   102.4 \\\\\n",
      "    IMDB-BIN\\textsuperscript{b} &     97.5 (16) &   51.8 &    97.5 &    97.5 &    97.5 \\\\\n",
      "      COLLAB\\textsuperscript{b} &   2622.5 (27) & 1345.7 &  2624.3 &  2624.6 &  2624.6 \\\\\n",
      "   \\midrule \n",
      "REDDIT-BIN\\textsuperscript{c} &   238.5 (185) &  439.8 &   693.0 &   694.1 &   694.1 \\\\\n",
      "REDDIT-M-12K\\textsuperscript{c} &    196.1 (87) &  358.4 &   567.7 &   568.9 &   568.9 \\\\\n",
      " REDDIT-M-5K\\textsuperscript{c} &   271.5 (134) &  495.0 &   785.4 &   787.5 &   787.9 \\\\\n",
      "\\bottomrule\n",
      "\\end{tabular}\n",
      "\n"
     ]
    },
    {
     "name": "stderr",
     "output_type": "stream",
     "text": [
      "/tmp/ipykernel_1782492/1725993717.py:45: FutureWarning: In future versions `DataFrame.to_latex` is expected to utilise the base implementation of `Styler.to_latex` for formatting and rendering. The arguments signature may therefore change. It is recommended instead to use `DataFrame.style.to_latex` which also contains additional functionality.\n",
      "  main_body = nudf.to_latex(index=False)\n"
     ]
    }
   ],
   "source": [
    "nudf = df.iloc[:,1:].round(2).fillna(\"\")\n",
    "#\n",
    "#print(nudf.keys())\n",
    "\n",
    "\n",
    "\n",
    "nudf.Nmin = nudf.Nmin.apply(lambda x: int(x) if x!=\"\" else x)\n",
    "nudf.Nmax = nudf.Nmax.apply(lambda x: int(x) if x!=\"\" else x)\n",
    "nudf.Type = nudf.apply(lambda row: f'{row.Type} ({row.Nmin},{row.Nmax})', axis=1)\n",
    "nudf.Type = nudf.Type.apply(lambda dataset: dataset[:-4] if dataset.endswith(\"(,)\") else dataset)\n",
    "#nudf['dataset'] = nudf.Type\n",
    "nudf = nudf[[x for x in nudf.keys() if x not in ['Nmin', 'Nmax', 'SDP proj'\n",
    "]]]\n",
    "\n",
    "# TODO: get things to bold\n",
    "# get things to bold\n",
    "\n",
    "list_of_things = []\n",
    "for i, row in nudf.iterrows():\n",
    "    #print(row)\n",
    "    possibilities = [float(x.split(\" \")[0]) if isinstance(x, str) else x for x in row.values[2:]]\n",
    "    if fname == 'Table1_maxcut.csv':\n",
    "        list_of_things.append(f'{max(possibilities):0.2f}')\n",
    "    else:\n",
    "        list_of_things.append(f'{min(possibilities):0.2f}')\n",
    "list_of_things = []\n",
    "\n",
    "nudf = nudf[['Type', 'LiftMP', 'greedy', 'gurobi_0.1', 'gurobi_1.0', 'gurobi_8.0']]\n",
    "\n",
    "\n",
    "cols = nudf.columns\n",
    "hrow1 = []\n",
    "hrow2 = []\n",
    "for x in cols:\n",
    "    if x.startswith('gurobi'):\n",
    "        hrow1.append(\"gurobi\")\n",
    "        hrow2.append(x.split(\"_\")[1] + \"s\")\n",
    "    else:\n",
    "        hrow1.append(x)\n",
    "        hrow2.append(\"@@@\")\n",
    "\n",
    "header = pd.MultiIndex.from_arrays([hrow1, hrow2])\n",
    "nudf.columns = header\n",
    "\n",
    "main_body = nudf.to_latex(index=False)\n",
    "\n",
    "print(wraptable(do_bolding(main_body,list_of_things),fname))\n",
    "\n"
   ]
  },
  {
   "cell_type": "markdown",
   "metadata": {},
   "source": [
    "# instructions: \n",
    "2. add midrules"
   ]
  },
  {
   "cell_type": "code",
   "execution_count": null,
   "metadata": {},
   "outputs": [],
   "source": []
  }
 ],
 "metadata": {
  "kernelspec": {
   "display_name": "maxcut-802",
   "language": "python",
   "name": "python3"
  },
  "language_info": {
   "codemirror_mode": {
    "name": "ipython",
    "version": 3
   },
   "file_extension": ".py",
   "mimetype": "text/x-python",
   "name": "python",
   "nbconvert_exporter": "python",
   "pygments_lexer": "ipython3",
   "version": "3.11.3"
  },
  "orig_nbformat": 4
 },
 "nbformat": 4,
 "nbformat_minor": 2
}
