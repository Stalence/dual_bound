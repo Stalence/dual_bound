{
 "cells": [
  {
   "cell_type": "code",
   "execution_count": 1,
   "metadata": {},
   "outputs": [],
   "source": [
    "import pandas as pd\n",
    "import numpy as np\n",
    "\n",
    "def wraptable(thing, caption):\n",
    "    # replace ascii bs\n",
    "    thing = thing.replace(\"\\\\textasciicircum \\\\{a\\\\}\", \"\\\\textsuperscript{a}\").replace(\"\\\\textasciicircum \\\\{b\\\\}\", \"\\\\textsuperscript{b}\" )\n",
    "    for substr in ['MUTAG', 'ER\\\\textsuperscript{a}', 'BA\\\\textsuperscript{a}', 'HK\\\\textsuperscript{a}', 'WC\\\\textsuperscript{a}', 'ForcedRB &']:\n",
    "        thing = thing.replace(substr, f'\\midrule \\n{substr}', 1)\n",
    "    thing = thing.replace(\"@@@\", \"\")\n",
    "    thing = thing.replace(\"Nmin\", \"$N_\\\\text{min}$\")\n",
    "    thing = thing.replace(\"Nmax\", \"$N_\\\\text{max}$\")\n",
    "    thing = thing.replace(\"gurobi\", 'Gurobi')\n",
    "    thing = thing.replace(\"LiftMP\", 'OptGNN')\n",
    "    replace = {'REDDIT-BINARY': '\\midrule \\nREDDIT-BIN\\\\textsuperscript{c}',\n",
    "           'REDDIT-MULTI-12K': 'REDDIT-M-12K\\\\textsuperscript{c}',\n",
    "            'REDDIT-MULTI-5K': 'REDDIT-M-5K\\\\textsuperscript{c}',\n",
    "            'gen\\\\_n': \"$N_\\\\text{min}$\",\n",
    "            'greedy': 'Greedy',\n",
    "            'Type': 'Dataset',\n",
    "            'dataset': 'Dataset'} \n",
    "    for k, v in replace.items():\n",
    "        thing = thing.replace(k, v)\n",
    "    return thing\n",
    "    #return \"\\\\begin{table} \\n\" + thing + f\"\\n\\\\caption{{ {caption}}} \\n\" + \"\\\\end{table}\\n\"\n",
    "    "
   ]
  },
  {
   "cell_type": "code",
   "execution_count": 2,
   "metadata": {},
   "outputs": [],
   "source": [
    "fname = 'Table1_maxcut.csv'\n",
    "fname = 'Table1_VC.csv'\n",
    "df = pd.read_csv(fname)\n",
    "df = df[~df.dataset.isin(['RANDOM', 'ForcedRB'])]\n",
    "dataset_conversion = dict(zip(['BarabasiAlbert', 'ErdosRenyi', 'PowerlawCluster', 'WattsStrogatz', 'MUTAG', 'ENZYMES', 'PROTEINS',   'IMDB-BINARY', 'COLLAB',], \n",
    "                              ['BA^{a}', 'ER^{a}', 'HK^{a}', 'WC^{a}', 'MUTAG^{b}', 'ENZYMES^{b}', 'PROTEINS^{b}',   'IMDB-BIN^{b}', 'COLLAB^{b}',]))\n",
    "\n",
    "df.dataset = df.dataset.map(lambda x: dataset_conversion.get(x, x))\n",
    "#df = pd.read_csv('Table1_VC.csv')"
   ]
  },
  {
   "cell_type": "code",
   "execution_count": 3,
   "metadata": {},
   "outputs": [
    {
     "name": "stdout",
     "output_type": "stream",
     "text": [
      "\\begin{tabular}{llllll}\n",
      "\\toprule\n",
      "         Dataset &           GAT &          GCNN &           GIN &     GatedGCNN &        OptGNN \\\\\n",
      "\\midrule\n",
      " \\midrule \n",
      "ER\\textsuperscript{a} (50,100) &  58.74 (0.02) &  64.26 (0.02) &  63.50 (0.02) &  56.17 (0.02) &  55.25 (0.02) \\\\\n",
      "ER\\textsuperscript{a} (100,200) & 129.47 (0.02) & 141.94 (0.02) & 140.06 (0.02) & 131.38 (0.02) & 126.52 (0.02) \\\\\n",
      "ER\\textsuperscript{a} (400,500) & 443.94 (0.02) & 444.12 (0.02) & 442.11 (0.02) & 440.90 (0.02) & 420.70 (0.02) \\\\\n",
      "       \\midrule \n",
      "MUTAG\\textsuperscript{b} &   7.79 (0.02) &   8.11 (0.02) &  17.16 (0.02) &   7.74 (0.02) &   7.74 (0.02) \\\\\n",
      "     ENZYMES\\textsuperscript{b} &  21.82 (0.02) &  25.42 (0.02) &  32.93 (0.02) &  20.18 (0.02) &  20.00 (0.02) \\\\\n",
      "    PROTEINS\\textsuperscript{b} &  27.77 (0.02) &  31.07 (0.02) &  41.32 (0.02) &  25.25 (0.02) &  25.29 (0.02) \\\\\n",
      "    IMDB-BIN\\textsuperscript{b} &  17.62 (0.02) &  19.20 (0.02) &  20.02 (0.02) &  16.78 (0.02) &  16.76 (0.02) \\\\\n",
      "      COLLAB\\textsuperscript{b} &  68.23 (0.02) &  73.08 (0.02) &  77.33 (0.02) &  72.92 (0.02) &  67.50 (0.02) \\\\\n",
      "\\bottomrule\n",
      "\\end{tabular}\n",
      "\n"
     ]
    },
    {
     "name": "stderr",
     "output_type": "stream",
     "text": [
      "/tmp/ipykernel_1592801/3831217918.py:10: FutureWarning: In future versions `DataFrame.to_latex` is expected to utilise the base implementation of `Styler.to_latex` for formatting and rendering. The arguments signature may therefore change. It is recommended instead to use `DataFrame.style.to_latex` which also contains additional functionality.\n",
      "  main_body = (nudf.to_latex(index=False))\n"
     ]
    }
   ],
   "source": [
    "gen_n_dict = dict(zip([50, 100, 400, \"\", np.nan], [100, 200, 500, \"\", \"\"]))\n",
    "nudf = df.round(2).fillna(\"\")\n",
    "nudf.gen_n = nudf.gen_n.apply(lambda x: int(x) if x != \"\" else x)\n",
    "nudf['Nmax'] = nudf.gen_n.apply(lambda x: gen_n_dict[x])\n",
    "nudf['Nmin'] = nudf.gen_n\n",
    "nudf.dataset = nudf.apply(lambda row: f'{row.dataset} ({row.Nmin},{row.Nmax})', axis=1)\n",
    "nudf.dataset = nudf.dataset.apply(lambda dataset: dataset[:-4] if dataset.endswith(\"(,)\") else dataset)\n",
    "\n",
    "nudf = nudf[['dataset', 'GAT', 'GCNN', 'GIN', 'GatedGCNN', 'LiftMP']]\n",
    "main_body = (nudf.to_latex(index=False))\n",
    "print(wraptable(main_body,fname))"
   ]
  },
  {
   "cell_type": "code",
   "execution_count": 4,
   "metadata": {},
   "outputs": [
    {
     "data": {
      "text/plain": [
       "Index(['dataset', 'GAT', 'GCNN', 'GIN', 'GatedGCNN', 'LiftMP'], dtype='object')"
      ]
     },
     "execution_count": 4,
     "metadata": {},
     "output_type": "execute_result"
    }
   ],
   "source": [
    "nudf.keys()"
   ]
  },
  {
   "cell_type": "markdown",
   "metadata": {},
   "source": [
    "# Table 2"
   ]
  },
  {
   "cell_type": "code",
   "execution_count": null,
   "metadata": {},
   "outputs": [],
   "source": []
  },
  {
   "cell_type": "code",
   "execution_count": 5,
   "metadata": {},
   "outputs": [],
   "source": [
    "fname = 'Table2_maxcut.csv'\n",
    "#fname = 'Table2_VC.csv'\n",
    "\n",
    "df = pd.read_csv(fname)\n",
    "df = df[~df.Type.isin(['RANDOM', 'ForcedRB'])]\n",
    "\n",
    "#dataset_conversion = dict(zip(['BarabasiAlbert', 'ErdosRenyi', 'PowerlawCluster', 'WattsStrogatz', 'MUTAG', 'ENZYMES', 'PROTEINS',   'IMDB-BINARY', 'COLLAB',], \n",
    "#                              ['BA^{b}', 'ER^{b}', 'PC^{b}', 'WC^{b}', 'MUTAG^{a}', 'ENZYMES^{a}', 'PROTEINS^{a}',   'IMDB-BINARY^{a}', 'COLLAB^{a}',]))\n",
    "\n",
    "df.Type = df.Type.map(lambda x: dataset_conversion.get(x, x))#df = pd.read_csv('Table2_VC.csv')\n"
   ]
  },
  {
   "cell_type": "code",
   "execution_count": 6,
   "metadata": {},
   "outputs": [
    {
     "name": "stdout",
     "output_type": "stream",
     "text": [
      "\\begin{tabular}{llrrrrrrr}\n",
      "\\toprule\n",
      "            Dataset &          OptGNN & Greedy & \\multicolumn{6}{l}{Gurobi} \\\\\n",
      "              &              &     &    0.1s &    0.5s &    1.0s &    2.0s &    4.0s &    8.0s \\\\\n",
      "\\midrule\n",
      " \\midrule \n",
      "BA\\textsuperscript{a} (50,100) &   351.49 (0.02) &  200.1 &   351.9 &   352.1 &   352.1 &   352.1 &   352.1 &   352.1 \\\\\n",
      "BA\\textsuperscript{a} (100,200) &   717.19 (0.02) &  408.0 &   719.4 &   719.5 &   719.7 &   719.8 &   719.9 &   720.2 \\\\\n",
      "BA\\textsuperscript{a} (400,500) &  2198.11 (0.02) & 1255.2 &  2208.1 &  2208.1 &  2208.1 &  2208.6 &  2212.4 &  2212.5 \\\\\n",
      " \\midrule \n",
      "ER\\textsuperscript{a} (50,100) &   529.00 (0.02) &  298.5 &   529.9 &   530.0 &   530.0 &   530.1 &   530.1 &   530.2 \\\\\n",
      "ER\\textsuperscript{a} (100,200) &  1995.05 (0.02) & 1097.3 &  2002.9 &  2002.9 &  2002.9 &  2002.9 &  2002.9 &  2002.9 \\\\\n",
      "ER\\textsuperscript{a} (400,500) & 16387.46 (0.02) & 8496.8 & 16476.7 & 16481.6 & 16491.6 & 16494.4 & 16495.1 & 16495.3 \\\\\n",
      " \\midrule \n",
      "HK\\textsuperscript{a} (50,100) &   345.74 (0.02) &  196.2 &   346.2 &   346.4 &   346.4 &   346.4 &   346.4 &   346.4 \\\\\n",
      "HK\\textsuperscript{a} (100,200) &   709.39 (0.02) &  402.5 &   711.7 &   711.9 &   712.3 &   712.5 &   712.6 &   712.9 \\\\\n",
      "HK\\textsuperscript{a} (400,500) &  2159.90 (0.02) & 1231.0 &  2169.5 &  2169.5 &  2169.5 &  2169.9 &  2173.8 &  2173.9 \\\\\n",
      " \\midrule \n",
      "WC\\textsuperscript{a} (50,100) &   198.29 (0.02) &  116.6 &   198.7 &   198.7 &   198.7 &   198.7 &   198.7 &   198.7 \\\\\n",
      "WC\\textsuperscript{a} (100,200) &   389.83 (0.02) &  229.4 &   391.0 &   392.1 &   392.1 &   392.1 &   392.1 &   392.1 \\\\\n",
      "WC\\textsuperscript{a} (400,500) &  1166.47 (0.02) &  690.2 &  1173.4 &  1173.5 &  1176.0 &  1177.9 &  1178.5 &  1179.9 \\\\\n",
      "       \\midrule \n",
      "MUTAG\\textsuperscript{b} &    27.95 (0.02) &   16.9 &    27.9 &    27.9 &    27.9 &    27.9 &    27.9 &    27.9 \\\\\n",
      "     ENZYMES\\textsuperscript{b} &    81.42 (0.02) &   48.5 &    81.4 &    81.4 &    81.4 &    81.4 &    81.4 &    81.4 \\\\\n",
      "    PROTEINS\\textsuperscript{b} &   102.24 (0.02) &   60.7 &   102.3 &   102.4 &   102.4 &   102.4 &   102.4 &   102.4 \\\\\n",
      "    IMDB-BIN\\textsuperscript{b} &    97.48 (0.02) &   51.8 &    97.5 &    97.5 &    97.5 &    97.5 &    97.5 &    97.5 \\\\\n",
      "      COLLAB\\textsuperscript{b} &  2622.51 (0.02) & 1345.7 &  2624.3 &  2624.5 &  2624.6 &  2624.6 &  2624.6 &  2624.6 \\\\\n",
      "   \\midrule \n",
      "REDDIT-BIN\\textsuperscript{c} &                 &  400.8 &   632.7 &   633.7 &   633.8 &   633.8 &   633.8 &   633.8 \\\\\n",
      "REDDIT-M-12K\\textsuperscript{c} &                 &  408.7 &   647.6 &   648.8 &   648.9 &   649.0 &   649.0 &   649.0 \\\\\n",
      " REDDIT-M-5K\\textsuperscript{c} &                 &  532.4 &   844.7 &   846.8 &   847.2 &   847.6 &   847.8 &   847.8 \\\\\n",
      "\\bottomrule\n",
      "\\end{tabular}\n",
      "\n"
     ]
    },
    {
     "name": "stderr",
     "output_type": "stream",
     "text": [
      "/tmp/ipykernel_1592801/2007938396.py:29: FutureWarning: In future versions `DataFrame.to_latex` is expected to utilise the base implementation of `Styler.to_latex` for formatting and rendering. The arguments signature may therefore change. It is recommended instead to use `DataFrame.style.to_latex` which also contains additional functionality.\n",
      "  main_body = nudf.to_latex(index=False)\n"
     ]
    }
   ],
   "source": [
    "nudf = df.iloc[:,1:].round(2).fillna(\"\")\n",
    "#\n",
    "#print(nudf.keys())\n",
    "\n",
    "\n",
    "\n",
    "nudf.Nmin = nudf.Nmin.apply(lambda x: int(x) if x!=\"\" else x)\n",
    "nudf.Nmax = nudf.Nmax.apply(lambda x: int(x) if x!=\"\" else x)\n",
    "nudf.Type = nudf.apply(lambda row: f'{row.Type} ({row.Nmin},{row.Nmax})', axis=1)\n",
    "nudf.Type = nudf.Type.apply(lambda dataset: dataset[:-4] if dataset.endswith(\"(,)\") else dataset)\n",
    "#nudf['dataset'] = nudf.Type\n",
    "nudf = nudf[[x for x in nudf.keys() if x not in ['Nmin', 'Nmax'\n",
    "]]]\n",
    "\n",
    "cols = nudf.columns\n",
    "hrow1 = []\n",
    "hrow2 = []\n",
    "for x in cols:\n",
    "    if x.startswith('gurobi'):\n",
    "        hrow1.append(\"gurobi\")\n",
    "        hrow2.append(x.split(\"_\")[1] + \"s\")\n",
    "    else:\n",
    "        hrow1.append(x)\n",
    "        hrow2.append(\"@@@\")\n",
    "\n",
    "header = pd.MultiIndex.from_arrays([hrow1, hrow2])\n",
    "nudf.columns = header\n",
    "\n",
    "main_body = nudf.to_latex(index=False)\n",
    "\n",
    "print(wraptable(main_body,fname))\n",
    "\n"
   ]
  },
  {
   "cell_type": "markdown",
   "metadata": {},
   "source": [
    "# instructions: \n",
    "2. add midrules"
   ]
  },
  {
   "cell_type": "code",
   "execution_count": null,
   "metadata": {},
   "outputs": [],
   "source": []
  }
 ],
 "metadata": {
  "kernelspec": {
   "display_name": "maxcut-802",
   "language": "python",
   "name": "python3"
  },
  "language_info": {
   "codemirror_mode": {
    "name": "ipython",
    "version": 3
   },
   "file_extension": ".py",
   "mimetype": "text/x-python",
   "name": "python",
   "nbconvert_exporter": "python",
   "pygments_lexer": "ipython3",
   "version": "3.11.3"
  },
  "orig_nbformat": 4
 },
 "nbformat": 4,
 "nbformat_minor": 2
}
