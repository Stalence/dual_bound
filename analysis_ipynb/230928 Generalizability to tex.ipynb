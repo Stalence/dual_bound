{
 "cells": [
  {
   "cell_type": "code",
   "execution_count": 1,
   "metadata": {},
   "outputs": [],
   "source": [
    "import pandas as pd\n",
    "def wraptable(thing):\n",
    "    return \"\\\\begin{table} \\n\" + thing + \"\\n\\\\caption{whatever} \\n\" + \"\\\\end{table}\\n\""
   ]
  },
  {
   "cell_type": "code",
   "execution_count": 64,
   "metadata": {},
   "outputs": [],
   "source": [
    "df = pd.read_csv('Generalizability.csv')\n",
    "df = df.iloc[3:, 2:].round(2)"
   ]
  },
  {
   "cell_type": "code",
   "execution_count": 65,
   "metadata": {},
   "outputs": [
    {
     "name": "stdout",
     "output_type": "stream",
     "text": [
      "\\begin{tabular}{lrrrrrr}\n",
      "\\toprule\n",
      "        dataset &  gen\\_n &  ENZYMES &  PROTEINS &  MUTAG &  IMDB-BINARY &  COLLAB \\\\\n",
      "\\midrule\n",
      "        ENZYMES &  100.0 &   -20.60 &    -28.29 &  -7.74 &       -16.79 &  -68.40 \\\\\n",
      "          MUTAG &  100.0 &   -20.83 &    -26.76 &  -7.74 &       -16.92 &  -70.09 \\\\\n",
      "         COLLAB &  100.0 &   -20.35 &    -26.13 &  -7.89 &       -16.76 &  -67.52 \\\\\n",
      "       PROTEINS &  100.0 &   -20.22 &    -25.29 &  -7.89 &       -16.77 &  -70.26 \\\\\n",
      "    IMDB-BINARY &  100.0 &   -20.97 &    -27.06 &  -7.95 &       -16.76 &  -68.03 \\\\\n",
      " BarabasiAlbert &   50.0 &   -20.12 &    -27.66 &  -7.74 &       -17.57 &  -74.15 \\\\\n",
      " BarabasiAlbert &  100.0 &   -20.35 &    -26.03 &  -7.74 &       -16.86 &  -69.29 \\\\\n",
      " BarabasiAlbert &  400.0 &   -21.00 &    -26.54 &  -8.05 &       -17.34 &  -70.17 \\\\\n",
      "     ErdosRenyi &   50.0 &   -20.37 &    -28.17 &  -7.74 &       -16.86 &  -69.07 \\\\\n",
      "     ErdosRenyi &  100.0 &   -21.52 &    -27.72 &  -8.05 &       -16.89 &  -68.83 \\\\\n",
      "     ErdosRenyi &  400.0 &   -21.55 &    -28.60 &  -7.79 &       -16.78 &  -68.74 \\\\\n",
      "PowerlawCluster &   50.0 &   -20.42 &    -25.60 &  -7.74 &       -17.05 &  -69.17 \\\\\n",
      "PowerlawCluster &  100.0 &   -20.43 &    -27.30 &  -7.84 &       -17.01 &  -70.20 \\\\\n",
      "PowerlawCluster &  400.0 &   -20.63 &    -26.30 &  -7.95 &       -17.15 &  -69.91 \\\\\n",
      "  WattsStrogatz &   50.0 &   -20.13 &    -25.46 &  -7.89 &       -17.38 &  -70.14 \\\\\n",
      "  WattsStrogatz &  100.0 &   -20.30 &    -25.45 &  -7.79 &       -17.91 &  -71.16 \\\\\n",
      "  WattsStrogatz &  400.0 &   -20.48 &    -25.79 &  -8.05 &       -17.12 &  -70.16 \\\\\n",
      "\\bottomrule\n",
      "\\end{tabular}\n",
      "\n"
     ]
    },
    {
     "name": "stderr",
     "output_type": "stream",
     "text": [
      "/tmp/ipykernel_1431715/2915945794.py:1: FutureWarning: In future versions `DataFrame.to_latex` is expected to utilise the base implementation of `Styler.to_latex` for formatting and rendering. The arguments signature may therefore change. It is recommended instead to use `DataFrame.style.to_latex` which also contains additional functionality.\n",
      "  main_body = df.to_latex(index=False)\n"
     ]
    }
   ],
   "source": [
    "main_body = df.to_latex(index=False)\n",
    "print(wraptable(main_body))"
   ]
  },
  {
   "cell_type": "code",
   "execution_count": 66,
   "metadata": {},
   "outputs": [],
   "source": [
    "df = pd.read_csv('Generalizability.csv')\n",
    "df = df.iloc[:3, [1,3,4,5,6,7,8]].round(2).fillna(\"\")\n"
   ]
  },
  {
   "cell_type": "code",
   "execution_count": 67,
   "metadata": {},
   "outputs": [
    {
     "name": "stdout",
     "output_type": "stream",
     "text": [
      "\\begin{tabular}{llrrrrr}\n",
      "\\toprule\n",
      "Unnamed: 0 & gen\\_n &  ENZYMES &  PROTEINS &  MUTAG &  IMDB-BINARY &  COLLAB \\\\\n",
      "\\midrule\n",
      "gurobi\\_2.0 &       &    -20.0 &    -24.96 &  -7.74 &       -16.76 &  -67.46 \\\\\n",
      "gurobi\\_4.0 &       &    -20.0 &    -24.96 &  -7.74 &       -16.76 &  -67.46 \\\\\n",
      "gurobi\\_8.0 &       &    -20.0 &    -24.96 &  -7.74 &       -16.76 &  -67.46 \\\\\n",
      "\\bottomrule\n",
      "\\end{tabular}\n",
      "\n"
     ]
    },
    {
     "name": "stderr",
     "output_type": "stream",
     "text": [
      "/tmp/ipykernel_1431715/791547356.py:1: FutureWarning: In future versions `DataFrame.to_latex` is expected to utilise the base implementation of `Styler.to_latex` for formatting and rendering. The arguments signature may therefore change. It is recommended instead to use `DataFrame.style.to_latex` which also contains additional functionality.\n",
      "  gurobi_lines = df.to_latex(index=False)\n"
     ]
    }
   ],
   "source": [
    "gurobi_lines = df.to_latex(index=False)\n",
    "print(gurobi_lines)"
   ]
  },
  {
   "cell_type": "markdown",
   "metadata": {},
   "source": [
    "# instructions\n",
    "\n",
    "1. paste the gurobi results on the bottom\n",
    "2. add \"\\textbf{Gurobi Results} & & & & & \\\\\" between the two segments\n",
    "3. add \\midrule between the segments of the main_body\n",
    "4. delete gen_n for the non-generated datasets"
   ]
  },
  {
   "cell_type": "code",
   "execution_count": 69,
   "metadata": {},
   "outputs": [
    {
     "ename": "IndentationError",
     "evalue": "unindent does not match any outer indentation level (<tokenize>, line 5)",
     "output_type": "error",
     "traceback": [
      "\u001b[0;36m  File \u001b[0;32m<tokenize>:5\u001b[0;36m\u001b[0m\n\u001b[0;31m    ENZYMES &  100.0 &   -20.60 &    -28.29 &  -7.74 &       -16.79 &  -68.40 \\\\\u001b[0m\n\u001b[0m    ^\u001b[0m\n\u001b[0;31mIndentationError\u001b[0m\u001b[0;31m:\u001b[0m unindent does not match any outer indentation level\n"
     ]
    }
   ],
   "source": [
    "\\begin{tabular}{lrrrrrr}\n",
    "\\toprule\n",
    "        dataset &  gen\\_n &    ENZYMES &   PROTEINS &     MUTAG &  IMDB-BINARY &  COLLAB \\\\\n",
    "\\midrule\n",
    "       ENZYMES &  100.0 &   -20.60 &    -28.29 &  -7.74 &       -16.79 &  -68.40 \\\\\n",
    "          MUTAG &  100.0 &   -20.83 &    -26.76 &  -7.74 &       -16.92 &  -70.09 \\\\\n",
    "         COLLAB &  100.0 &   -20.35 &    -26.13 &  -7.89 &       -16.76 &  -67.52 \\\\\n",
    "       PROTEINS &  100.0 &   -20.22 &    -25.29 &  -7.89 &       -16.77 &  -70.26 \\\\\n",
    "    IMDB-BINARY &  100.0 &   -20.97 &    -27.06 &  -7.95 &       -16.76 &  -68.03 \\\\\n",
    "\\midrule\n",
    " BarabasiAlbert &   50.0 &   -20.12 &    -27.66 &  -7.74 &       -17.57 &  -74.15 \\\\\n",
    " BarabasiAlbert &  100.0 &   -20.35 &    -26.03 &  -7.74 &       -16.86 &  -69.29 \\\\\n",
    " BarabasiAlbert &  400.0 &   -21.00 &    -26.54 &  -8.05 &       -17.34 &  -70.17 \\\\\n",
    "\\midrule\n",
    "     ErdosRenyi &   50.0 &   -20.37 &    -28.17 &  -7.74 &       -16.86 &  -69.07 \\\\\n",
    "     ErdosRenyi &  100.0 &   -21.52 &    -27.72 &  -8.05 &       -16.89 &  -68.83 \\\\\n",
    "     ErdosRenyi &  400.0 &   -21.55 &    -28.60 &  -7.79 &       -16.78 &  -68.74 \\\\\n",
    "\\midrule\n",
    "PowerlawCluster &   50.0 &   -20.42 &    -25.60 &  -7.74 &       -17.05 &  -69.17 \\\\\n",
    "PowerlawCluster &  100.0 &   -20.43 &    -27.30 &  -7.84 &       -17.01 &  -70.20 \\\\\n",
    "PowerlawCluster &  400.0 &   -20.63 &    -26.30 &  -7.95 &       -17.15 &  -69.91 \\\\\n",
    "\\midrule\n",
    "  WattsStrogatz &   50.0 &   -20.13 &    -25.46 &  -7.89 &       -17.38 &  -70.14 \\\\\n",
    "  WattsStrogatz &  100.0 &   -20.30 &    -25.45 &  -7.79 &       -17.91 &  -71.16 \\\\\n",
    "  WattsStrogatz &  400.0 &   -20.48 &    -25.79 &  -8.05 &       -17.12 &  -70.16 \\\\\n",
    "\\bottomrule\n",
    "\\textbf{Gurobi Results} & & & & & \\\\\n",
    "\\midrule\n",
    "gurobi\\_2.0 &       &    -20.0 &    -24.96 &  -7.74 &       -16.76 &  -67.46 \\\\\n",
    "gurobi\\_4.0 &       &    -20.0 &    -24.96 &  -7.74 &       -16.76 &  -67.46 \\\\\n",
    "gurobi\\_8.0 &       &    -20.0 &    -24.96 &  -7.74 &       -16.76 &  -67.46 \\\\\n",
    "\\bottomrule\n",
    "\\end{tabular}"
   ]
  },
  {
   "cell_type": "code",
   "execution_count": null,
   "metadata": {},
   "outputs": [],
   "source": []
  }
 ],
 "metadata": {
  "kernelspec": {
   "display_name": "maxcut-802",
   "language": "python",
   "name": "python3"
  },
  "language_info": {
   "codemirror_mode": {
    "name": "ipython",
    "version": 3
   },
   "file_extension": ".py",
   "mimetype": "text/x-python",
   "name": "python",
   "nbconvert_exporter": "python",
   "pygments_lexer": "ipython3",
   "version": "3.11.3"
  },
  "orig_nbformat": 4
 },
 "nbformat": 4,
 "nbformat_minor": 2
}
