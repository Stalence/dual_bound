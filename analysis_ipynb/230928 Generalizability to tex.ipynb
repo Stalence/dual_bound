{
 "cells": [
  {
   "cell_type": "code",
   "execution_count": 11,
   "metadata": {},
   "outputs": [],
   "source": [
    "import pandas as pd\n",
    "def wraptable(thing):\n",
    "    for substr in [ 'MUTAG &   ','ER (', 'HK (', 'WC (', 'BA (']:\n",
    "        thing = thing.replace(substr, f'\\midrule \\n{substr}', 1)\n",
    "    replace = {\n",
    "            'gen\\\\_n\\\\_max': \"$N_\\\\text{max}$\",\n",
    "            'gen\\\\_n': \"$N_\\\\text{min}$\",\n",
    "            'IMDB-BINARY':'IMDB-BIN',} \n",
    "    for k, v in replace.items():\n",
    "        thing = thing.replace(k, v)\n",
    "    return thing\n",
    "    #return \"\\\\begin{table} \\n\" + thing + \"\\n\\\\caption{whatever} \\n\" + \"\\\\end{table}\\n\"\n",
    "\n",
    "\n",
    "def do_bolding(latex_string, list_of_things):\n",
    "    dict_of_things = {str(x): f'\\\\textbf{{{str(x)}}}' for x in list_of_things}\n",
    "    for k, v in dict_of_things.items():\n",
    "        latex_string = latex_string.replace(k, v)\n",
    "    return latex_string\n",
    "    "
   ]
  },
  {
   "cell_type": "code",
   "execution_count": 26,
   "metadata": {},
   "outputs": [],
   "source": [
    "df = pd.read_csv('Generalizability.csv')\n",
    "df.dataset = df.dataset.map(lambda x: dict(zip(['BarabasiAlbert', 'ErdosRenyi', 'PowerlawCluster', 'WattsStrogatz'], ['BA', 'ER', 'HK', 'WC'])).get(x, x))\n",
    "df = df.iloc[:-3, 2:].round(2)"
   ]
  },
  {
   "cell_type": "code",
   "execution_count": 27,
   "metadata": {},
   "outputs": [
    {
     "name": "stdout",
     "output_type": "stream",
     "text": [
      "\\begin{tabular}{lrrrrr}\n",
      "\\toprule\n",
      "Train Dataset &  MUTAG &  ENZYMES &  PROTEINS &  IMDB-BIN &  COLLAB \\\\\n",
      "\\midrule\n",
      "  \\midrule \n",
      "BA (50,100) &   \\textbf{7.74} &    20.12 &     27.66 &        17.57 &   74.15 \\\\\n",
      " BA (100,200) &   \\textbf{7.74} &    20.35 &     26.03 &        16.86 &   69.29 \\\\\n",
      " BA (400,500) &   8.05 &    21.00 &     26.54 &        17.34 &   70.17 \\\\\n",
      "  \\midrule \n",
      "ER (50,100) &   \\textbf{7.74} &    20.37 &     28.17 &        16.86 &   69.07 \\\\\n",
      " ER (100,200) &   8.05 &    21.52 &     27.72 &        16.89 &   68.83 \\\\\n",
      " ER (400,500) &   7.79 &    21.55 &     28.60 &        16.78 &   68.74 \\\\\n",
      "  \\midrule \n",
      "HK (50,100) &   \\textbf{7.74} &    20.42 &     25.60 &        17.05 &   69.17 \\\\\n",
      " HK (100,200) &   7.84 &    20.43 &     27.30 &        17.01 &   70.20 \\\\\n",
      " HK (400,500) &   7.95 &    20.63 &     26.30 &        17.15 &   69.91 \\\\\n",
      "  \\midrule \n",
      "WC (50,100) &   7.89 &    \\textbf{20.13} &     25.46 &        17.38 &   70.14 \\\\\n",
      " WC (100,200) &   7.79 &    20.30 &     25.45 &        17.91 &   71.16 \\\\\n",
      " WC (400,500) &   8.05 &    20.48 &     25.79 &        17.12 &   70.16 \\\\\n",
      "        \\midrule \n",
      "MUTAG &   \\textbf{7.74} &    20.83 &     26.76 &        16.92 &   70.09 \\\\\n",
      "      ENZYMES &   \\textbf{7.74} &    20.60 &     28.29 &        16.79 &   68.40 \\\\\n",
      "     PROTEINS &   7.89 &    20.22 &     \\textbf{25.29} &        16.77 &   70.26 \\\\\n",
      "  IMDB-BIN &   7.95 &    20.97 &     27.06 &        \\textbf{16.76} &   68.03 \\\\\n",
      "       COLLAB &   7.89 &    20.35 &     26.13 &        \\textbf{16.76} &   \\textbf{67.52} \\\\\n",
      "\\bottomrule\n",
      "\\end{tabular}\n",
      "\n"
     ]
    },
    {
     "name": "stderr",
     "output_type": "stream",
     "text": [
      "/tmp/ipykernel_1779527/3812583691.py:19: FutureWarning: In future versions `DataFrame.to_latex` is expected to utilise the base implementation of `Styler.to_latex` for formatting and rendering. The arguments signature may therefore change. It is recommended instead to use `DataFrame.style.to_latex` which also contains additional functionality.\n",
      "  main_body = df.to_latex(index=False)\n"
     ]
    }
   ],
   "source": [
    "df.gen_n = df.gen_n.fillna(\"\").apply(lambda x: int(x) if x != \"\" else x)\n",
    "df.gen_n_max = df.gen_n_max.fillna(\"\").apply(lambda x: int(x) if x != \"\" else x)\n",
    "\n",
    "df.dataset = df.apply(lambda row: f'{row.dataset} ({row.gen_n},{row.gen_n_max})', axis=1)\n",
    "df.dataset = df.dataset.apply(lambda dataset: dataset[:-4] if dataset.endswith(\"(,)\") else dataset)\n",
    "\n",
    "df = df[['dataset','MUTAG', 'ENZYMES', 'PROTEINS',\n",
    "       'IMDB-BINARY', 'COLLAB']]\n",
    "\n",
    "# get things to bold\n",
    "list_of_things = []\n",
    "for col in df.keys():\n",
    "    #print(col)\n",
    "    if col in ['dataset']: continue\n",
    "    possibilities = [float(x.split(\" \")[0]) if isinstance(x, str) else x for x in df[col].values[2:]]\n",
    "    list_of_things.append(f'{min(possibilities):0.2f}')\n",
    "\n",
    "df.rename({'dataset': 'Train Dataset'}, inplace=True, axis=1)\n",
    "main_body = df.to_latex(index=False)\n",
    "print(wraptable(do_bolding(main_body, list_of_things)))"
   ]
  },
  {
   "cell_type": "code",
   "execution_count": 14,
   "metadata": {},
   "outputs": [],
   "source": [
    "df = pd.read_csv('Generalizability.csv')\n",
    "df = df.iloc[-3:, [1,3,4,5,6,7,8]].round(2).fillna(\"\")\n"
   ]
  },
  {
   "cell_type": "code",
   "execution_count": 15,
   "metadata": {},
   "outputs": [
    {
     "name": "stdout",
     "output_type": "stream",
     "text": [
      "\\begin{tabular}{lllrrrr}\n",
      "\\toprule\n",
      "Unnamed: 0 & $N_\\text{min}$ & $N_\\text{max}$ &  MUTAG &  ENZYMES &  PROTEINS &  IMDB-BIN \\\\\n",
      "\\midrule\n",
      "gurobi\\_1.0 &       &           &   7.74 &     20.0 &     24.96 &        16.76 \\\\\n",
      "gurobi\\_2.0 &       &           &   7.74 &     20.0 &     24.96 &        16.76 \\\\\n",
      "gurobi\\_4.0 &       &           &   7.74 &     20.0 &     24.96 &        16.76 \\\\\n",
      "\\bottomrule\n",
      "\\end{tabular}\n",
      "\n"
     ]
    },
    {
     "name": "stderr",
     "output_type": "stream",
     "text": [
      "/tmp/ipykernel_1529140/2406804855.py:1: FutureWarning: In future versions `DataFrame.to_latex` is expected to utilise the base implementation of `Styler.to_latex` for formatting and rendering. The arguments signature may therefore change. It is recommended instead to use `DataFrame.style.to_latex` which also contains additional functionality.\n",
      "  gurobi_lines = df.to_latex(index=False)\n"
     ]
    }
   ],
   "source": [
    "gurobi_lines = df.to_latex(index=False)\n",
    "print(wraptable(gurobi_lines))"
   ]
  },
  {
   "cell_type": "markdown",
   "metadata": {},
   "source": [
    "# instructions\n",
    "\n",
    "1. paste the gurobi results on the bottom\n",
    "2. add \"\\textbf{Gurobi Results} & & & & & \\\\\" between the two segments\n",
    "3. add \\midrule between the segments of the main_body\n",
    "4. delete gen_n for the non-generated datasets"
   ]
  },
  {
   "cell_type": "markdown",
   "metadata": {},
   "source": [
    "\\begin{table} \n",
    "\\begin{tabular}{lrrrrrr}\n",
    "\\toprule\n",
    "        dataset &  gen\\_n &  ENZYMES &  MUTAG &  COLLAB &  PROTEINS &  IMDB-BINARY \\\\\n",
    "\\midrule\n",
    "        ENZYMES &   &   -20.60 &  -7.74 &  -68.40 &    -28.29 &       -16.79 \\\\\n",
    "          MUTAG &   &   -20.83 &  -7.74 &  -70.09 &    -26.76 &       -16.92 \\\\\n",
    "         COLLAB &   &   -20.35 &  -7.89 &  -67.52 &    -26.13 &       -16.76 \\\\\n",
    "       PROTEINS &   &   -20.22 &  -7.89 &  -70.26 &    -25.29 &       -16.77 \\\\\n",
    "    IMDB-BINARY &   &   -20.97 &  -7.95 &  -68.03 &    -27.06 &       -16.76 \\\\\n",
    "\\midrule\n",
    " BarabasiAlbert &   50.0 &   -20.12 &  -7.74 &  -74.15 &    -27.66 &       -17.57 \\\\\n",
    " BarabasiAlbert &  100.0 &   -20.35 &  -7.74 &  -69.29 &    -26.03 &       -16.86 \\\\\n",
    " BarabasiAlbert &  400.0 &   -21.00 &  -8.05 &  -70.17 &    -26.54 &       -17.34 \\\\\n",
    "\\midrule\n",
    "     ErdosRenyi &   50.0 &   -20.37 &  -7.74 &  -69.07 &    -28.17 &       -16.86 \\\\\n",
    "     ErdosRenyi &  100.0 &   -21.52 &  -8.05 &  -68.83 &    -27.72 &       -16.89 \\\\\n",
    "     ErdosRenyi &  400.0 &   -21.55 &  -7.79 &  -68.74 &    -28.60 &       -16.78 \\\\\n",
    "\\midrule\n",
    "PowerlawCluster &   50.0 &   -20.42 &  -7.74 &  -69.17 &    -25.60 &       -17.05 \\\\\n",
    "PowerlawCluster &  100.0 &   -20.43 &  -7.84 &  -70.20 &    -27.30 &       -17.01 \\\\\n",
    "PowerlawCluster &  400.0 &   -20.63 &  -7.95 &  -69.91 &    -26.30 &       -17.15 \\\\\n",
    "\\midrule\n",
    "  WattsStrogatz &   50.0 &   -20.13 &  -7.89 &  -70.14 &    -25.46 &       -17.38 \\\\\n",
    "  WattsStrogatz &  100.0 &   -20.30 &  -7.79 &  -71.16 &    -25.45 &       -17.91 \\\\\n",
    "  WattsStrogatz &  400.0 &   -20.48 &  -8.05 &  -70.16 &    -25.79 &       -17.12 \\\\\n",
    "\\bottomrule\n",
    "\\textbf{Gurobi Results} & & & & & \\\\\n",
    "\\midrule\n",
    "gurobi\\_1.0 &       &    -20.0 &  -7.74 &  -67.46 &    -24.96 &       -16.76 \\\\\n",
    "gurobi\\_2.0 &       &    -20.0 &  -7.74 &  -67.46 &    -24.96 &       -16.76 \\\\\n",
    "gurobi\\_4.0 &       &    -20.0 &  -7.74 &  -67.46 &    -24.96 &       -16.76 \\\\\n",
    "\\bottomrule\n",
    "\n",
    "\\end{tabular}\n",
    "\n",
    "\\caption{whatever} \n",
    "\\end{table}"
   ]
  },
  {
   "cell_type": "code",
   "execution_count": null,
   "metadata": {},
   "outputs": [],
   "source": []
  }
 ],
 "metadata": {
  "kernelspec": {
   "display_name": "maxcut-802",
   "language": "python",
   "name": "python3"
  },
  "language_info": {
   "codemirror_mode": {
    "name": "ipython",
    "version": 3
   },
   "file_extension": ".py",
   "mimetype": "text/x-python",
   "name": "python",
   "nbconvert_exporter": "python",
   "pygments_lexer": "ipython3",
   "version": "3.11.3"
  },
  "orig_nbformat": 4
 },
 "nbformat": 4,
 "nbformat_minor": 2
}
