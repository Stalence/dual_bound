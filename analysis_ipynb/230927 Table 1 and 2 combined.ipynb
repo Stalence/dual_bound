{
 "cells": [
  {
   "cell_type": "code",
   "execution_count": 1,
   "metadata": {},
   "outputs": [],
   "source": [
    "# only permit vertex cover\n",
    "\n",
    "canonical_order = ['BarabasiAlbert', 'ErdosRenyi', 'PowerlawCluster', 'WattsStrogatz',  'MUTAG', 'ENZYMES', 'PROTEINS',   'IMDB-BINARY', 'COLLAB']\n",
    "def reorder(df, canonical_order=canonical_order, by='dataset', extras=['dataset','gen_n', 'gen_n_max'], secondary='gen_n', columns=None):\n",
    "    df['dataset_name_order'] = df[by].map({name: i for i, name in enumerate(canonical_order)})\n",
    "    if secondary is not None:\n",
    "        df = df.sort_values(by=['dataset_name_order', secondary])\n",
    "    else:\n",
    "        df = df.sort_values(by=['dataset_name_order'])\n",
    "\n",
    "    df.drop('dataset_name_order', axis =1, inplace=True)\n",
    "\n",
    "    if columns:\n",
    "        return df[columns ]\n",
    "    else:\n",
    "        return df"
   ]
  },
  {
   "cell_type": "code",
   "execution_count": 2,
   "metadata": {},
   "outputs": [],
   "source": [
    "task = 'max_cut'\n",
    "task = 'vertex_cover'"
   ]
  },
  {
   "cell_type": "code",
   "execution_count": 3,
   "metadata": {},
   "outputs": [
    {
     "data": {
      "text/plain": [
       "['legacy',\n",
       " 'Testing',\n",
       " '230928_snapshot',\n",
       " 'LiftMP_runs',\n",
       " '230924_hparam2',\n",
       " '230927_snapshot',\n",
       " '230928_runs',\n",
       " '230924_hparam',\n",
       " '230924_hparam_TU_multiarch',\n",
       " '230924_hparam_TU',\n",
       " '230926_finetune_ER_runs']"
      ]
     },
     "execution_count": 3,
     "metadata": {},
     "output_type": "execute_result"
    }
   ],
   "source": [
    "import os\n",
    "os.listdir('/home/bcjexu/maxcut-80/bespoke-gnn4do/training_runs')"
   ]
  },
  {
   "cell_type": "code",
   "execution_count": 4,
   "metadata": {},
   "outputs": [
    {
     "name": "stdout",
     "output_type": "stream",
     "text": [
      "['230927_snapshot/230925_TUsmall_GAT_VC', '230927_snapshot/230925_TUsmall_GIN_VC', '230927_snapshot/230925_generated_preset_cut', '230927_snapshot/230925_TUlarge_all_cut', '230927_snapshot/230925_TUsmall_GCNN_VC', '230927_snapshot/230925_generated_liftMP_VC', '230927_snapshot/230925_TUlarge_all_VC', '230927_snapshot/230925_generated_preset_VC', '230927_snapshot/230925_TUsmall_liftMP_VC', '230927_snapshot/230925_TUsmall_GatedGCNN_VC', '230927_snapshot/230925_generated_liftMP_cut']\n"
     ]
    }
   ],
   "source": [
    "print(list(os.path.join('230927_snapshot', x) for x in os.listdir('/home/bcjexu/maxcut-80/bespoke-gnn4do/training_runs/230927_snapshot')))"
   ]
  },
  {
   "cell_type": "code",
   "execution_count": 5,
   "metadata": {},
   "outputs": [],
   "source": [
    "run_folders = ['LiftMP_runs', '230927_snapshot/230925_TUsmall_GAT_VC', '230927_snapshot/230925_TUsmall_GIN_VC', \n",
    "               '230927_snapshot/230925_generated_preset_cut', '230927_snapshot/230925_TUlarge_all_cut', '230927_snapshot/230925_TUsmall_GCNN_VC',\n",
    "                 '230927_snapshot/230925_generated_liftMP_VC', '230927_snapshot/230925_TUlarge_all_VC', '230927_snapshot/230925_generated_preset_VC', \n",
    "                 '230927_snapshot/230925_TUsmall_liftMP_VC', '230927_snapshot/230925_TUsmall_GatedGCNN_VC', '230927_snapshot/230925_generated_liftMP_cut']\n",
    "\n",
    "run_folders = ['230928_snapshot/230925_TUsmall_GAT_VC', '230928_snapshot/230925_TUsmall_GIN_cut', \n",
    "               '230928_snapshot/230925_generated_preset_cut', '230928_snapshot/230925_TUsmall_GAT_cut', \n",
    "               '230928_snapshot/230925_TUsmall_liftMP_cut', '230928_snapshot/230925_TUsmall_GCNN_VC', \n",
    "               '230928_snapshot/230925_TUsmall_GCNN_cut', '230928_snapshot/230925_generated_liftMP_VC', \n",
    "               '230928_snapshot/230925_generated_preset_VC', '230928_snapshot/230925_TUsmall_liftMP_VC', '230928_snapshot/230925_TUsmall_GatedGCNN_VC', \n",
    "               '230928_snapshot/230925_TUsmall_VC_32', '230928_snapshot/230925_generated_liftMP_cut', '230928_snapshot/230925_TUsmall_GatedGCNN_cut']\n",
    "\n",
    "run_folders = ['230928_runs/230925_TUsmall_GAT_VC', '230928_runs/230925_TUsmall_GIN_cut', \n",
    "               '230928_runs/230925_generated_preset_cut', '230928_runs/230925_TUsmall_GAT_cut', \n",
    "               '230928_runs/230925_TUsmall_liftMP_cut', '230928_runs/230925_TUsmall_GCNN_VC', \n",
    "               '230928_runs/230925_TUsmall_GCNN_cut', '230928_runs/230925_generated_liftMP_VC', '230928_runs/230925_generated_preset_VC', \n",
    "               '230928_runs/230925_TUsmall_liftMP_VC', '230928_runs/230925_TUsmall_GatedGCNN_VC', '230928_runs/230925_TUsmall_VC_32', \n",
    "               '230928_runs/230925_TUlarge_liftMP_cut', '230928_runs/230925_TUlarge_liftMP_VC', '230928_runs/230925_generated_liftMP_cut', '230928_runs/230925_TUsmall_GatedGCNN_cut']\n"
   ]
  },
  {
   "cell_type": "code",
   "execution_count": 6,
   "metadata": {},
   "outputs": [],
   "source": [
    "import json\n",
    "import pandas as pd\n",
    "import numpy as np\n",
    "\n",
    "folder_path = '/home/bcjexu/maxcut-80/bespoke-gnn4do/training_runs'\n",
    "model_list = [os.path.join(folder_path, run_folder, x) for run_folder in run_folders for x in os.listdir(os.path.join(folder_path, run_folder))  ]\n",
    "\n",
    "\n",
    "rows = []\n",
    "\n",
    "errored = []\n",
    "for model_folder in model_list:\n",
    "    try:\n",
    "        with open(os.path.join(model_folder, 'params.txt'), 'r') as f:\n",
    "            model_args = json.load(f)\n",
    "        if model_args['problem_type'] != task:\n",
    "            continue\n",
    "        \n",
    "        losses = np.load(os.path.join(model_folder, 'valid_scores.npy'))\n",
    "        test_losses = np.load(os.path.join(model_folder, 'test_scores.npy'))\n",
    "\n",
    "        modeldict = model_args #{x: model_args[x] for x in params}\n",
    "        modeldict['max_valid_score'] = max(losses)\n",
    "        modeldict['max_valid_epoch'] = np.argmax(losses)\n",
    "        modeldict['scores'] = test_losses[np.argmax(losses)]\n",
    "        modeldict['baseline'] = False\n",
    "\n",
    "\n",
    "        # set the time per pred\n",
    "        time_per_pred = None\n",
    "        scorefile = [x for x in os.listdir(model_folder) if x.startswith('retest_best')]\n",
    "        if len(scorefile) >= 1:\n",
    "            times, _ = np.load(os.path.join(model_folder, scorefile[0]))\n",
    "            time_per_pred = np.average(times)\n",
    "        modeldict['time_per_pred'] = time_per_pred\n",
    "\n",
    "\n",
    "        # reset test score if the validation is better.\n",
    "        valid_score_from_file = -np.inf\n",
    "        test_score_from_file = -np.inf\n",
    "\n",
    "        for prefix in ['revalidate_best', 'revalidate_last']:\n",
    "            scorefile = [x for x in os.listdir(model_folder) if x.startswith(prefix)]\n",
    "            #assert(len(scorefile) <=1)\n",
    "            if len(scorefile) >= 1:\n",
    "                _, scores = np.load(os.path.join(model_folder, scorefile[0]))\n",
    "                valid_score = np.average(scores)\n",
    "\n",
    "                if valid_score > valid_score_from_file:\n",
    "                    testscorefile = [x for x in os.listdir(model_folder) if x.startswith(prefix.replace('validate', 'test'))]\n",
    "                    _, test_scores =  np.load(os.path.join(model_folder, testscorefile[0]))\n",
    "                    test_score_from_file = np.average(test_scores)\n",
    "        \n",
    "        if valid_score_from_file > modeldict['max_valid_score']:\n",
    "            modeldict['max_valid_score'] = valid_score_from_file\n",
    "            modeldict['scores'] = test_score_from_file\n",
    "\n",
    "        rows.append(modeldict)\n",
    "        \n",
    "    except Exception as e:\n",
    "        print(f'{e} is wrong w/ {model_folder}')\n",
    "        errored.append(model_folder)"
   ]
  },
  {
   "cell_type": "code",
   "execution_count": null,
   "metadata": {},
   "outputs": [],
   "source": []
  },
  {
   "cell_type": "code",
   "execution_count": 7,
   "metadata": {},
   "outputs": [],
   "source": [
    "# load in baselines\n",
    "baselines = pd.read_csv('vc_baseline_scores.csv')\n",
    "\n",
    "gen_n_dict = dict(zip([50, 100, 400], [[50, 100], [100, 200],[400, 500]]))\n",
    "\n",
    "# unwind them \n",
    "for i, baseline in baselines.iterrows():\n",
    "    #print(baseline.index)\n",
    "    for col in baselines.keys():\n",
    "        if col == 'Unnamed: 0':\n",
    "            continue\n",
    "        ds = col\n",
    "        gen_n = np.nan\n",
    "        if len(col.split('@@')) > 1:\n",
    "            ds, gen_n = col.split('@@')\n",
    "            gen_n = gen_n_dict[int(gen_n)]\n",
    "\n",
    "        row = {'dataset': ds, 'gen_n': gen_n, 'model_type': baseline['Unnamed: 0'], 'scores': baseline[col], 'baseline': True}\n",
    "        #print(row)\n",
    "        rows.append(row)\n"
   ]
  },
  {
   "cell_type": "markdown",
   "metadata": {},
   "source": [
    "len(errored)"
   ]
  },
  {
   "cell_type": "code",
   "execution_count": 8,
   "metadata": {},
   "outputs": [],
   "source": [
    "df = pd.DataFrame.from_records(rows)"
   ]
  },
  {
   "cell_type": "markdown",
   "metadata": {},
   "source": [
    "from collections import Counter\n",
    "Counter(df[df.gen_n == 400].model_type)"
   ]
  },
  {
   "cell_type": "markdown",
   "metadata": {},
   "source": [
    "for x in df.gen_n:\n",
    "    if not isinstance(x, list) and x !=100:\n",
    "        print(x)\n",
    "\n",
    "        "
   ]
  },
  {
   "cell_type": "code",
   "execution_count": 9,
   "metadata": {},
   "outputs": [],
   "source": [
    "df['gen_n_list'] = df.gen_n\n",
    "df['gen_n_max'] = df.gen_n_list.apply(lambda x: int(x[1]) if isinstance(x,list) else x)\n",
    "df.gen_n = df.gen_n.apply(lambda x: int(x[0]) if isinstance(x,list) else x)\n"
   ]
  },
  {
   "cell_type": "markdown",
   "metadata": {},
   "source": [
    "from collections import Counter\n",
    "\n",
    "Counter(df.gen_n_max)"
   ]
  },
  {
   "cell_type": "markdown",
   "metadata": {},
   "source": [
    "for x, y in zip(df.gen_n, df.gen_n_max):\n",
    "    if x!=y : print(\"hi\")"
   ]
  },
  {
   "cell_type": "code",
   "execution_count": 10,
   "metadata": {},
   "outputs": [],
   "source": [
    "df.keys()\n",
    "# 'problem_type', 'seed',  'prefix', 'RB_n', 'RB_k', 'log_dir',\n",
    "relevant_keys = [ 'model_type', 'num_layers',\n",
    "       'repeat_lift_layers', 'num_layers_project', 'rank', 'vc_penalty', 'gen_n', 'gen_n_max',\n",
    "       'dataset', 'infinite',  'positional_encoding', 'pe_dimension',\n",
    "       'max_valid_score', 'max_valid_epoch',\n",
    "       'scores']"
   ]
  },
  {
   "cell_type": "markdown",
   "metadata": {},
   "source": [
    "df"
   ]
  },
  {
   "cell_type": "markdown",
   "metadata": {},
   "source": [
    "import matplotlib.pyplot as plt\n",
    "import seaborn as sns\n",
    "sns.histplot(df[df.infinite==False].max_valid_epoch)\n",
    "plt.title('the step (x1000) at which the lowest validation score is achieved (non-infinite)')\n",
    "plt.xlabel(\"step (x1000)\")\n",
    "plt.ylabel('count')\n",
    "plt.show()\n",
    "df[(df.max_valid_epoch > 90) & (df.infinite==False)][relevant_keys] #.to_csv('230925_checkup_late_bloomers.csv')"
   ]
  },
  {
   "cell_type": "markdown",
   "metadata": {},
   "source": [
    "sns.histplot(df[df.infinite!=False].max_valid_epoch, bins=range(20))\n",
    "plt.title('the step (x1000) at which the lowest validation score is achieved (infinite)')\n",
    "plt.xlabel(\"step (x1000)\")\n",
    "plt.ylabel('count')\n",
    "plt.show()\n",
    "df[(df.max_valid_epoch > 18) & (df.infinite!=False)][relevant_keys] #.to_csv('230925_checkup_late_bloomers.csv')"
   ]
  },
  {
   "cell_type": "markdown",
   "metadata": {},
   "source": [
    "df.loc[df[df.baseline == False].groupby(['dataset', 'gen_n'])['scores'].idxmax()][relevant_keys]"
   ]
  },
  {
   "cell_type": "code",
   "execution_count": 11,
   "metadata": {},
   "outputs": [],
   "source": [
    "df.gen_n = df.gen_n.fillna(\"\")\n",
    "df.gen_n_max = df.gen_n_max.fillna(\"\")"
   ]
  },
  {
   "cell_type": "markdown",
   "metadata": {},
   "source": [
    "df.dataset"
   ]
  },
  {
   "cell_type": "code",
   "execution_count": 12,
   "metadata": {},
   "outputs": [],
   "source": [
    "# test models\n",
    "\n",
    "models_for_test = []"
   ]
  },
  {
   "cell_type": "code",
   "execution_count": 13,
   "metadata": {},
   "outputs": [],
   "source": [
    "dataset_by_arc = pd.DataFrame()\n",
    "dss = ['BarabasiAlbert', 'ErdosRenyi', 'PowerlawCluster', 'WattsStrogatz']\n",
    "mts = ['SDP proj', 'gurobi_2.0', 'gurobi_4.0', 'gurobi_8.0', 'vertex count']\n",
    "\n",
    "\n",
    "\n",
    "for (mt, ds, gen_n), group in df[(df.infinite == False) | (df.dataset == 'ErdosRenyi')].groupby(['model_type', 'dataset', 'gen_n']):\n",
    "    if mt in mts:\n",
    "        continue\n",
    "    if all(group['max_valid_score'].isna()):\n",
    "        continue\n",
    "    if ds not in dss:\n",
    "        gen_n = \"\"\n",
    "\n",
    "    #print(mt, ds, gen_n)\n",
    "    bestidx = group[\"max_valid_score\"].idxmax()\n",
    "    best_time = df.loc[bestidx][\"time_per_pred\"]*1000\n",
    "    mult = 1\n",
    "    if task == 'vertex_cover':\n",
    "        mult = -1\n",
    "    best_score = mult*df.loc[bestidx]['scores']\n",
    "    score_time_string = f'{best_score:0.2f} ({best_time:0.0f})'\n",
    "    if ds in dss:\n",
    "        dataset_by_arc.at[f'{ds}, {gen_n}', mt] = score_time_string\n",
    "        dataset_by_arc.at[f'{ds}, {gen_n}', 'gen_n'] = gen_n\n",
    "        dataset_by_arc.at[f'{ds}, {gen_n}', 'dataset'] = ds\n",
    "    else: \n",
    "        dataset_by_arc.at[f'{ds}', mt] = score_time_string\n",
    "        dataset_by_arc.at[f'{ds}', 'gen_n'] = gen_n\n",
    "        dataset_by_arc.at[f'{ds}', 'dataset'] = ds\n",
    "\n",
    "    try:\n",
    "        models_for_test.append((df.loc[bestidx]['log_dir'], df.loc[bestidx]['dataset'], df.loc[bestidx]['gen_n'])) \n",
    "    except Exception as e:\n",
    "        print(f'{e}')\n",
    "\n",
    "#dataset_by_arc['dataset'] = dataset_by_arc.index\n",
    "reorder(dataset_by_arc[[k for k in dataset_by_arc.keys() if k not in ['SDP lift', 'edge count', 'vertex_count']]], by='dataset', columns = ['dataset', 'gen_n', 'GAT', \n",
    "                                                                                                                            'GCNN', 'GIN', 'GatedGCNN', 'LiftMP']).to_csv(f'Table1_{task}.csv', index=False) #.style.highlight_max(color = 'green', axis = 1)"
   ]
  },
  {
   "cell_type": "code",
   "execution_count": 14,
   "metadata": {},
   "outputs": [],
   "source": [
    "dataset_by_arc = pd.DataFrame()\n",
    "mts = ['GAT', 'GCNN', 'GIN', 'GatedGCNN']\n",
    "dss = ['BarabasiAlbert', 'ErdosRenyi', 'PowerlawCluster', 'WattsStrogatz']\n",
    "\n",
    "for (mt, ds, gen_n, gen_nmax), group in df[~df.model_type.isin(mts)].groupby(['model_type', 'dataset', 'gen_n', 'gen_n_max']):\n",
    "\n",
    "    #if mt =='gurobi_4.0': print(ds) # and ds =='MUTAG': print(\"hi\")\n",
    "\n",
    "    if all(group['max_valid_score'].isna()):\n",
    "        continue\n",
    "    if ds not in dss:\n",
    "        gen_n = \"\"\n",
    "        gen_nmax = \"\"\n",
    "    #print(mt, ds, gen_n)\n",
    "    if ds in dss:\n",
    "        k = f'{ds}_{gen_n}'\n",
    "    else:\n",
    "        k = ds\n",
    "    dataset_by_arc.at[k, 'Type'] = ds\n",
    "    dataset_by_arc.at[k, 'Nmin'] = gen_n\n",
    "    dataset_by_arc.at[k, 'Nmax'] = gen_nmax\n",
    "\n",
    "    bestidx = group[\"max_valid_score\"].idxmax()\n",
    "    best_time = df.loc[bestidx][\"time_per_pred\"]*1000\n",
    "    mult = 1\n",
    "    if task == 'vertex_cover':\n",
    "        mult = -1\n",
    "    best_score = mult*df.loc[bestidx]['scores']\n",
    "    score_time_string = f'{best_score:0.2f} ({best_time:0.0f})'\n",
    "\n",
    "    if mt not in  ['LiftMP'] + mts:\n",
    "        dataset_by_arc.at[k, mt] = best_score\n",
    "    else:\n",
    "        dataset_by_arc.at[k, mt] = score_time_string\n",
    "    try:\n",
    "        models_for_test.append((df.loc[bestidx]['log_dir'], df.loc[bestidx]['dataset'], df.loc[bestidx]['gen_n'])) \n",
    "    except Exception as e:\n",
    "        print(f'{e}')\n",
    "\n",
    "#dataset_by_arc.rename(columns={'Nikos': 'CustomLiftProject'}, inplace=True)\n",
    "reorder(dataset_by_arc[[k for k in dataset_by_arc.keys() if k not in ['SDP lift', 'vertex count', 'edge count']]], by='Type', secondary='Nmin').round(2).to_csv(f'Table2_{task}.csv') #.style.highlight_max(color = 'green', axis = 1)"
   ]
  },
  {
   "cell_type": "markdown",
   "metadata": {},
   "source": [
    "reorder(dataset_by_arc[[k for k in dataset_by_arc.keys() if k not in ['SDP lift', 'vertex count']]], by='Type', secondary='Nmin').round(2).keys()"
   ]
  },
  {
   "cell_type": "markdown",
   "metadata": {},
   "source": [
    "models_for_test"
   ]
  },
  {
   "cell_type": "markdown",
   "metadata": {},
   "source": [
    "df[(df.model_type == 'gurobi_4.0') & (df.dataset == 'ENZYMES')]"
   ]
  },
  {
   "cell_type": "code",
   "execution_count": 15,
   "metadata": {},
   "outputs": [
    {
     "name": "stdout",
     "output_type": "stream",
     "text": [
      "('training_runs/230925_TUsmall_GAT_cut/paramhash:229fdd4defd5beb6d5299b78886340673e646af2288d38d62612ac1d54d79e35', 'COLLAB', 100.0)\n",
      "('training_runs/230925_TUsmall_GAT_cut/paramhash:13208a7aa1df13fe6517cb5e1ee7d27df9e4436f2cfbce9ddf35ffee6440d8a5', 'ENZYMES', 100.0)\n",
      "('training_runs/230925_generated_preset_cut/paramhash:98627c0c9f1729b615470a023c62c47b0d4265e0180843f09678d0dccf98f1e3', 'ErdosRenyi', 50.0)\n",
      "('training_runs/230925_generated_preset_cut/paramhash:29022497978cacef4919cb917e4407ea28c15be66dbeb1afebecce605652db9d', 'ErdosRenyi', 100.0)\n",
      "('training_runs/230925_generated_preset_cut/paramhash:45aa5663131bdb65f33407dc287ffd53552b8b7bc847585738935981839e6d70', 'ErdosRenyi', 400.0)\n",
      "('training_runs/230925_TUsmall_GAT_cut/paramhash:43ab458a22cd58af5379a88453ef9ad9d5d92edc24bd508eb37d08439255d789', 'IMDB-BINARY', 100.0)\n",
      "('training_runs/230925_TUsmall_GAT_cut/paramhash:16281cfcf68e3bfc8dfacf178b80c7554913356bf876cbacf384f2658e1ae67c', 'MUTAG', 100.0)\n",
      "('training_runs/230925_TUsmall_GAT_cut/paramhash:2cfe939352c6e65a8dcec2c03e6f3a762d1229aa5bb7b9ddc512a675570e1014', 'PROTEINS', 100.0)\n",
      "('training_runs/230925_TUsmall_GCNN_cut/paramhash:cf7049491ebfa26efd3089876f7beb7b3eb3c1982be7fe9d93b7a5cddd6f0991', 'COLLAB', 100.0)\n",
      "('training_runs/230925_TUsmall_GCNN_cut/paramhash:3855b9bf434a313a9d653251c6b50dd8f2b2764a11253cf5734d11577d05d85c', 'ENZYMES', 100.0)\n",
      "('training_runs/230925_generated_preset_cut/paramhash:8c7ce21e87bc164f181083462156dc7a18379cb2f8974ead4266012cbaf1b16c', 'ErdosRenyi', 50.0)\n",
      "('training_runs/230925_generated_preset_cut/paramhash:257ef1e899329bce41b14a3cb17ca3670ea876d2145f8bd1eff06ee57a97f074', 'ErdosRenyi', 100.0)\n",
      "('training_runs/230925_generated_preset_cut/paramhash:af7372359b52d8e4b9bb76007f38433081d1194f73c8c90c5cd83f4c911773c6', 'ErdosRenyi', 400.0)\n",
      "('training_runs/230925_TUsmall_GCNN_cut/paramhash:eabd831657f413d07ec8130d3b6137f83a187567c3f2091af048165d688ad356', 'IMDB-BINARY', 100.0)\n",
      "('training_runs/230925_TUsmall_GCNN_cut/paramhash:eb89f7ceec45e95411c5d07349ec5edc5f45ba5f9925c246ba472dc4fcec6ec2', 'MUTAG', 100.0)\n",
      "('training_runs/230925_TUsmall_GCNN_cut/paramhash:68e7270860707a5a19cbd4f459688821b3690c07e30c7b5334b848364a59d5db', 'PROTEINS', 100.0)\n",
      "('training_runs/230925_TUsmall_GIN_cut/paramhash:3154b65b8313bf7ef69500a613951bc468fede9bb996c95c5b217b290ecefe9f', 'COLLAB', 100.0)\n",
      "('training_runs/230925_TUsmall_GIN_cut/paramhash:8dd1d06919534744be2e0703d1a9a9317cf9e18978bdba74ea553aad837fa4a6', 'ENZYMES', 100.0)\n",
      "('training_runs/230925_generated_preset_cut/paramhash:ff9ce16b6670a8367faffe1e1a85279c55a3090e1d29a496ce1186d3f917949f', 'ErdosRenyi', 50.0)\n",
      "('training_runs/230925_generated_preset_cut/paramhash:ba2fc0f8fdc422577bb5b7f37e308f58a8a37e353ebbe7af29dfbb002c309560', 'ErdosRenyi', 100.0)\n",
      "('training_runs/230925_generated_preset_cut/paramhash:3e6f5ddc4dd74335930dc106bc2a38dcf5c197f16341d1390b8468d84f4c3817', 'ErdosRenyi', 400.0)\n",
      "('training_runs/230925_TUsmall_GIN_cut/paramhash:4b5e23c31781704f786fcff3f08d23b4416f9fe8ffa71f19f3eb61606080d2fd', 'IMDB-BINARY', 100.0)\n",
      "('training_runs/230925_TUsmall_GIN_cut/paramhash:a0a622d1397c4ffbab2ad80b0f060ad299af2d331b482adaab7c5905fb68104d', 'MUTAG', 100.0)\n",
      "('training_runs/230925_TUsmall_GIN_cut/paramhash:c23c8da6c5044f69b2fe1381ebf68e6037844bbb28aca0955986ca154ee02a08', 'PROTEINS', 100.0)\n",
      "('training_runs/230925_TUsmall_GatedGCNN_cut/paramhash:11fecfe4b5dd783c8a9a0cb67960c6c9595da17eca0df45c29c1b846ed717d7d', 'COLLAB', 100.0)\n",
      "('training_runs/230925_TUsmall_GatedGCNN_cut/paramhash:0da4a69bde62dfcc3971d67efa484d232ca6ca49d6b0a8337bc86d69494a79f4', 'ENZYMES', 100.0)\n",
      "('training_runs/230925_generated_preset_cut/paramhash:b2804339829d070609833dd54327b986df686b111cf8c2d1986b11b490eb2c7a', 'ErdosRenyi', 50.0)\n",
      "('training_runs/230925_generated_preset_cut/paramhash:7d709ead5fb7cca8c6e57de9ba2f1b6ce4648533ea4b4b8369857c7127e33fc0', 'ErdosRenyi', 100.0)\n",
      "('training_runs/230925_generated_preset_cut/paramhash:70059db08936db3689d1997c5374654a5a2517416bf3752937388c28e8c11aa4', 'ErdosRenyi', 400.0)\n",
      "('training_runs/230925_TUsmall_GatedGCNN_cut/paramhash:2c405005867d4292d9ddcbc8f374e5de94beab93f01905802af914f030e02a8f', 'IMDB-BINARY', 100.0)\n",
      "('training_runs/230925_TUsmall_GatedGCNN_cut/paramhash:d3339c4c53418ebc81ed8dfd37d45a2f7c29b3267e5404ebd1b8f75de7306409', 'MUTAG', 100.0)\n",
      "('training_runs/230925_TUsmall_GatedGCNN_cut/paramhash:b89714ca3d86959ca7c6b07ea5306df8c9ce99074280ade8328046d0a96d13e3', 'PROTEINS', 100.0)\n",
      "('training_runs/230925_TUsmall_liftMP_cut/paramhash:67e1335e92307f57516cb448814fb138715c51e5082230819e026733f62c77c3', 'COLLAB', 100.0)\n",
      "('training_runs/230925_TUsmall_liftMP_cut/paramhash:fb3966cda47171e209737909341cefe2b64cbac978fc8b3e8fd1a37f85bf21a8', 'ENZYMES', 100.0)\n",
      "('training_runs/230925_generated_liftMP_cut/paramhash:290c9279e6ef21d9738797273795da038ceff00981b6d4d3ca14ee93f650dcc7', 'ErdosRenyi', 50.0)\n",
      "('training_runs/230925_generated_liftMP_cut/paramhash:190801d23bd85b26052dbadd18438332c36e25cf61717d8bea21ea4afdcdedfd', 'ErdosRenyi', 100.0)\n",
      "('training_runs/230925_generated_liftMP_cut/paramhash:54caf49a908b63dd9aaa68ad64b710badbaa31b6720f7dae2c0229ad62726158', 'ErdosRenyi', 400.0)\n",
      "('training_runs/230925_TUsmall_liftMP_cut/paramhash:e128327e5de3655aba2ef4cc1e723971b2d146250dc5a7bb160a0482cbd9c068', 'IMDB-BINARY', 100.0)\n",
      "('training_runs/230925_TUsmall_liftMP_cut/paramhash:87ac0eea7f30b9ddc97870b078e1b528dab3cec28e32e7e61f0eb181049fd1da', 'MUTAG', 100.0)\n",
      "('training_runs/230925_TUsmall_liftMP_cut/paramhash:c22bd357debb5ba18591b2ef5f4d9d5b39dc69106505ad86b0cf43e140bb0a07', 'PROTEINS', 100.0)\n",
      "('training_runs/230925_TUlarge_liftMP_cut/paramhash:ef28661e5667e5ef363f5015704a98ea219dca607108c2df8ee36016f6573e1c', 'REDDIT-BINARY', 100.0)\n",
      "('training_runs/230925_TUlarge_liftMP_cut/paramhash:b1fe7b0bdc9d7105b3e13a83427c3788f998d83ed9d3ed4e9e2c0703b2f1ff60', 'REDDIT-MULTI-12K', 100.0)\n",
      "('training_runs/230925_TUlarge_liftMP_cut/paramhash:b02fa9ab06e2fc9a15f859fadbc7d37f277307066b17dac697d7eb293c6305e6', 'REDDIT-MULTI-5K', 100.0)\n",
      "('training_runs/230925_generated_liftMP_cut/paramhash:5ec32a71d1ff22fe501f860a672a8357b01df6f08a3406ab1ae315f0ed36b69a', 'BarabasiAlbert', 50.0)\n",
      "('training_runs/230925_generated_liftMP_cut/paramhash:a6a84bd64bc5a4c79e9b2fb8f700440ce1479a78066cc6e82b3679f81342ab2a', 'BarabasiAlbert', 100.0)\n",
      "('training_runs/230925_generated_liftMP_cut/paramhash:2c3d6ac5fe29b97b2a403bd59e5f8fae6fb7b3db2ff6d95b9efad9b1206608f1', 'BarabasiAlbert', 400.0)\n",
      "('training_runs/230925_TUsmall_liftMP_cut/paramhash:67e1335e92307f57516cb448814fb138715c51e5082230819e026733f62c77c3', 'COLLAB', 100.0)\n",
      "('training_runs/230925_TUsmall_liftMP_cut/paramhash:fb3966cda47171e209737909341cefe2b64cbac978fc8b3e8fd1a37f85bf21a8', 'ENZYMES', 100.0)\n",
      "('training_runs/230925_generated_liftMP_cut/paramhash:290c9279e6ef21d9738797273795da038ceff00981b6d4d3ca14ee93f650dcc7', 'ErdosRenyi', 50.0)\n",
      "('training_runs/230925_generated_liftMP_cut/paramhash:190801d23bd85b26052dbadd18438332c36e25cf61717d8bea21ea4afdcdedfd', 'ErdosRenyi', 100.0)\n",
      "('training_runs/230925_generated_liftMP_cut/paramhash:54caf49a908b63dd9aaa68ad64b710badbaa31b6720f7dae2c0229ad62726158', 'ErdosRenyi', 400.0)\n",
      "('training_runs/230925_TUsmall_liftMP_cut/paramhash:e128327e5de3655aba2ef4cc1e723971b2d146250dc5a7bb160a0482cbd9c068', 'IMDB-BINARY', 100.0)\n",
      "('training_runs/230925_TUsmall_liftMP_cut/paramhash:87ac0eea7f30b9ddc97870b078e1b528dab3cec28e32e7e61f0eb181049fd1da', 'MUTAG', 100.0)\n",
      "('training_runs/230925_TUsmall_liftMP_cut/paramhash:c22bd357debb5ba18591b2ef5f4d9d5b39dc69106505ad86b0cf43e140bb0a07', 'PROTEINS', 100.0)\n",
      "('training_runs/230925_generated_liftMP_cut/paramhash:019085c811a90b8934d47f915a8bb02611ba6d0a274a116ee153b592de57325e', 'PowerlawCluster', 50.0)\n",
      "('training_runs/230925_generated_liftMP_cut/paramhash:9e91138e491962c229d626c75ea72eda5e9ff822ebb25a33fd74d56609706598', 'PowerlawCluster', 100.0)\n",
      "('training_runs/230925_generated_liftMP_cut/paramhash:2c6aed1d230eaf18bee68b63034f4a73b85024da1d1839a5c945f8cfc0479e18', 'PowerlawCluster', 400.0)\n",
      "('training_runs/230925_TUlarge_liftMP_cut/paramhash:ef28661e5667e5ef363f5015704a98ea219dca607108c2df8ee36016f6573e1c', 'REDDIT-BINARY', 100.0)\n",
      "('training_runs/230925_TUlarge_liftMP_cut/paramhash:b1fe7b0bdc9d7105b3e13a83427c3788f998d83ed9d3ed4e9e2c0703b2f1ff60', 'REDDIT-MULTI-12K', 100.0)\n",
      "('training_runs/230925_TUlarge_liftMP_cut/paramhash:b02fa9ab06e2fc9a15f859fadbc7d37f277307066b17dac697d7eb293c6305e6', 'REDDIT-MULTI-5K', 100.0)\n",
      "('training_runs/230925_generated_liftMP_cut/paramhash:beeea3e242c1721118d7a828fd014b2baad924966ff9512171c0ecdf9b53f2c0', 'WattsStrogatz', 50.0)\n",
      "('training_runs/230925_generated_liftMP_cut/paramhash:42025202df7299c518ecf988d5cad810ce20d390a1f5bbc039228cbf867b45ef', 'WattsStrogatz', 100.0)\n",
      "('training_runs/230925_generated_liftMP_cut/paramhash:d2e152d9aea3292aeb0a2510711dfba1ae2c2dd223188d8bd70a61afbf7739b4', 'WattsStrogatz', 400.0)\n"
     ]
    }
   ],
   "source": [
    "for x in models_for_test:\n",
    "    print(x)"
   ]
  },
  {
   "cell_type": "code",
   "execution_count": null,
   "metadata": {},
   "outputs": [],
   "source": []
  }
 ],
 "metadata": {
  "kernelspec": {
   "display_name": "maxcut-80",
   "language": "python",
   "name": "python3"
  },
  "language_info": {
   "codemirror_mode": {
    "name": "ipython",
    "version": 3
   },
   "file_extension": ".py",
   "mimetype": "text/x-python",
   "name": "python",
   "nbconvert_exporter": "python",
   "pygments_lexer": "ipython3",
   "version": "3.11.3"
  },
  "orig_nbformat": 4
 },
 "nbformat": 4,
 "nbformat_minor": 2
}
