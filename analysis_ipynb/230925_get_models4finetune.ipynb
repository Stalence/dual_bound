{
 "cells": [
  {
   "cell_type": "code",
   "execution_count": 21,
   "metadata": {},
   "outputs": [],
   "source": [
    "run_folders = ['LiftMP_runs']\n",
    "relevant_keys = [ 'model_type', 'num_layers',\n",
    "       'repeat_lift_layers', 'num_layers_project', 'rank', 'vc_penalty', \n",
    "       'dataset', 'infinite',  'positional_encoding', 'pe_dimension',\n",
    "       'max_valid_score', 'max_valid_epoch', 'gen_n'\n",
    "       'scores']"
   ]
  },
  {
   "cell_type": "code",
   "execution_count": 22,
   "metadata": {},
   "outputs": [
    {
     "name": "stdout",
     "output_type": "stream",
     "text": [
      "something is wrong w/ /home/bcjexu/maxcut-80/bespoke-gnn4do/training_runs/LiftMP_runs/paramhash:d7295454a183410793f153014e74c48fb81051635748e2fa4358e5e62ff747c8\n",
      "something is wrong w/ /home/bcjexu/maxcut-80/bespoke-gnn4do/training_runs/LiftMP_runs/paramhash:959f4a30685c103490271cfaa513d24bffe58e4ff7f56301797ac56a2ab76978\n",
      "something is wrong w/ /home/bcjexu/maxcut-80/bespoke-gnn4do/training_runs/LiftMP_runs/paramhash:af7aa021f2876f5b35b4888f53a3bc63a8846a1ae09ca8bd2d6f8c1ee2f9923a\n",
      "something is wrong w/ /home/bcjexu/maxcut-80/bespoke-gnn4do/training_runs/LiftMP_runs/paramhash:e50ba9e1678781fa6302c1c2e627dc630da420c987ab9c613ab6878be6bb9af3\n",
      "something is wrong w/ /home/bcjexu/maxcut-80/bespoke-gnn4do/training_runs/LiftMP_runs/paramhash:55bb40501c2d33a9f61b4f08f82ad78379330f60679339affb7ac8405e3dbd0a\n",
      "something is wrong w/ /home/bcjexu/maxcut-80/bespoke-gnn4do/training_runs/LiftMP_runs/paramhash:ac400b21989cc7b2bcbb8be98668cb4e2807c536a5eb86be327466214f4df1c5\n",
      "something is wrong w/ /home/bcjexu/maxcut-80/bespoke-gnn4do/training_runs/LiftMP_runs/paramhash:d2bc10957e929e74758de99e09fafde195b61fd50a5015286e437c6db3d43d79\n",
      "something is wrong w/ /home/bcjexu/maxcut-80/bespoke-gnn4do/training_runs/LiftMP_runs/paramhash:45ee0a0339bd9f0fab4dfec6f14be4e825d62c5930ed8fd64c1324bf8858d118\n",
      "something is wrong w/ /home/bcjexu/maxcut-80/bespoke-gnn4do/training_runs/LiftMP_runs/paramhash:2e1bea36706c48be87a29dff79e3f8aff7cdb7007b8906274facc71afbd46a40\n",
      "something is wrong w/ /home/bcjexu/maxcut-80/bespoke-gnn4do/training_runs/LiftMP_runs/paramhash:2b5458de739f2a2e7cbb158bdaeb93e325b9a826659fd35ae76ca9e631efc968\n",
      "something is wrong w/ /home/bcjexu/maxcut-80/bespoke-gnn4do/training_runs/LiftMP_runs/paramhash:1c20c04246eff9848cc2489941bb3697085dfbf71b5de1adbb528cc43363917e\n",
      "something is wrong w/ /home/bcjexu/maxcut-80/bespoke-gnn4do/training_runs/LiftMP_runs/paramhash:4210fa7610260720acbb682d04be9b114a18f6e173578bf65369825347b32ec5\n",
      "something is wrong w/ /home/bcjexu/maxcut-80/bespoke-gnn4do/training_runs/LiftMP_runs/paramhash:47c267686d345addce0895f2cf98ffdeb3532229a949b00226447dbdb1d34478\n",
      "something is wrong w/ /home/bcjexu/maxcut-80/bespoke-gnn4do/training_runs/LiftMP_runs/paramhash:c6125cf43aa70518661dd8f77150af80ccae72f67dabe1c52d160abbfe3e4cbb\n",
      "something is wrong w/ /home/bcjexu/maxcut-80/bespoke-gnn4do/training_runs/LiftMP_runs/paramhash:96dd4f072dfb3e410e34bc2d683acdf0ad06f562658d87ec316658c6acfd9c7c\n",
      "something is wrong w/ /home/bcjexu/maxcut-80/bespoke-gnn4do/training_runs/LiftMP_runs/paramhash:baf180e73b128505f0d4c60cdd743edeb287330804c6c19d9eca5c67454e4d61\n",
      "something is wrong w/ /home/bcjexu/maxcut-80/bespoke-gnn4do/training_runs/LiftMP_runs/paramhash:08e52ddc1fb2ce361174416724693621c42ef84574f93df850c659a2f9c9cc28\n",
      "something is wrong w/ /home/bcjexu/maxcut-80/bespoke-gnn4do/training_runs/LiftMP_runs/paramhash:a0fd2b1384f23a078d6c263f0e91794ed9400b565624018f58de2214131cc58d\n",
      "something is wrong w/ /home/bcjexu/maxcut-80/bespoke-gnn4do/training_runs/LiftMP_runs/paramhash:f543f579cddb43f030fbae008af2cc173daae7981cad348891e9bb27ec2feaf6\n",
      "something is wrong w/ /home/bcjexu/maxcut-80/bespoke-gnn4do/training_runs/LiftMP_runs/paramhash:629763c11d58ce989c770f46782b057574ec6fb4194f2e9bac921d28424c8fb6\n",
      "something is wrong w/ /home/bcjexu/maxcut-80/bespoke-gnn4do/training_runs/LiftMP_runs/paramhash:1abc5f100677482d63ec30bb4f746f102e12444bf1a49176b59b38a644edad64\n",
      "something is wrong w/ /home/bcjexu/maxcut-80/bespoke-gnn4do/training_runs/LiftMP_runs/paramhash:fed1f8ab6314f1fb2ba099829a81e6b8c3a1aa8f389ab46f0b90e08d854e72bc\n",
      "something is wrong w/ /home/bcjexu/maxcut-80/bespoke-gnn4do/training_runs/LiftMP_runs/paramhash:317aace7134c8b5942bd247dadfbd3e5d59597959ecc3bb7a3f648fdeea9232d\n",
      "something is wrong w/ /home/bcjexu/maxcut-80/bespoke-gnn4do/training_runs/LiftMP_runs/paramhash:1e3e137d30304c2703858516df62e45d3eec09dc900050bf8e5c57ef572289f4\n",
      "something is wrong w/ /home/bcjexu/maxcut-80/bespoke-gnn4do/training_runs/LiftMP_runs/paramhash:74e931e551f08ddc06841fafa99a94a617de49b1309419f7364e5a056b17fda1\n",
      "something is wrong w/ /home/bcjexu/maxcut-80/bespoke-gnn4do/training_runs/LiftMP_runs/paramhash:964c0714dc5783c65d02aa2f035947afd41c703b8b20221c5e662160af1049e6\n",
      "something is wrong w/ /home/bcjexu/maxcut-80/bespoke-gnn4do/training_runs/LiftMP_runs/paramhash:5e8bad56c69230bf373f326f5a384f5fe1828507df7146d860a46c65402c8fa7\n",
      "something is wrong w/ /home/bcjexu/maxcut-80/bespoke-gnn4do/training_runs/LiftMP_runs/paramhash:4effc516eb18769b62f6708f6de7c9b95fba9b3fc2e52948c3d1073c4b9e40da\n"
     ]
    }
   ],
   "source": [
    "import json\n",
    "import pandas as pd\n",
    "import numpy as np\n",
    "import os\n",
    "\n",
    "folder_path = '/home/bcjexu/maxcut-80/bespoke-gnn4do/training_runs'\n",
    "model_list = [os.path.join(folder_path, run_folder, x) for run_folder in run_folders for x in os.listdir(os.path.join(folder_path, run_folder))  ]\n",
    "\n",
    "\n",
    "rows = []\n",
    "\n",
    "errored = []\n",
    "for model_folder in model_list:\n",
    "    try:\n",
    "        with open(os.path.join(model_folder, 'params.txt'), 'r') as f:\n",
    "            model_args = json.load(f)\n",
    "        \n",
    "        losses = np.load(os.path.join(model_folder, 'valid_scores.npy'))\n",
    "        test_losses = np.load(os.path.join(model_folder, 'test_scores.npy'))\n",
    "        modeldict = model_args #{x: model_args[x] for x in params}\n",
    "        #modeldict['max_valid_score'] = max(losses)\n",
    "        #modeldict['max_valid_epoch'] = np.argmax(losses)\n",
    "        modeldict['scores'] = test_losses[np.argmax(losses)]\n",
    "        modeldict['baseline'] = False\n",
    "        modeldict['full_scores'] = losses\n",
    "        modeldict['valid_scores'] = losses\n",
    "        modeldict['test_scores'] = test_losses\n",
    "        modeldict['model_folder'] = model_folder\n",
    "\n",
    "        rows.append(modeldict)\n",
    "        \n",
    "    except:\n",
    "        print(f'something is wrong w/ {model_folder}')\n",
    "        errored.append(model_folder)"
   ]
  },
  {
   "cell_type": "code",
   "execution_count": 38,
   "metadata": {},
   "outputs": [],
   "source": [
    "df = pd.DataFrame.from_records(rows)"
   ]
  },
  {
   "cell_type": "code",
   "execution_count": 39,
   "metadata": {},
   "outputs": [],
   "source": [
    "df.gen_n = df.gen_n.apply(lambda x: min(x) if isinstance(x,list) else x)"
   ]
  },
  {
   "cell_type": "code",
   "execution_count": 52,
   "metadata": {},
   "outputs": [
    {
     "data": {
      "text/plain": [
       "Counter({'ErdosRenyi': 24,\n",
       "         'WattsStrogatz': 24,\n",
       "         'BarabasiAlbert': 24,\n",
       "         'PowerlawCluster': 24,\n",
       "         'IMDB-BINARY': 16,\n",
       "         'ENZYMES': 16,\n",
       "         'MUTAG': 16,\n",
       "         'PROTEINS': 16,\n",
       "         'COLLAB': 12})"
      ]
     },
     "execution_count": 52,
     "metadata": {},
     "output_type": "execute_result"
    }
   ],
   "source": [
    "Counter(df.dataset)"
   ]
  },
  {
   "cell_type": "code",
   "execution_count": 40,
   "metadata": {},
   "outputs": [],
   "source": [
    "bestdf = df.loc[df.groupby(['dataset', 'gen_n'])['scores'].idxmax()]#[relevant_keys]"
   ]
  },
  {
   "cell_type": "code",
   "execution_count": 51,
   "metadata": {},
   "outputs": [
    {
     "data": {
      "text/html": [
       "<div>\n",
       "<style scoped>\n",
       "    .dataframe tbody tr th:only-of-type {\n",
       "        vertical-align: middle;\n",
       "    }\n",
       "\n",
       "    .dataframe tbody tr th {\n",
       "        vertical-align: top;\n",
       "    }\n",
       "\n",
       "    .dataframe thead th {\n",
       "        text-align: right;\n",
       "    }\n",
       "</style>\n",
       "<table border=\"1\" class=\"dataframe\">\n",
       "  <thead>\n",
       "    <tr style=\"text-align: right;\">\n",
       "      <th></th>\n",
       "      <th>dataset</th>\n",
       "      <th>gen_n</th>\n",
       "      <th>positional_encoding</th>\n",
       "      <th>pe_dimension</th>\n",
       "    </tr>\n",
       "  </thead>\n",
       "  <tbody>\n",
       "    <tr>\n",
       "      <th>52</th>\n",
       "      <td>BarabasiAlbert</td>\n",
       "      <td>50</td>\n",
       "      <td>random_walk</td>\n",
       "      <td>8</td>\n",
       "    </tr>\n",
       "    <tr>\n",
       "      <th>155</th>\n",
       "      <td>BarabasiAlbert</td>\n",
       "      <td>100</td>\n",
       "      <td>random_walk</td>\n",
       "      <td>8</td>\n",
       "    </tr>\n",
       "    <tr>\n",
       "      <th>150</th>\n",
       "      <td>BarabasiAlbert</td>\n",
       "      <td>400</td>\n",
       "      <td>random_walk</td>\n",
       "      <td>4</td>\n",
       "    </tr>\n",
       "    <tr>\n",
       "      <th>36</th>\n",
       "      <td>COLLAB</td>\n",
       "      <td>100</td>\n",
       "      <td>random_walk</td>\n",
       "      <td>4</td>\n",
       "    </tr>\n",
       "    <tr>\n",
       "      <th>2</th>\n",
       "      <td>ENZYMES</td>\n",
       "      <td>100</td>\n",
       "      <td>random_walk</td>\n",
       "      <td>8</td>\n",
       "    </tr>\n",
       "    <tr>\n",
       "      <th>13</th>\n",
       "      <td>ErdosRenyi</td>\n",
       "      <td>50</td>\n",
       "      <td>random_walk</td>\n",
       "      <td>4</td>\n",
       "    </tr>\n",
       "    <tr>\n",
       "      <th>59</th>\n",
       "      <td>ErdosRenyi</td>\n",
       "      <td>100</td>\n",
       "      <td>random_walk</td>\n",
       "      <td>4</td>\n",
       "    </tr>\n",
       "    <tr>\n",
       "      <th>171</th>\n",
       "      <td>ErdosRenyi</td>\n",
       "      <td>400</td>\n",
       "      <td>random_walk</td>\n",
       "      <td>8</td>\n",
       "    </tr>\n",
       "    <tr>\n",
       "      <th>24</th>\n",
       "      <td>IMDB-BINARY</td>\n",
       "      <td>100</td>\n",
       "      <td>random_walk</td>\n",
       "      <td>16</td>\n",
       "    </tr>\n",
       "    <tr>\n",
       "      <th>7</th>\n",
       "      <td>MUTAG</td>\n",
       "      <td>100</td>\n",
       "      <td>random_walk</td>\n",
       "      <td>8</td>\n",
       "    </tr>\n",
       "    <tr>\n",
       "      <th>62</th>\n",
       "      <td>PROTEINS</td>\n",
       "      <td>100</td>\n",
       "      <td>laplacian_eigenvector</td>\n",
       "      <td>2</td>\n",
       "    </tr>\n",
       "    <tr>\n",
       "      <th>40</th>\n",
       "      <td>PowerlawCluster</td>\n",
       "      <td>50</td>\n",
       "      <td>random_walk</td>\n",
       "      <td>8</td>\n",
       "    </tr>\n",
       "    <tr>\n",
       "      <th>123</th>\n",
       "      <td>PowerlawCluster</td>\n",
       "      <td>100</td>\n",
       "      <td>random_walk</td>\n",
       "      <td>8</td>\n",
       "    </tr>\n",
       "    <tr>\n",
       "      <th>138</th>\n",
       "      <td>PowerlawCluster</td>\n",
       "      <td>400</td>\n",
       "      <td>random_walk</td>\n",
       "      <td>4</td>\n",
       "    </tr>\n",
       "    <tr>\n",
       "      <th>134</th>\n",
       "      <td>WattsStrogatz</td>\n",
       "      <td>50</td>\n",
       "      <td>random_walk</td>\n",
       "      <td>4</td>\n",
       "    </tr>\n",
       "    <tr>\n",
       "      <th>60</th>\n",
       "      <td>WattsStrogatz</td>\n",
       "      <td>100</td>\n",
       "      <td>random_walk</td>\n",
       "      <td>4</td>\n",
       "    </tr>\n",
       "    <tr>\n",
       "      <th>89</th>\n",
       "      <td>WattsStrogatz</td>\n",
       "      <td>400</td>\n",
       "      <td>random_walk</td>\n",
       "      <td>8</td>\n",
       "    </tr>\n",
       "  </tbody>\n",
       "</table>\n",
       "</div>"
      ],
      "text/plain": [
       "             dataset  gen_n    positional_encoding  pe_dimension\n",
       "52    BarabasiAlbert     50            random_walk             8\n",
       "155   BarabasiAlbert    100            random_walk             8\n",
       "150   BarabasiAlbert    400            random_walk             4\n",
       "36            COLLAB    100            random_walk             4\n",
       "2            ENZYMES    100            random_walk             8\n",
       "13        ErdosRenyi     50            random_walk             4\n",
       "59        ErdosRenyi    100            random_walk             4\n",
       "171       ErdosRenyi    400            random_walk             8\n",
       "24       IMDB-BINARY    100            random_walk            16\n",
       "7              MUTAG    100            random_walk             8\n",
       "62          PROTEINS    100  laplacian_eigenvector             2\n",
       "40   PowerlawCluster     50            random_walk             8\n",
       "123  PowerlawCluster    100            random_walk             8\n",
       "138  PowerlawCluster    400            random_walk             4\n",
       "134    WattsStrogatz     50            random_walk             4\n",
       "60     WattsStrogatz    100            random_walk             4\n",
       "89     WattsStrogatz    400            random_walk             8"
      ]
     },
     "execution_count": 51,
     "metadata": {},
     "output_type": "execute_result"
    }
   ],
   "source": [
    "bestdf[['dataset', 'gen_n', 'positional_encoding', 'pe_dimension']]"
   ]
  },
  {
   "cell_type": "code",
   "execution_count": 42,
   "metadata": {},
   "outputs": [
    {
     "data": {
      "text/plain": [
       "Counter({'ErdosRenyi': 24,\n",
       "         'WattsStrogatz': 24,\n",
       "         'BarabasiAlbert': 24,\n",
       "         'PowerlawCluster': 24,\n",
       "         'IMDB-BINARY': 16,\n",
       "         'ENZYMES': 16,\n",
       "         'MUTAG': 16,\n",
       "         'PROTEINS': 16,\n",
       "         'COLLAB': 12})"
      ]
     },
     "execution_count": 42,
     "metadata": {},
     "output_type": "execute_result"
    }
   ],
   "source": [
    "from collections import Counter\n",
    "Counter(df.dataset)"
   ]
  },
  {
   "cell_type": "code",
   "execution_count": 47,
   "metadata": {},
   "outputs": [
    {
     "name": "stdout",
     "output_type": "stream",
     "text": [
      "\"/home/bcjexu/maxcut-80/bespoke-gnn4do/training_runs/LiftMP_runs/paramhash:c259ee991d44601a24495085d478929b226e94ca5ffc2a75ab739957d94da4b0/best_model.pt\"\n",
      "\"/home/bcjexu/maxcut-80/bespoke-gnn4do/training_runs/LiftMP_runs/paramhash:9ede9cd33a4971c3246500914847936dbc9690bd4c05a450cdef0d6146b815f4/best_model.pt\"\n",
      "\"/home/bcjexu/maxcut-80/bespoke-gnn4do/training_runs/LiftMP_runs/paramhash:631e9afcf3bd0330c4f9625392cc0b183926a43b2ba3d8c5d8fbaf91c779dc90/best_model.pt\"\n"
     ]
    }
   ],
   "source": [
    "er = bestdf[bestdf['dataset'] == 'ErdosRenyi']\n",
    "for x in er.model_folder:\n",
    "    print(f\"\\\"{os.path.join(x, 'best_model.pt')}\\\"\")"
   ]
  },
  {
   "cell_type": "code",
   "execution_count": null,
   "metadata": {},
   "outputs": [],
   "source": []
  }
 ],
 "metadata": {
  "kernelspec": {
   "display_name": "maxcut-802",
   "language": "python",
   "name": "python3"
  },
  "language_info": {
   "codemirror_mode": {
    "name": "ipython",
    "version": 3
   },
   "file_extension": ".py",
   "mimetype": "text/x-python",
   "name": "python",
   "nbconvert_exporter": "python",
   "pygments_lexer": "ipython3",
   "version": "3.11.3"
  },
  "orig_nbformat": 4
 },
 "nbformat": 4,
 "nbformat_minor": 2
}
