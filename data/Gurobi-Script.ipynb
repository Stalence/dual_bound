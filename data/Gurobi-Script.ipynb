{
 "cells": [
  {
   "attachments": {},
   "cell_type": "markdown",
   "metadata": {},
   "source": [
    "## IMPORTS"
   ]
  },
  {
   "cell_type": "code",
   "execution_count": 1,
   "metadata": {},
   "outputs": [
    {
     "name": "stderr",
     "output_type": "stream",
     "text": [
      "/mnt/scratch/lts2/karalias/envs/nfe/lib/python3.8/site-packages/tqdm/auto.py:22: TqdmWarning: IProgress not found. Please update jupyter and ipywidgets. See https://ipywidgets.readthedocs.io/en/stable/user_install.html\n",
      "  from .autonotebook import tqdm as notebook_tqdm\n"
     ]
    },
    {
     "name": "stdout",
     "output_type": "stream",
     "text": [
      "env: CUDA_LAUNCH_BLOCKING=1\n"
     ]
    }
   ],
   "source": [
    "import os\n",
    "os.environ[\"CUDA_DEVICE_ORDER\"]=\"PCI_BUS_ID\"   # see issue #152\n",
    "os.environ[\"CUDA_VISIBLE_DEVICES\"]= \"0\" #imports\n",
    "#imports\n",
    "import torch\n",
    "import torch.nn.functional as F\n",
    "%config Completer.use_jedi = False\n",
    "\n",
    "%env CUDA_LAUNCH_BLOCKING 1"
   ]
  },
  {
   "cell_type": "code",
   "execution_count": 2,
   "metadata": {},
   "outputs": [
    {
     "name": "stderr",
     "output_type": "stream",
     "text": [
      "/tmp/ipykernel_1040195/495279268.py:1: DeprecationWarning: Importing display from IPython.core.display is deprecated since IPython 7.14, please import from IPython display\n",
      "  from IPython.core.display import display, HTML\n"
     ]
    },
    {
     "data": {
      "text/html": [
       "<style>.container { width:85% !important; }</style>"
      ],
      "text/plain": [
       "<IPython.core.display.HTML object>"
      ]
     },
     "metadata": {},
     "output_type": "display_data"
    }
   ],
   "source": [
    "from IPython.core.display import display, HTML\n",
    "display(HTML(\"<style>.container { width:85% !important; }</style>\"))"
   ]
  },
  {
   "cell_type": "code",
   "execution_count": 12,
   "metadata": {},
   "outputs": [],
   "source": [
    "from matplotlib import pyplot as plt\n",
    "from torch_geometric.utils.convert import from_networkx\n",
    "import networkx as nx\n",
    "import gurobipy as gp\n",
    "from gurobipy import GRB\n",
    "import numpy as np\n",
    "import torch_geometric\n",
    "from torch_geometric.data import DataLoader, DenseDataLoader as DenseLoader\n",
    "from torch_geometric.utils import softmax, add_self_loops, remove_self_loops, segregate_self_loops, remove_isolated_nodes, contains_isolated_nodes, add_remaining_self_loops\n",
    "from torch_geometric.utils import dropout_adj, to_undirected, to_networkx\n",
    "from torch_geometric.utils import is_undirected\n",
    "from torch_geometric.datasets import TUDataset\n",
    "from networkx.algorithms.approximation import max_clique\n",
    "from torch_geometric.data import DataListLoader\n",
    "from networkx.algorithms.approximation import max_clique\n",
    "from networkx.algorithms import graph_clique_number\n",
    "from networkx.algorithms import find_cliques"
   ]
  },
  {
   "cell_type": "code",
   "execution_count": 13,
   "metadata": {},
   "outputs": [],
   "source": [
    "#Solve using a networkx object\n",
    "def solve_gurobi_mis(nx_graph, costs=None, time_limit = None):\n",
    "\n",
    "    x_vars = {}\n",
    "    c_vars = {}\n",
    "    m = gp.Model(\"mip1\")\n",
    "    m.params.OutputFlag = 0\n",
    "\n",
    "    if time_limit:\n",
    "        m.params.TimeLimit = time_limit\n",
    "\n",
    "    for node in nx_graph.nodes():\n",
    "        x_vars['x_'+str(node)] = m.addVar(vtype=GRB.BINARY, name=\"x_\"+str(node))\n",
    "    \n",
    "\n",
    "    count_edges = 0\n",
    "    for edge in nx_graph.edges():\n",
    "        m.addConstr(x_vars['x_'+str(edge[0])] + x_vars['x_'+str(edge[1])] <= 1,'c_'+str(count_edges))\n",
    "        count_edges+=1\n",
    "    if costs:\n",
    "        m.setObjective(sum([x_vars['x_'+str(node)]*costs[node] for node in nx_graph.nodes()]), GRB.MAXIMIZE)\n",
    "    else:\n",
    "        m.setObjective(sum([x_vars['x_'+str(node)] for node in nx_graph.nodes()]), GRB.MAXIMIZE)\n",
    "\n",
    "\n",
    "\n",
    "    # Optimize model\n",
    "    m.optimize();\n",
    "\n",
    "    set_size = m.objVal;\n",
    "    x_vals = [var.x for var in m.getVars()] \n",
    "\n",
    "    return set_size, x_vals"
   ]
  },
  {
   "cell_type": "code",
   "execution_count": 14,
   "metadata": {},
   "outputs": [],
   "source": [
    "def solve_gurobi_maxclique(nx_graph, costs = None, time_limit = None):\n",
    "    nx_complement = nx.operators.complement(nx_graph)\n",
    "    nx_graph = nx_complement\n",
    "    x_vars = {}\n",
    "    c_vars = {}\n",
    "    m = gp.Model(\"mip1\")\n",
    "    m.params.OutputFlag = 0\n",
    "\n",
    "    if time_limit:\n",
    "        m.params.TimeLimit = time_limit\n",
    "\n",
    "    for node in nx_graph.nodes():\n",
    "        x_vars['x_'+str(node)] = m.addVar(vtype=GRB.BINARY, name=\"x_\"+str(node))\n",
    "  \n",
    "\n",
    "\n",
    "    count_edges = 0\n",
    "    for edge in nx_graph.edges():\n",
    "        m.addConstr(x_vars['x_'+str(edge[0])] + x_vars['x_'+str(edge[1])] <= 1,'c_'+str(count_edges))\n",
    "        count_edges+=1\n",
    "    \n",
    "    if costs:\n",
    "        m.setObjective(sum([x_vars['x_'+str(node)]*costs[node] for node in nx_graph.nodes()]), GRB.MAXIMIZE)\n",
    "    else:\n",
    "        m.setObjective(sum([x_vars['x_'+str(node)] for node in nx_graph.nodes()]), GRB.MAXIMIZE)\n",
    "\n",
    "\n",
    "\n",
    "\n",
    "    # Optimize model\n",
    "    m.optimize();\n",
    "\n",
    "    set_size = m.objVal;\n",
    "    x_vals = [var.x for var in m.getVars()] \n",
    "\n",
    "    return set_size, x_vals"
   ]
  },
  {
   "cell_type": "code",
   "execution_count": 15,
   "metadata": {},
   "outputs": [],
   "source": [
    "def solve_gurobi_minvertcover(nx_graph, time_limit = None):\n",
    "    nx_complement = nx.operators.complement(nx_graph)\n",
    "    x_vars = {}\n",
    "    m = gp.Model(\"mip1\")\n",
    "    m.params.OutputFlag=0\n",
    "\n",
    "    if time_limit:\n",
    "        m.params.TimeLimit = time_limit\n",
    "\n",
    "    for node in nx_complement.nodes():\n",
    "        x_vars['x_'+str(node)] = m.addVar(vtype=GRB.BINARY, name=\"x_\"+str(node))\n",
    "\n",
    "    count_edges = 0\n",
    "    for edge in nx_complement.edges():\n",
    "        m.addConstr(x_vars['x_'+str(edge[0])] + x_vars['x_'+str(edge[1])] >= 1,'c_'+str(count_edges))\n",
    "        count_edges+=1\n",
    "    m.setObjective(sum([x_vars['x_'+str(node)] for node in nx_complement.nodes()]), GRB.MINIMIZE);\n",
    "\n",
    "    # Optimize model\n",
    "    m.optimize();\n",
    "\n",
    "    set_size = m.objVal;\n",
    "    x_vals = [var.x for var in m.getVars()] \n",
    "\n",
    "    return set_size, x_vals"
   ]
  },
  {
   "cell_type": "code",
   "execution_count": 16,
   "metadata": {},
   "outputs": [],
   "source": [
    "#Solve directly from pytorch geometric object\n",
    "def solve_gurobi_maxcut(pyg_graph_data, time_limit = None):\n",
    "    # Create a new model\n",
    "\n",
    "    m = gp.Model(\"maxcut\")\n",
    "    m.params.OutputFlag = 0\n",
    "\n",
    "    # time limit in seconds, if applicable\n",
    "    if time_limit:\n",
    "        m.params.TimeLimit = time_limit\n",
    "    \n",
    "    # Set up node variables\n",
    "    x_vars = {}\n",
    "    for i in range(pyg_graph_data.num_nodes):\n",
    "        x_vars[\"x_\" + str(i)] = m.addVar(vtype=GRB.BINARY, name=\"x_\" + str(i))\n",
    "\n",
    "    r,c = pyg_graph_data.edge_index\n",
    "    # Set objective\n",
    "    obj = gp.QuadExpr()\n",
    "    #Iterate over edges to compute (x_i - x_j)**2 for each edge (i,j) and sum it all up\n",
    "    for source, target in zip(r,c):\n",
    "        qi_qj = (x_vars['x_' + str(source.item())] - x_vars['x_' + str(target.item())])\n",
    "        obj += qi_qj * qi_qj / 2\n",
    "    m.setObjective(obj, GRB.MAXIMIZE)\n",
    "\n",
    "    # Optimize model\n",
    "    m.optimize()\n",
    "\n",
    "    set_size = m.objVal\n",
    "    x_vals = [var.x for var in m.getVars()] \n",
    "\n",
    "    return set_size, x_vals"
   ]
  },
  {
   "cell_type": "markdown",
   "metadata": {},
   "source": [
    "## Maxcut example"
   ]
  },
  {
   "cell_type": "code",
   "execution_count": 17,
   "metadata": {},
   "outputs": [],
   "source": [
    "  #Load  dataset\n",
    "dataset = TUDataset(root='/tmp/'+'PROTEINS', name='PROTEINS')\n",
    "dataset = list(dataset)\n",
    "mini_dataset = dataset[:10]"
   ]
  },
  {
   "cell_type": "code",
   "execution_count": 18,
   "metadata": {},
   "outputs": [],
   "source": [
    "#get gurobi maxcuts (only for the first few graphs as an example)\n",
    "for data in mini_dataset:\n",
    "    r,c = data.edge_index\n",
    "    cut_size, optimal_set = solve_gurobi_maxcut(data)\n",
    "    vertcover_size, optimal_set = solve_gurobi_minvertcover(to_networkx(data))\n",
    "    clique_size, optimal_set = solve_gurobi_maxclique(to_networkx(data))\n",
    "    mis_size, optimal_set = solve_gurobi_mis(to_networkx(data), None)\n",
    "    data.max_cut = cut_size\n",
    "    data.min_vertcover = vertcover_size\n",
    "    data.max_clique = clique_size\n",
    "    data.mis_size = mis_size"
   ]
  },
  {
   "cell_type": "code",
   "execution_count": null,
   "metadata": {},
   "outputs": [],
   "source": []
  },
  {
   "cell_type": "code",
   "execution_count": null,
   "metadata": {},
   "outputs": [],
   "source": []
  },
  {
   "cell_type": "code",
   "execution_count": null,
   "metadata": {},
   "outputs": [],
   "source": []
  }
 ],
 "metadata": {
  "kernelspec": {
   "display_name": "Python 3",
   "language": "python",
   "name": "python3"
  },
  "language_info": {
   "codemirror_mode": {
    "name": "ipython",
    "version": 3
   },
   "file_extension": ".py",
   "mimetype": "text/x-python",
   "name": "python",
   "nbconvert_exporter": "python",
   "pygments_lexer": "ipython3",
   "version": "3.8.13"
  },
  "vscode": {
   "interpreter": {
    "hash": "0e05d59f657a364f03308f37a9206f937286d15320c19782c29632429d4e08a8"
   }
  }
 },
 "nbformat": 4,
 "nbformat_minor": 4
}
